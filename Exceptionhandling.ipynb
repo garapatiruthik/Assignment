{
 "cells": [
  {
   "cell_type": "code",
   "execution_count": 1,
   "id": "6fdc88ea-092c-48aa-89cc-573c3d65f756",
   "metadata": {},
   "outputs": [
    {
     "name": "stdout",
     "output_type": "stream",
     "text": [
      "1Q. What is an exception in python differnce between exception and syntax error?\n",
      "\n",
      "\n",
      "Ans.In Python, an exception is an event that occurs during the execution of a program that disrupts the normal flow of the program's instructions. When a Python script encounters an error that it cannot cope with, it raises an exception. Exceptions can be raised intentionally by the programmer or occur unintentionally due to errors in the code, such as attempting to divide by zero, accessing an undefined variable, or attempting to open a file that does not exist.On the other hand, a syntax error occurs when the Python parser encounters invalid syntax in the code. These errors prevent the interpreter from executing the code because it cannot understand the instructions given.\n",
      "Syntax errors often occur due to misspellings, missing punctuation,or incorrect usage of Python language elements. \n",
      "Examples of syntax errors include missing colons at the end of control flow statements (like if, for, while), missing parentheses, or incorrect indentation\n"
     ]
    }
   ],
   "source": [
    "print(\"1Q. What is an exception in python differnce between exception and syntax error?\\n\\n\")\n",
    "print(\"Ans.In Python, an exception is an event that occurs during the execution of a program that disrupts the normal flow of the program's instructions. When a Python script encounters an error that it cannot cope with, it raises an exception. Exceptions can be raised intentionally by the programmer or occur unintentionally due to errors in the code, such as attempting to divide by zero, accessing an undefined variable, or attempting to open a file that does not exist.On the other hand, a syntax error occurs when the Python parser encounters invalid syntax in the code. These errors prevent the interpreter from executing the code because it cannot understand the instructions given.\\nSyntax errors often occur due to misspellings, missing punctuation,or incorrect usage of Python language elements. \\nExamples of syntax errors include missing colons at the end of control flow statements (like if, for, while), missing parentheses, or incorrect indentation\")"
   ]
  },
  {
   "cell_type": "code",
   "execution_count": 2,
   "id": "2ca8b030-bb5d-4934-8d87-9c5fb914e593",
   "metadata": {},
   "outputs": [
    {
     "name": "stdout",
     "output_type": "stream",
     "text": [
      "2Q. What happens when an exception is not handled explain with an example?\n",
      "\n",
      "Ans. When an exception is not handled then we'll get an error and thecode gets crashed such that the consecutive or next lines of the code will not be executed further.\n",
      "An example for than is given below in which we are getting an exception because of dividing by 0.\n"
     ]
    }
   ],
   "source": [
    "print(\"2Q. What happens when an exception is not handled explain with an example?\")\n",
    "print(\"\\nAns. When an exception is not handled then we'll get an error and thecode gets crashed such that the consecutive or next lines of the code will not be executed further.\\nAn example for than is given below in which we are getting an exception because of dividing by 0.\")"
   ]
  },
  {
   "cell_type": "code",
   "execution_count": 3,
   "id": "20fe8fc8-be8c-4491-a103-ed45cb96f686",
   "metadata": {},
   "outputs": [
    {
     "ename": "ZeroDivisionError",
     "evalue": "division by zero",
     "output_type": "error",
     "traceback": [
      "\u001b[0;31m---------------------------------------------------------------------------\u001b[0m",
      "\u001b[0;31mZeroDivisionError\u001b[0m                         Traceback (most recent call last)",
      "Cell \u001b[0;32mIn[3], line 3\u001b[0m\n\u001b[1;32m      1\u001b[0m a\u001b[38;5;241m=\u001b[39m\u001b[38;5;241m5\u001b[39m\n\u001b[1;32m      2\u001b[0m a\n\u001b[0;32m----> 3\u001b[0m b\u001b[38;5;241m=\u001b[39m\u001b[43ma\u001b[49m\u001b[38;5;241;43m/\u001b[39;49m\u001b[38;5;241;43m0\u001b[39;49m\n\u001b[1;32m      4\u001b[0m b\n",
      "\u001b[0;31mZeroDivisionError\u001b[0m: division by zero"
     ]
    }
   ],
   "source": [
    "a=5\n",
    "a\n",
    "b=a/0\n",
    "b"
   ]
  },
  {
   "cell_type": "code",
   "execution_count": 4,
   "id": "46c8ec1a-12ea-49ae-a6d9-5e3876945661",
   "metadata": {},
   "outputs": [
    {
     "name": "stdout",
     "output_type": "stream",
     "text": [
      "3Q.which python statements are used to catch and handle exceptions\n",
      "\n",
      "ans. In python the try block is used to catch the exception. 5n try block we'll write code which may contain an exception.\n",
      "The catch block is used to handle te exception , it specifies what to do or print message when an exception is generated.\n"
     ]
    }
   ],
   "source": [
    "print(\"3Q.which python statements are used to catch and handle exceptions\\n\")\n",
    "print(\"ans. In python the try block is used to catch the exception. 5n try block we'll write code which may contain an exception.\\nThe catch block is used to handle te exception , it specifies what to do or print message when an exception is generated.\")"
   ]
  },
  {
   "cell_type": "code",
   "execution_count": 7,
   "id": "25cb619a-52c7-49af-a293-fcfc02e47e7d",
   "metadata": {},
   "outputs": [
    {
     "name": "stdout",
     "output_type": "stream",
     "text": [
      "4Q. Explain with an example\n",
      " i. try and else\n",
      "ii. finally\n",
      "iii. raise\n",
      "\n",
      "Ans. The try block contains the part of code which may contain an exception, it catches that particular exception\n",
      " And the else block is the block of code which is executed only if the try block doen't contains any exceptiom\n",
      "\n",
      " the finally block is used to excute the part of code , despite there occurs an exception or not in the try block.\n",
      "\n",
      "Raise is used to raise an exception in python using a definition or a function in the code.\n",
      "An example given below\n"
     ]
    }
   ],
   "source": [
    "print(\"4Q. Explain with an example\\n i. try and else\\nii. finally\\niii. raise\\n\")\n",
    "print(\"Ans. The try block contains the part of code which may contain an exception, it catches that particular exception\\n And the else block is the block of code which is executed only if the try block doen't contains any exceptiom\\n\\n the finally block is used to excute the part of code , despite there occurs an exception or not in the try block.\\n\\nRaise is used to raise an exception in python using a definition or a function in the code.\\nAn example given below\")"
   ]
  },
  {
   "cell_type": "code",
   "execution_count": 15,
   "id": "4057b1f3-33f2-4364-959c-8ce0969711a0",
   "metadata": {},
   "outputs": [
    {
     "name": "stdout",
     "output_type": "stream",
     "text": [
      "error arised\n",
      "block of code which will be printed in any circumstances\n"
     ]
    }
   ],
   "source": [
    "def divide(a, b):\n",
    "    if b==0 :\n",
    "        raise ZeroDivisionError(\"Can't divide by zero\")\n",
    "    return x/y\n",
    "try:\n",
    "    result=divide(12,0)\n",
    "    print(\"Result is: \"+result)\n",
    "except ZeroDivisionError:\n",
    "    print(\"error arised\")\n",
    "else:\n",
    "    print(\"There is no error\")\n",
    "finally:\n",
    "    print(\"block of code which will be printed in any circumstances\")\n",
    "    \n",
    "    "
   ]
  },
  {
   "cell_type": "code",
   "execution_count": 22,
   "id": "ad825d96-7c03-4653-b7a1-1179bada23d4",
   "metadata": {},
   "outputs": [
    {
     "name": "stdout",
     "output_type": "stream",
     "text": [
      "5Q. What are Custom Exceptions in python? What do we need Custom Exceptions? Explain with an exmple\n",
      "\n",
      "Ans.User defined exceptions are known as custom exception in which we can define our own eception. Stating whether in which situations they may arise\n",
      "\n",
      "in the below code we have a class called 'rerr' which is an exception class, having a method to check whether the person of that can vote or not, if not it will raise an error using the except block of the code . \n",
      " The try block is used to try the ethod .\n",
      "\n",
      " Since the try block has an error ,the code in the else block will be excuted.\n",
      "\n",
      " Finally will be executed in any circumstances. so, it prints that anyone can watch the election despite of their age\n"
     ]
    }
   ],
   "source": [
    "print(\"5Q. What are Custom Exceptions in python? What do we need Custom Exceptions? Explain with an exmple\\n\\nAns.User defined exceptions are known as custom exception in which we can define our own eception. Stating whether in which situations they may arise\")\n",
    "print(\"\\nin the below code we have a class called 'rerr' which is an exception class, having a method to check whether the person of that can vote or not, if not it will raise an error using the except block of the code . \\n The try block is used to try the ethod .\\n\\n Since the try block has an error ,the code in the else block will be excuted.\\n\\n Finally will be executed in any circumstances. so, it prints that anyone can watch the election despite of their age\")"
   ]
  },
  {
   "cell_type": "code",
   "execution_count": 21,
   "id": "90e531c3-e082-4141-8252-1a0048e207f3",
   "metadata": {},
   "outputs": [
    {
     "name": "stdout",
     "output_type": "stream",
     "text": [
      "Not eligible to vote\n",
      "Can watch the election\n"
     ]
    }
   ],
   "source": [
    "print(\"6.Create a custom exception class. Use this class to handle an exception.\\n Ans.\\n \")\n",
    "class rerr(Exception):\n",
    "    pass\n",
    "def method(a):\n",
    "    if a<18:\n",
    "        raise rerr(\"Not eligible to vote\")\n",
    "        \n",
    "try:\n",
    "    result=method(17)\n",
    "except rerr as e:\n",
    "    print(\"Not eligible to vote\")\n",
    "else:\n",
    "    print(\"Elgible to vote\")\n",
    "finally:\n",
    "    print(\"Can watch the election\")"
   ]
  }
 ],
 "metadata": {
  "kernelspec": {
   "display_name": "Python 3 (ipykernel)",
   "language": "python",
   "name": "python3"
  },
  "language_info": {
   "codemirror_mode": {
    "name": "ipython",
    "version": 3
   },
   "file_extension": ".py",
   "mimetype": "text/x-python",
   "name": "python",
   "nbconvert_exporter": "python",
   "pygments_lexer": "ipython3",
   "version": "3.10.8"
  }
 },
 "nbformat": 4,
 "nbformat_minor": 5
}

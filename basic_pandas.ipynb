{
 "cells": [
  {
   "cell_type": "code",
   "execution_count": 4,
   "id": "85abb995-cdd7-4bae-b0dd-c46e8c6250ae",
   "metadata": {},
   "outputs": [],
   "source": [
    "import pandas as pd"
   ]
  },
  {
   "cell_type": "code",
   "execution_count": 2,
   "id": "21473000-d0f4-4727-bfde-b9fd543fe81e",
   "metadata": {},
   "outputs": [
    {
     "name": "stdout",
     "output_type": "stream",
     "text": [
      "Requirement already satisfied: pandas in /opt/conda/lib/python3.10/site-packages (1.5.2)\n",
      "Requirement already satisfied: python-dateutil>=2.8.1 in /opt/conda/lib/python3.10/site-packages (from pandas) (2.8.2)\n",
      "Requirement already satisfied: pytz>=2020.1 in /opt/conda/lib/python3.10/site-packages (from pandas) (2022.6)\n",
      "Requirement already satisfied: numpy>=1.21.0 in /opt/conda/lib/python3.10/site-packages (from pandas) (1.23.5)\n",
      "Requirement already satisfied: six>=1.5 in /opt/conda/lib/python3.10/site-packages (from python-dateutil>=2.8.1->pandas) (1.16.0)\n",
      "Note: you may need to restart the kernel to use updated packages.\n"
     ]
    }
   ],
   "source": [
    "pip install pandas"
   ]
  },
  {
   "cell_type": "code",
   "execution_count": 11,
   "id": "8373cbbe-4523-49bf-9f45-65773254b4d5",
   "metadata": {},
   "outputs": [
    {
     "name": "stdout",
     "output_type": "stream",
     "text": [
      "1Q. Create a Pandas Series that contains the following data: 4, 8, 15, 16, 23, and 42. Then, print the series\n",
      "Ans.\n"
     ]
    }
   ],
   "source": [
    "print(\"1Q. Create a Pandas Series that contains the following data: 4, 8, 15, 16, 23, and 42. Then, print the series\\nAns.\")"
   ]
  },
  {
   "cell_type": "code",
   "execution_count": 10,
   "id": "6bed9423-e831-4acd-8e50-f8d6f5fb20dd",
   "metadata": {},
   "outputs": [
    {
     "name": "stdout",
     "output_type": "stream",
     "text": [
      "0     4\n",
      "1     8\n",
      "2    15\n",
      "3    16\n",
      "4    23\n",
      "5    42\n",
      "dtype: int64\n"
     ]
    }
   ],
   "source": [
    "data = (4,8,15,16,23,42)\n",
    "series = pd.Series(data)\n",
    "print(series)"
   ]
  },
  {
   "cell_type": "code",
   "execution_count": 18,
   "id": "e519dfc0-46f2-4944-9b69-0e98ad5bc722",
   "metadata": {},
   "outputs": [
    {
     "name": "stdout",
     "output_type": "stream",
     "text": [
      "Q2. Create a variable of list type containing 10 elements in it, and apply pandas.Series function on the variable  print it.\n",
      "Ans.\n"
     ]
    }
   ],
   "source": [
    "print(\"Q2. Create a variable of list type containing 10 elements in it, and apply pandas.Series function on the variable  print it.\\nAns.\")"
   ]
  },
  {
   "cell_type": "code",
   "execution_count": 30,
   "id": "ffc1e824-a2de-46c2-8b8a-917fbe9d408a",
   "metadata": {},
   "outputs": [],
   "source": [
    "list = [1,2,3,4]"
   ]
  },
  {
   "cell_type": "code",
   "execution_count": 31,
   "id": "9dc59aa6-beea-4125-8c89-1cbb46946109",
   "metadata": {},
   "outputs": [
    {
     "name": "stdout",
     "output_type": "stream",
     "text": [
      "0    1\n",
      "1    2\n",
      "2    3\n",
      "3    4\n",
      "dtype: int64\n"
     ]
    }
   ],
   "source": [
    "variable = pd.Series(list)\n",
    "print(variable)"
   ]
  },
  {
   "cell_type": "code",
   "execution_count": 19,
   "id": "2b9d46c9-f627-4352-8a53-aa2669544e3a",
   "metadata": {},
   "outputs": [
    {
     "name": "stdout",
     "output_type": "stream",
     "text": [
      "Q3. Create a Pandas DataFrame that contains the following data: , Then print the dataframe.\n",
      "Ans.\n"
     ]
    }
   ],
   "source": [
    "print(\"Q3. Create a Pandas DataFrame that contains the following data: , Then print the dataframe.\\nAns.\")"
   ]
  },
  {
   "cell_type": "code",
   "execution_count": 1,
   "id": "b35b66c0-e535-4220-90a5-08997d602d8f",
   "metadata": {},
   "outputs": [],
   "source": [
    "dict = {\"name\":['Alice','Bob','Clarie'],\"age\":[25,30,27],\"gender\":['Male','Female','Male']}"
   ]
  },
  {
   "cell_type": "code",
   "execution_count": 5,
   "id": "6f5fe64d-31c7-4057-8e35-2c49941c9d0b",
   "metadata": {},
   "outputs": [],
   "source": [
    "df = pd.DataFrame(dict)"
   ]
  },
  {
   "cell_type": "code",
   "execution_count": 8,
   "id": "5c6de7ef-5640-45d7-9091-584293074171",
   "metadata": {},
   "outputs": [
    {
     "name": "stdout",
     "output_type": "stream",
     "text": [
      "Collecting lxml\n",
      "  Downloading lxml-5.1.0-cp310-cp310-manylinux_2_17_x86_64.manylinux2014_x86_64.whl (8.0 MB)\n",
      "\u001b[2K     \u001b[90m━━━━━━━━━━━━━━━━━━━━━━━━━━━━━━━━━━━━━━━━\u001b[0m \u001b[32m8.0/8.0 MB\u001b[0m \u001b[31m58.8 MB/s\u001b[0m eta \u001b[36m0:00:00\u001b[0m00:01\u001b[0m00:01\u001b[0m\n",
      "\u001b[?25hInstalling collected packages: lxml\n",
      "Successfully installed lxml-5.1.0\n",
      "Note: you may need to restart the kernel to use updated packages.\n"
     ]
    }
   ],
   "source": [
    "pip install lxml"
   ]
  },
  {
   "cell_type": "code",
   "execution_count": 6,
   "id": "c91b3d86-0d76-4833-8743-86dfc7ec5024",
   "metadata": {},
   "outputs": [
    {
     "data": {
      "text/html": [
       "<div>\n",
       "<style scoped>\n",
       "    .dataframe tbody tr th:only-of-type {\n",
       "        vertical-align: middle;\n",
       "    }\n",
       "\n",
       "    .dataframe tbody tr th {\n",
       "        vertical-align: top;\n",
       "    }\n",
       "\n",
       "    .dataframe thead th {\n",
       "        text-align: right;\n",
       "    }\n",
       "</style>\n",
       "<table border=\"1\" class=\"dataframe\">\n",
       "  <thead>\n",
       "    <tr style=\"text-align: right;\">\n",
       "      <th></th>\n",
       "      <th>name</th>\n",
       "      <th>age</th>\n",
       "      <th>gender</th>\n",
       "    </tr>\n",
       "  </thead>\n",
       "  <tbody>\n",
       "    <tr>\n",
       "      <th>0</th>\n",
       "      <td>Alice</td>\n",
       "      <td>25</td>\n",
       "      <td>Male</td>\n",
       "    </tr>\n",
       "    <tr>\n",
       "      <th>1</th>\n",
       "      <td>Bob</td>\n",
       "      <td>30</td>\n",
       "      <td>Female</td>\n",
       "    </tr>\n",
       "    <tr>\n",
       "      <th>2</th>\n",
       "      <td>Clarie</td>\n",
       "      <td>27</td>\n",
       "      <td>Male</td>\n",
       "    </tr>\n",
       "  </tbody>\n",
       "</table>\n",
       "</div>"
      ],
      "text/plain": [
       "     name  age  gender\n",
       "0   Alice   25    Male\n",
       "1     Bob   30  Female\n",
       "2  Clarie   27    Male"
      ]
     },
     "execution_count": 6,
     "metadata": {},
     "output_type": "execute_result"
    }
   ],
   "source": [
    "df"
   ]
  },
  {
   "cell_type": "code",
   "execution_count": 21,
   "id": "c3aaa0ec-8335-474b-8cfe-fccdf7d308dd",
   "metadata": {},
   "outputs": [
    {
     "name": "stdout",
     "output_type": "stream",
     "text": [
      "Q4. What is ‘DataFrame’ in pandas and how is it different from pandas.series? Explain with an example.\n",
      "\n",
      "Ans.In pandas, a DataFrame is a two-dimensional labeled data structure with columns of potentially different data types. It can be thought of as a table or spreadsheet-like data structure, similar to a SQL table or an Excel spreadsheet. DataFrames are very versatile and can handle various types of data manipulation and analysis tasks.\n",
      "\n",
      "On the other hand, a pandas Series is a one-dimensional labeled array capable of holding data of any type (integer, string, float, python objects, etc.). It can be thought of as a single column of data in a DataFrame. Series objects also contain an index that labels each element in the array.\n"
     ]
    }
   ],
   "source": [
    "print(\"Q4. What is ‘DataFrame’ in pandas and how is it different from pandas.series? Explain with an example.\\n\\nAns.In pandas, a DataFrame is a two-dimensional labeled data structure with columns of potentially different data types. It can be thought of as a table or spreadsheet-like data structure, similar to a SQL table or an Excel spreadsheet. DataFrames are very versatile and can handle various types of data manipulation and analysis tasks.\\n\\nOn the other hand, a pandas Series is a one-dimensional labeled array capable of holding data of any type (integer, string, float, python objects, etc.). It can be thought of as a single column of data in a DataFrame. Series objects also contain an index that labels each element in the array.\")"
   ]
  },
  {
   "cell_type": "code",
   "execution_count": 22,
   "id": "dbcdd225-8ad6-4bfb-90a4-7951d00a2435",
   "metadata": {},
   "outputs": [],
   "source": [
    "df= pd.DataFrame(dict)"
   ]
  },
  {
   "cell_type": "code",
   "execution_count": 23,
   "id": "793f0223-3a43-4c12-8239-4cec114a43f4",
   "metadata": {},
   "outputs": [
    {
     "data": {
      "text/html": [
       "<div>\n",
       "<style scoped>\n",
       "    .dataframe tbody tr th:only-of-type {\n",
       "        vertical-align: middle;\n",
       "    }\n",
       "\n",
       "    .dataframe tbody tr th {\n",
       "        vertical-align: top;\n",
       "    }\n",
       "\n",
       "    .dataframe thead th {\n",
       "        text-align: right;\n",
       "    }\n",
       "</style>\n",
       "<table border=\"1\" class=\"dataframe\">\n",
       "  <thead>\n",
       "    <tr style=\"text-align: right;\">\n",
       "      <th></th>\n",
       "      <th>name</th>\n",
       "      <th>age</th>\n",
       "      <th>gender</th>\n",
       "    </tr>\n",
       "  </thead>\n",
       "  <tbody>\n",
       "    <tr>\n",
       "      <th>0</th>\n",
       "      <td>Alice</td>\n",
       "      <td>25</td>\n",
       "      <td>Male</td>\n",
       "    </tr>\n",
       "    <tr>\n",
       "      <th>1</th>\n",
       "      <td>Bob</td>\n",
       "      <td>30</td>\n",
       "      <td>Female</td>\n",
       "    </tr>\n",
       "    <tr>\n",
       "      <th>2</th>\n",
       "      <td>Clarie</td>\n",
       "      <td>27</td>\n",
       "      <td>Male</td>\n",
       "    </tr>\n",
       "  </tbody>\n",
       "</table>\n",
       "</div>"
      ],
      "text/plain": [
       "     name  age  gender\n",
       "0   Alice   25    Male\n",
       "1     Bob   30  Female\n",
       "2  Clarie   27    Male"
      ]
     },
     "execution_count": 23,
     "metadata": {},
     "output_type": "execute_result"
    }
   ],
   "source": [
    "df"
   ]
  },
  {
   "cell_type": "code",
   "execution_count": 28,
   "id": "58e8fa27-6544-44f0-a2f1-348349655ed8",
   "metadata": {},
   "outputs": [],
   "source": [
    "data=[1,2,3]\n",
    "age_only = pd.Series(data)"
   ]
  },
  {
   "cell_type": "code",
   "execution_count": 29,
   "id": "d5b4b297-fa92-409d-968c-d28b49e05c21",
   "metadata": {},
   "outputs": [
    {
     "data": {
      "text/plain": [
       "0    1\n",
       "1    2\n",
       "2    3\n",
       "dtype: int64"
      ]
     },
     "execution_count": 29,
     "metadata": {},
     "output_type": "execute_result"
    }
   ],
   "source": [
    "age_only"
   ]
  },
  {
   "cell_type": "code",
   "execution_count": 33,
   "id": "2c074325-b329-4478-9e6a-2e516ec61a10",
   "metadata": {},
   "outputs": [
    {
     "name": "stdout",
     "output_type": "stream",
     "text": [
      "Q5. What are some common functions you can use to manipulate data in a Pandas DataFrame? Can you give an example of when you might use one of these functions?\n",
      "\n",
      "Ans. We can use functions like: head to get the top 5 rows and tail to get the bottom 5 rows,info(): This function provides a concise summary of the DataFrame,describe(): This function computes summary statistics for numerical columns in the DataFrame, such as count, mean.\n"
     ]
    }
   ],
   "source": [
    "print(\"Q5. What are some common functions you can use to manipulate data in a Pandas DataFrame? Can you give an example of when you might use one of these functions?\\n\\nAns. We can use functions like: head to get the top 5 rows and tail to get the bottom 5 rows,info(): This function provides a concise summary of the DataFrame,describe(): This function computes summary statistics for numerical columns in the DataFrame, such as count, mean.\")"
   ]
  },
  {
   "cell_type": "code",
   "execution_count": 34,
   "id": "d0dc90fe-c278-49cb-a1af-0625aa168a4a",
   "metadata": {},
   "outputs": [],
   "source": [
    "url_data = pd.read_html(\"https://en.wikipedia.org/wiki/List_of_million-plus_urban_agglomerations_in_India\")"
   ]
  },
  {
   "cell_type": "code",
   "execution_count": 35,
   "id": "caedc3a4-9f43-48fb-b53b-ef0a824ec99c",
   "metadata": {},
   "outputs": [],
   "source": [
    "df = url_data[0]"
   ]
  },
  {
   "cell_type": "code",
   "execution_count": 36,
   "id": "2615c2de-117f-4333-8b9d-293bf067d976",
   "metadata": {},
   "outputs": [
    {
     "data": {
      "text/html": [
       "<div>\n",
       "<style scoped>\n",
       "    .dataframe tbody tr th:only-of-type {\n",
       "        vertical-align: middle;\n",
       "    }\n",
       "\n",
       "    .dataframe tbody tr th {\n",
       "        vertical-align: top;\n",
       "    }\n",
       "\n",
       "    .dataframe thead th {\n",
       "        text-align: right;\n",
       "    }\n",
       "</style>\n",
       "<table border=\"1\" class=\"dataframe\">\n",
       "  <thead>\n",
       "    <tr style=\"text-align: right;\">\n",
       "      <th></th>\n",
       "      <th>Town/UA</th>\n",
       "      <th>State/UT</th>\n",
       "      <th>Pop. (2023)[8]</th>\n",
       "      <th>Area (km2) (2011)[9]</th>\n",
       "      <th>Pop. (2011)[7]</th>\n",
       "      <th>Pop. (2001)[9]</th>\n",
       "      <th>Pop. (1991)[9]</th>\n",
       "    </tr>\n",
       "  </thead>\n",
       "  <tbody>\n",
       "    <tr>\n",
       "      <th>0</th>\n",
       "      <td>Delhi</td>\n",
       "      <td>Delhi, Haryana, Rajasthan, Uttar Pradesh</td>\n",
       "      <td>31190000</td>\n",
       "      <td>1139.48</td>\n",
       "      <td>16314838</td>\n",
       "      <td>12877470</td>\n",
       "      <td>8419084.0</td>\n",
       "    </tr>\n",
       "    <tr>\n",
       "      <th>1</th>\n",
       "      <td>Mumbai</td>\n",
       "      <td>Maharashtra</td>\n",
       "      <td>25189000</td>\n",
       "      <td>1063.49</td>\n",
       "      <td>18394912</td>\n",
       "      <td>16434386</td>\n",
       "      <td>12596243.0</td>\n",
       "    </tr>\n",
       "    <tr>\n",
       "      <th>2</th>\n",
       "      <td>Kolkata</td>\n",
       "      <td>West Bengal</td>\n",
       "      <td>21747000</td>\n",
       "      <td>1056.13</td>\n",
       "      <td>14112536</td>\n",
       "      <td>13205697</td>\n",
       "      <td>11021918.0</td>\n",
       "    </tr>\n",
       "    <tr>\n",
       "      <th>3</th>\n",
       "      <td>Bangalore</td>\n",
       "      <td>Karnataka</td>\n",
       "      <td>15257000</td>\n",
       "      <td>748.42</td>\n",
       "      <td>8499399</td>\n",
       "      <td>5701446</td>\n",
       "      <td>4130288.0</td>\n",
       "    </tr>\n",
       "    <tr>\n",
       "      <th>4</th>\n",
       "      <td>Chennai</td>\n",
       "      <td>Tamil Nadu</td>\n",
       "      <td>11570000</td>\n",
       "      <td>932.47</td>\n",
       "      <td>8696010</td>\n",
       "      <td>6560242</td>\n",
       "      <td>5421985.0</td>\n",
       "    </tr>\n",
       "    <tr>\n",
       "      <th>...</th>\n",
       "      <td>...</td>\n",
       "      <td>...</td>\n",
       "      <td>...</td>\n",
       "      <td>...</td>\n",
       "      <td>...</td>\n",
       "      <td>...</td>\n",
       "      <td>...</td>\n",
       "    </tr>\n",
       "    <tr>\n",
       "      <th>60</th>\n",
       "      <td>Bhubaneswar</td>\n",
       "      <td>Odisha</td>\n",
       "      <td>1112000</td>\n",
       "      <td>92.91</td>\n",
       "      <td>219211</td>\n",
       "      <td>105491</td>\n",
       "      <td>38211.0</td>\n",
       "    </tr>\n",
       "    <tr>\n",
       "      <th>61</th>\n",
       "      <td>Jammu</td>\n",
       "      <td>Jammu and Kashmir</td>\n",
       "      <td>1103000</td>\n",
       "      <td>198.28</td>\n",
       "      <td>657314</td>\n",
       "      <td>612163</td>\n",
       "      <td>NaN</td>\n",
       "    </tr>\n",
       "    <tr>\n",
       "      <th>62</th>\n",
       "      <td>Solapur</td>\n",
       "      <td>Maharashtra</td>\n",
       "      <td>1082000</td>\n",
       "      <td>178.57</td>\n",
       "      <td>951558</td>\n",
       "      <td>872478</td>\n",
       "      <td>620846.0</td>\n",
       "    </tr>\n",
       "    <tr>\n",
       "      <th>63</th>\n",
       "      <td>Hubli-Dharwad</td>\n",
       "      <td>Karnataka</td>\n",
       "      <td>1062000</td>\n",
       "      <td>213.42</td>\n",
       "      <td>943788</td>\n",
       "      <td>786195</td>\n",
       "      <td>648298.0</td>\n",
       "    </tr>\n",
       "    <tr>\n",
       "      <th>64</th>\n",
       "      <td>Puducherry</td>\n",
       "      <td>Puducherry</td>\n",
       "      <td>1024000</td>\n",
       "      <td>77.26</td>\n",
       "      <td>401437</td>\n",
       "      <td>505959</td>\n",
       "      <td>657209.0</td>\n",
       "    </tr>\n",
       "  </tbody>\n",
       "</table>\n",
       "<p>65 rows × 7 columns</p>\n",
       "</div>"
      ],
      "text/plain": [
       "          Town/UA                                  State/UT  Pop. (2023)[8]  \\\n",
       "0           Delhi  Delhi, Haryana, Rajasthan, Uttar Pradesh        31190000   \n",
       "1          Mumbai                               Maharashtra        25189000   \n",
       "2         Kolkata                               West Bengal        21747000   \n",
       "3       Bangalore                                 Karnataka        15257000   \n",
       "4         Chennai                                Tamil Nadu        11570000   \n",
       "..            ...                                       ...             ...   \n",
       "60    Bhubaneswar                                    Odisha         1112000   \n",
       "61          Jammu                         Jammu and Kashmir         1103000   \n",
       "62        Solapur                               Maharashtra         1082000   \n",
       "63  Hubli-Dharwad                                 Karnataka         1062000   \n",
       "64     Puducherry                                Puducherry         1024000   \n",
       "\n",
       "    Area (km2) (2011)[9]  Pop. (2011)[7]  Pop. (2001)[9]  Pop. (1991)[9]  \n",
       "0                1139.48        16314838        12877470       8419084.0  \n",
       "1                1063.49        18394912        16434386      12596243.0  \n",
       "2                1056.13        14112536        13205697      11021918.0  \n",
       "3                 748.42         8499399         5701446       4130288.0  \n",
       "4                 932.47         8696010         6560242       5421985.0  \n",
       "..                   ...             ...             ...             ...  \n",
       "60                 92.91          219211          105491         38211.0  \n",
       "61                198.28          657314          612163             NaN  \n",
       "62                178.57          951558          872478        620846.0  \n",
       "63                213.42          943788          786195        648298.0  \n",
       "64                 77.26          401437          505959        657209.0  \n",
       "\n",
       "[65 rows x 7 columns]"
      ]
     },
     "execution_count": 36,
     "metadata": {},
     "output_type": "execute_result"
    }
   ],
   "source": [
    "df"
   ]
  },
  {
   "cell_type": "code",
   "execution_count": 37,
   "id": "e8585d93-bc95-4bd9-be0e-21a1443a4939",
   "metadata": {},
   "outputs": [
    {
     "data": {
      "text/html": [
       "<div>\n",
       "<style scoped>\n",
       "    .dataframe tbody tr th:only-of-type {\n",
       "        vertical-align: middle;\n",
       "    }\n",
       "\n",
       "    .dataframe tbody tr th {\n",
       "        vertical-align: top;\n",
       "    }\n",
       "\n",
       "    .dataframe thead th {\n",
       "        text-align: right;\n",
       "    }\n",
       "</style>\n",
       "<table border=\"1\" class=\"dataframe\">\n",
       "  <thead>\n",
       "    <tr style=\"text-align: right;\">\n",
       "      <th></th>\n",
       "      <th>Town/UA</th>\n",
       "      <th>State/UT</th>\n",
       "      <th>Pop. (2023)[8]</th>\n",
       "      <th>Area (km2) (2011)[9]</th>\n",
       "      <th>Pop. (2011)[7]</th>\n",
       "      <th>Pop. (2001)[9]</th>\n",
       "      <th>Pop. (1991)[9]</th>\n",
       "    </tr>\n",
       "  </thead>\n",
       "  <tbody>\n",
       "    <tr>\n",
       "      <th>0</th>\n",
       "      <td>Delhi</td>\n",
       "      <td>Delhi, Haryana, Rajasthan, Uttar Pradesh</td>\n",
       "      <td>31190000</td>\n",
       "      <td>1139.48</td>\n",
       "      <td>16314838</td>\n",
       "      <td>12877470</td>\n",
       "      <td>8419084.0</td>\n",
       "    </tr>\n",
       "    <tr>\n",
       "      <th>1</th>\n",
       "      <td>Mumbai</td>\n",
       "      <td>Maharashtra</td>\n",
       "      <td>25189000</td>\n",
       "      <td>1063.49</td>\n",
       "      <td>18394912</td>\n",
       "      <td>16434386</td>\n",
       "      <td>12596243.0</td>\n",
       "    </tr>\n",
       "    <tr>\n",
       "      <th>2</th>\n",
       "      <td>Kolkata</td>\n",
       "      <td>West Bengal</td>\n",
       "      <td>21747000</td>\n",
       "      <td>1056.13</td>\n",
       "      <td>14112536</td>\n",
       "      <td>13205697</td>\n",
       "      <td>11021918.0</td>\n",
       "    </tr>\n",
       "    <tr>\n",
       "      <th>3</th>\n",
       "      <td>Bangalore</td>\n",
       "      <td>Karnataka</td>\n",
       "      <td>15257000</td>\n",
       "      <td>748.42</td>\n",
       "      <td>8499399</td>\n",
       "      <td>5701446</td>\n",
       "      <td>4130288.0</td>\n",
       "    </tr>\n",
       "    <tr>\n",
       "      <th>4</th>\n",
       "      <td>Chennai</td>\n",
       "      <td>Tamil Nadu</td>\n",
       "      <td>11570000</td>\n",
       "      <td>932.47</td>\n",
       "      <td>8696010</td>\n",
       "      <td>6560242</td>\n",
       "      <td>5421985.0</td>\n",
       "    </tr>\n",
       "  </tbody>\n",
       "</table>\n",
       "</div>"
      ],
      "text/plain": [
       "     Town/UA                                  State/UT  Pop. (2023)[8]  \\\n",
       "0      Delhi  Delhi, Haryana, Rajasthan, Uttar Pradesh        31190000   \n",
       "1     Mumbai                               Maharashtra        25189000   \n",
       "2    Kolkata                               West Bengal        21747000   \n",
       "3  Bangalore                                 Karnataka        15257000   \n",
       "4    Chennai                                Tamil Nadu        11570000   \n",
       "\n",
       "   Area (km2) (2011)[9]  Pop. (2011)[7]  Pop. (2001)[9]  Pop. (1991)[9]  \n",
       "0               1139.48        16314838        12877470       8419084.0  \n",
       "1               1063.49        18394912        16434386      12596243.0  \n",
       "2               1056.13        14112536        13205697      11021918.0  \n",
       "3                748.42         8499399         5701446       4130288.0  \n",
       "4                932.47         8696010         6560242       5421985.0  "
      ]
     },
     "execution_count": 37,
     "metadata": {},
     "output_type": "execute_result"
    }
   ],
   "source": [
    "df.head()"
   ]
  },
  {
   "cell_type": "code",
   "execution_count": 38,
   "id": "56acdc2e-3b58-450e-aa92-2af419ed1b9a",
   "metadata": {},
   "outputs": [
    {
     "data": {
      "text/html": [
       "<div>\n",
       "<style scoped>\n",
       "    .dataframe tbody tr th:only-of-type {\n",
       "        vertical-align: middle;\n",
       "    }\n",
       "\n",
       "    .dataframe tbody tr th {\n",
       "        vertical-align: top;\n",
       "    }\n",
       "\n",
       "    .dataframe thead th {\n",
       "        text-align: right;\n",
       "    }\n",
       "</style>\n",
       "<table border=\"1\" class=\"dataframe\">\n",
       "  <thead>\n",
       "    <tr style=\"text-align: right;\">\n",
       "      <th></th>\n",
       "      <th>Town/UA</th>\n",
       "      <th>State/UT</th>\n",
       "      <th>Pop. (2023)[8]</th>\n",
       "      <th>Area (km2) (2011)[9]</th>\n",
       "      <th>Pop. (2011)[7]</th>\n",
       "      <th>Pop. (2001)[9]</th>\n",
       "      <th>Pop. (1991)[9]</th>\n",
       "    </tr>\n",
       "  </thead>\n",
       "  <tbody>\n",
       "    <tr>\n",
       "      <th>60</th>\n",
       "      <td>Bhubaneswar</td>\n",
       "      <td>Odisha</td>\n",
       "      <td>1112000</td>\n",
       "      <td>92.91</td>\n",
       "      <td>219211</td>\n",
       "      <td>105491</td>\n",
       "      <td>38211.0</td>\n",
       "    </tr>\n",
       "    <tr>\n",
       "      <th>61</th>\n",
       "      <td>Jammu</td>\n",
       "      <td>Jammu and Kashmir</td>\n",
       "      <td>1103000</td>\n",
       "      <td>198.28</td>\n",
       "      <td>657314</td>\n",
       "      <td>612163</td>\n",
       "      <td>NaN</td>\n",
       "    </tr>\n",
       "    <tr>\n",
       "      <th>62</th>\n",
       "      <td>Solapur</td>\n",
       "      <td>Maharashtra</td>\n",
       "      <td>1082000</td>\n",
       "      <td>178.57</td>\n",
       "      <td>951558</td>\n",
       "      <td>872478</td>\n",
       "      <td>620846.0</td>\n",
       "    </tr>\n",
       "    <tr>\n",
       "      <th>63</th>\n",
       "      <td>Hubli-Dharwad</td>\n",
       "      <td>Karnataka</td>\n",
       "      <td>1062000</td>\n",
       "      <td>213.42</td>\n",
       "      <td>943788</td>\n",
       "      <td>786195</td>\n",
       "      <td>648298.0</td>\n",
       "    </tr>\n",
       "    <tr>\n",
       "      <th>64</th>\n",
       "      <td>Puducherry</td>\n",
       "      <td>Puducherry</td>\n",
       "      <td>1024000</td>\n",
       "      <td>77.26</td>\n",
       "      <td>401437</td>\n",
       "      <td>505959</td>\n",
       "      <td>657209.0</td>\n",
       "    </tr>\n",
       "  </tbody>\n",
       "</table>\n",
       "</div>"
      ],
      "text/plain": [
       "          Town/UA           State/UT  Pop. (2023)[8]  Area (km2) (2011)[9]  \\\n",
       "60    Bhubaneswar             Odisha         1112000                 92.91   \n",
       "61          Jammu  Jammu and Kashmir         1103000                198.28   \n",
       "62        Solapur        Maharashtra         1082000                178.57   \n",
       "63  Hubli-Dharwad          Karnataka         1062000                213.42   \n",
       "64     Puducherry         Puducherry         1024000                 77.26   \n",
       "\n",
       "    Pop. (2011)[7]  Pop. (2001)[9]  Pop. (1991)[9]  \n",
       "60          219211          105491         38211.0  \n",
       "61          657314          612163             NaN  \n",
       "62          951558          872478        620846.0  \n",
       "63          943788          786195        648298.0  \n",
       "64          401437          505959        657209.0  "
      ]
     },
     "execution_count": 38,
     "metadata": {},
     "output_type": "execute_result"
    }
   ],
   "source": [
    "df.tail()"
   ]
  },
  {
   "cell_type": "code",
   "execution_count": 39,
   "id": "fa1f216e-06a7-4d93-bf28-29b46254aa50",
   "metadata": {},
   "outputs": [
    {
     "name": "stdout",
     "output_type": "stream",
     "text": [
      "<class 'pandas.core.frame.DataFrame'>\n",
      "RangeIndex: 65 entries, 0 to 64\n",
      "Data columns (total 7 columns):\n",
      " #   Column                Non-Null Count  Dtype  \n",
      "---  ------                --------------  -----  \n",
      " 0   Town/UA               65 non-null     object \n",
      " 1   State/UT              65 non-null     object \n",
      " 2   Pop. (2023)[8]        65 non-null     int64  \n",
      " 3   Area (km2) (2011)[9]  65 non-null     float64\n",
      " 4   Pop. (2011)[7]        65 non-null     int64  \n",
      " 5   Pop. (2001)[9]        65 non-null     int64  \n",
      " 6   Pop. (1991)[9]        63 non-null     float64\n",
      "dtypes: float64(2), int64(3), object(2)\n",
      "memory usage: 3.7+ KB\n"
     ]
    }
   ],
   "source": [
    "df.info()"
   ]
  },
  {
   "cell_type": "code",
   "execution_count": 40,
   "id": "81181793-dcd3-4bb9-ade9-c6dd5f748456",
   "metadata": {},
   "outputs": [
    {
     "data": {
      "text/html": [
       "<div>\n",
       "<style scoped>\n",
       "    .dataframe tbody tr th:only-of-type {\n",
       "        vertical-align: middle;\n",
       "    }\n",
       "\n",
       "    .dataframe tbody tr th {\n",
       "        vertical-align: top;\n",
       "    }\n",
       "\n",
       "    .dataframe thead th {\n",
       "        text-align: right;\n",
       "    }\n",
       "</style>\n",
       "<table border=\"1\" class=\"dataframe\">\n",
       "  <thead>\n",
       "    <tr style=\"text-align: right;\">\n",
       "      <th></th>\n",
       "      <th>Pop. (2023)[8]</th>\n",
       "      <th>Area (km2) (2011)[9]</th>\n",
       "      <th>Pop. (2011)[7]</th>\n",
       "      <th>Pop. (2001)[9]</th>\n",
       "      <th>Pop. (1991)[9]</th>\n",
       "    </tr>\n",
       "  </thead>\n",
       "  <tbody>\n",
       "    <tr>\n",
       "      <th>count</th>\n",
       "      <td>6.500000e+01</td>\n",
       "      <td>65.000000</td>\n",
       "      <td>6.500000e+01</td>\n",
       "      <td>6.500000e+01</td>\n",
       "      <td>6.300000e+01</td>\n",
       "    </tr>\n",
       "    <tr>\n",
       "      <th>mean</th>\n",
       "      <td>3.757585e+06</td>\n",
       "      <td>376.893077</td>\n",
       "      <td>2.577409e+06</td>\n",
       "      <td>1.980011e+06</td>\n",
       "      <td>1.513187e+06</td>\n",
       "    </tr>\n",
       "    <tr>\n",
       "      <th>std</th>\n",
       "      <td>5.636886e+06</td>\n",
       "      <td>324.002176</td>\n",
       "      <td>3.523286e+06</td>\n",
       "      <td>3.007942e+06</td>\n",
       "      <td>2.316453e+06</td>\n",
       "    </tr>\n",
       "    <tr>\n",
       "      <th>min</th>\n",
       "      <td>1.024000e+06</td>\n",
       "      <td>44.930000</td>\n",
       "      <td>2.192110e+05</td>\n",
       "      <td>1.054910e+05</td>\n",
       "      <td>0.000000e+00</td>\n",
       "    </tr>\n",
       "    <tr>\n",
       "      <th>25%</th>\n",
       "      <td>1.345000e+06</td>\n",
       "      <td>148.120000</td>\n",
       "      <td>1.021717e+06</td>\n",
       "      <td>7.579790e+05</td>\n",
       "      <td>5.885255e+05</td>\n",
       "    </tr>\n",
       "    <tr>\n",
       "      <th>50%</th>\n",
       "      <td>1.720000e+06</td>\n",
       "      <td>229.200000</td>\n",
       "      <td>1.390933e+06</td>\n",
       "      <td>1.003919e+06</td>\n",
       "      <td>8.011900e+05</td>\n",
       "    </tr>\n",
       "    <tr>\n",
       "      <th>75%</th>\n",
       "      <td>3.049000e+06</td>\n",
       "      <td>502.780000</td>\n",
       "      <td>2.046652e+06</td>\n",
       "      <td>1.461139e+06</td>\n",
       "      <td>1.100373e+06</td>\n",
       "    </tr>\n",
       "    <tr>\n",
       "      <th>max</th>\n",
       "      <td>3.119000e+07</td>\n",
       "      <td>1225.590000</td>\n",
       "      <td>1.839491e+07</td>\n",
       "      <td>1.643439e+07</td>\n",
       "      <td>1.259624e+07</td>\n",
       "    </tr>\n",
       "  </tbody>\n",
       "</table>\n",
       "</div>"
      ],
      "text/plain": [
       "       Pop. (2023)[8]  Area (km2) (2011)[9]  Pop. (2011)[7]  Pop. (2001)[9]  \\\n",
       "count    6.500000e+01             65.000000    6.500000e+01    6.500000e+01   \n",
       "mean     3.757585e+06            376.893077    2.577409e+06    1.980011e+06   \n",
       "std      5.636886e+06            324.002176    3.523286e+06    3.007942e+06   \n",
       "min      1.024000e+06             44.930000    2.192110e+05    1.054910e+05   \n",
       "25%      1.345000e+06            148.120000    1.021717e+06    7.579790e+05   \n",
       "50%      1.720000e+06            229.200000    1.390933e+06    1.003919e+06   \n",
       "75%      3.049000e+06            502.780000    2.046652e+06    1.461139e+06   \n",
       "max      3.119000e+07           1225.590000    1.839491e+07    1.643439e+07   \n",
       "\n",
       "       Pop. (1991)[9]  \n",
       "count    6.300000e+01  \n",
       "mean     1.513187e+06  \n",
       "std      2.316453e+06  \n",
       "min      0.000000e+00  \n",
       "25%      5.885255e+05  \n",
       "50%      8.011900e+05  \n",
       "75%      1.100373e+06  \n",
       "max      1.259624e+07  "
      ]
     },
     "execution_count": 40,
     "metadata": {},
     "output_type": "execute_result"
    }
   ],
   "source": [
    "df.describe()"
   ]
  },
  {
   "cell_type": "code",
   "execution_count": 41,
   "id": "91aeed10-bb94-479d-8d42-3b690fa5b793",
   "metadata": {},
   "outputs": [
    {
     "data": {
      "text/plain": [
       "Index(['Town/UA', 'State/UT', 'Pop. (2023)[8]', 'Area (km2) (2011)[9]',\n",
       "       'Pop. (2011)[7]', 'Pop. (2001)[9]', 'Pop. (1991)[9]'],\n",
       "      dtype='object')"
      ]
     },
     "execution_count": 41,
     "metadata": {},
     "output_type": "execute_result"
    }
   ],
   "source": [
    "df.columns"
   ]
  },
  {
   "cell_type": "code",
   "execution_count": 44,
   "id": "cb362431-a501-4fd2-83ae-7fd7948291b9",
   "metadata": {},
   "outputs": [
    {
     "data": {
      "text/plain": [
       "Town/UA                  object\n",
       "State/UT                 object\n",
       "Pop. (2023)[8]            int64\n",
       "Area (km2) (2011)[9]    float64\n",
       "Pop. (2011)[7]            int64\n",
       "Pop. (2001)[9]            int64\n",
       "Pop. (1991)[9]          float64\n",
       "dtype: object"
      ]
     },
     "execution_count": 44,
     "metadata": {},
     "output_type": "execute_result"
    }
   ],
   "source": [
    "df.dtypes"
   ]
  },
  {
   "cell_type": "code",
   "execution_count": 45,
   "id": "172ec54a-2347-4edb-9913-57c55a5bb806",
   "metadata": {},
   "outputs": [
    {
     "name": "stdout",
     "output_type": "stream",
     "text": [
      "Q6. Which of the following is mutable in nature Series, DataFrame, Panel?\n",
      "\n",
      "Ans.Among the three data structures Series, DataFrame, and Panel in pandas, only the DataFrame is mutable in nature.\n",
      "\n",
      "Series: Series is one-dimensional and immutable. Once created, you cannot modify the elements of a Series directly. However, you can create a new Series with modified elements.\n",
      "\n",
      "DataFrame: DataFrame is two-dimensional and mutable. You can modify the contents of a DataFrame, including adding or removing rows and columns, changing values, etc.\n",
      "\n",
      "Panel: Panel is a three-dimensional data structure, which is considered less commonly used compared to Series and DataFrame. However, like Series, Panel is also immutable. Once created, you cannot modify the elements of a Panel directly. Similar to Series, you would need to create a new Panel with modified elements.\n"
     ]
    }
   ],
   "source": [
    "print(\"Q6. Which of the following is mutable in nature Series, DataFrame, Panel?\\n\\nAns.Among the three data structures Series, DataFrame, and Panel in pandas, only the DataFrame is mutable in nature.\\n\\nSeries: Series is one-dimensional and immutable. Once created, you cannot modify the elements of a Series directly. However, you can create a new Series with modified elements.\\n\\nDataFrame: DataFrame is two-dimensional and mutable. You can modify the contents of a DataFrame, including adding or removing rows and columns, changing values, etc.\\n\\nPanel: Panel is a three-dimensional data structure, which is considered less commonly used compared to Series and DataFrame. However, like Series, Panel is also immutable. Once created, you cannot modify the elements of a Panel directly. Similar to Series, you would need to create a new Panel with modified elements.\")"
   ]
  },
  {
   "cell_type": "code",
   "execution_count": 46,
   "id": "bd1ddbb4-e282-40fa-a974-573c5529d1d5",
   "metadata": {},
   "outputs": [
    {
     "name": "stdout",
     "output_type": "stream",
     "text": [
      "Q7. Create a DataFrame using multiple Series. Explain with an example.\n",
      "\n",
      "Ans.As given below:\n"
     ]
    }
   ],
   "source": [
    "print(\"Q7. Create a DataFrame using multiple Series. Explain with an example.\\n\\nAns.As given below:\")"
   ]
  },
  {
   "cell_type": "code",
   "execution_count": 47,
   "id": "ac20ba72-7a48-47ff-9f71-9f962f222f98",
   "metadata": {},
   "outputs": [
    {
     "name": "stdout",
     "output_type": "stream",
     "text": [
      "DataFrame:\n",
      "      Name  Age  Gender\n",
      "0    Alice   25  Female\n",
      "1      Bob   30    Male\n",
      "2  Charlie   35    Male\n"
     ]
    }
   ],
   "source": [
    "name_series = pd.Series(['Alice', 'Bob', 'Charlie'])\n",
    "age_series = pd.Series([25, 30, 35])\n",
    "gender_series = pd.Series(['Female', 'Male', 'Male'])\n",
    "\n",
    "# Creating a DataFrame using multiple Series\n",
    "df = pd.DataFrame({'Name': name_series, 'Age': age_series, 'Gender': gender_series})\n",
    "\n",
    "# Displaying the DataFrame\n",
    "print(\"DataFrame:\")\n",
    "print(df)"
   ]
  }
 ],
 "metadata": {
  "kernelspec": {
   "display_name": "Python 3 (ipykernel)",
   "language": "python",
   "name": "python3"
  },
  "language_info": {
   "codemirror_mode": {
    "name": "ipython",
    "version": 3
   },
   "file_extension": ".py",
   "mimetype": "text/x-python",
   "name": "python",
   "nbconvert_exporter": "python",
   "pygments_lexer": "ipython3",
   "version": "3.10.8"
  }
 },
 "nbformat": 4,
 "nbformat_minor": 5
}

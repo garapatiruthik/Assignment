{
 "cells": [
  {
   "cell_type": "code",
   "execution_count": 4,
   "id": "5ca2597e-1bc7-40ad-bb81-08f2b2f16ac0",
   "metadata": {},
   "outputs": [
    {
     "name": "stdout",
     "output_type": "stream",
     "text": [
      "Q1. Explain why we have to use the Exception class while creating a Custom Exception.\n",
      "\n",
      "Ans.In Python, it's advisable to inherit from the base Exception class or one of its subclasses when creating custom exceptions. This practice ensures consistency with Python's exception hierarchy, enabling familiar error handling conventions for developers. By following this convention, your custom exceptions can be caught by generic handlers for Exception or its subclasses, enhancing code maintainability. Additionally, inheriting from Exception allows for specialization and interoperability within Python's exception ecosystem, while providing access to the base class's functionality for customizing error behavior if needed.\n"
     ]
    }
   ],
   "source": [
    "print(\"Q1. Explain why we have to use the Exception class while creating a Custom Exception.\")\n",
    "print(\"\\nAns.In Python, it's advisable to inherit from the base Exception class or one of its subclasses when creating custom exceptions. This practice ensures consistency with Python's exception hierarchy, enabling familiar error handling conventions for developers. By following this convention, your custom exceptions can be caught by generic handlers for Exception or its subclasses, enhancing code maintainability. Additionally, inheriting from Exception allows for specialization and interoperability within Python's exception ecosystem, while providing access to the base class's functionality for customizing error behavior if needed.\")"
   ]
  },
  {
   "cell_type": "code",
   "execution_count": 5,
   "id": "1db1c74c-f5d8-4955-b613-b668768a0daa",
   "metadata": {},
   "outputs": [
    {
     "name": "stdout",
     "output_type": "stream",
     "text": [
      "Q2. Write a python program to print Python Exception Hierarchy.\n",
      "\n",
      "Ans. \n",
      "Python Exception Hierarchy:\n",
      "Exception\n",
      "  - TypeError\n",
      "  - StopAsyncIteration\n",
      "  - StopIteration\n",
      "  - ImportError\n",
      "  - OSError\n",
      "  - EOFError\n",
      "  - RuntimeError\n",
      "  - NameError\n",
      "  - AttributeError\n",
      "  - SyntaxError\n",
      "  - LookupError\n",
      "  - ValueError\n",
      "  - AssertionError\n",
      "  - ArithmeticError\n",
      "  - SystemError\n",
      "  - ReferenceError\n",
      "  - MemoryError\n",
      "  - BufferError\n",
      "  - Warning\n",
      "  - _OptionError\n",
      "  - _Error\n",
      "  - error\n",
      "  - Verbose\n",
      "  - Error\n",
      "  - SubprocessError\n",
      "  - TokenError\n",
      "  - StopTokenizing\n",
      "  - ClassFoundException\n",
      "  - EndOfBlock\n",
      "  - TraitError\n",
      "  - Error\n",
      "  - Error\n",
      "  - _GiveupOnSendfile\n",
      "  - error\n",
      "  - Incomplete\n",
      "  - TimeoutError\n",
      "  - InvalidStateError\n",
      "  - LimitOverrunError\n",
      "  - QueueEmpty\n",
      "  - QueueFull\n",
      "  - Empty\n",
      "  - Full\n",
      "  - ArgumentError\n",
      "  - ZMQBaseError\n",
      "  - PickleError\n",
      "  - _Stop\n",
      "  - ArgumentError\n",
      "  - ArgumentTypeError\n",
      "  - ConfigError\n",
      "  - ConfigurableError\n",
      "  - ApplicationError\n",
      "  - error\n",
      "  - TimeoutError\n",
      "  - error\n",
      "  - ReturnValueIgnoredError\n",
      "  - KeyReuseError\n",
      "  - UnknownKeyError\n",
      "  - LeakedCallbackError\n",
      "  - BadYieldError\n",
      "  - ReturnValueIgnoredError\n",
      "  - Return\n",
      "  - InvalidPortNumber\n",
      "  - error\n",
      "  - LZMAError\n",
      "  - RegistryError\n",
      "  - _GiveupOnFastCopy\n",
      "  - Error\n",
      "  - NoIPAddresses\n",
      "  - BadZipFile\n",
      "  - LargeZipFile\n",
      "  - BadEntryPoint\n",
      "  - NoSuchEntryPoint\n",
      "  - DuplicateKernelError\n",
      "  - ErrorDuringImport\n",
      "  - NotOneValueFound\n",
      "  - CannotEval\n",
      "  - OptionError\n",
      "  - BdbQuit\n",
      "  - Restart\n",
      "  - ExceptionPexpect\n",
      "  - PtyProcessError\n",
      "  - FindCmdError\n",
      "  - HomeDirError\n",
      "  - ProfileDirError\n",
      "  - IPythonCoreError\n",
      "  - InputRejected\n",
      "  - GetoptError\n",
      "  - ErrorToken\n",
      "  - PrefilterError\n",
      "  - AliasError\n",
      "  - Error\n",
      "  - Warning\n",
      "  - SpaceInInput\n",
      "  - DOMException\n",
      "  - ValidationError\n",
      "  - EditReadOnlyBuffer\n",
      "  - _Retry\n",
      "  - InvalidLayoutError\n",
      "  - HeightIsUnknownError\n",
      "  - ParserSyntaxError\n",
      "  - InternalParseError\n",
      "  - _PositionUpdatingFinished\n",
      "  - SimpleGetItemNotFound\n",
      "  - UncaughtAttributeError\n",
      "  - HasNoContext\n",
      "  - ParamIssue\n",
      "  - _JediError\n",
      "  - OnErrorLeaf\n",
      "  - InvalidPythonEnvironment\n",
      "  - MessageError\n",
      "  - Error\n",
      "  - HTTPException\n",
      "  - InteractivelyDefined\n",
      "  - KillEmbedded\n",
      "  - Error\n",
      "  - _Ipv6UnsupportedError\n",
      "  - QueueEmpty\n",
      "  - QueueFull\n",
      "  - DebuggerInitializationError\n",
      "  - ExpatError\n",
      "  - Error\n",
      "  - ParseBaseException\n",
      "  - RecursiveGrammarException\n",
      "  - ResolutionError\n",
      "  - _Error\n",
      "  - UnableToResolveVariableException\n",
      "  - InvalidTypeInArgsException\n",
      "GeneratorExit\n",
      "SystemExit\n",
      "KeyboardInterrupt\n",
      "CancelledError\n",
      "AbortThread\n"
     ]
    }
   ],
   "source": [
    "print(\"Q2. Write a python program to print Python Exception Hierarchy.\")\n",
    "print(\"\\nAns. \")\n",
    "def print_exception_hierarchy():\n",
    "    for exc in BaseException.__subclasses__():\n",
    "        print(exc.__name__)\n",
    "        for sub_exc in exc.__subclasses__():\n",
    "            print(\"  -\", sub_exc.__name__)\n",
    "\n",
    "print(\"Python Exception Hierarchy:\")\n",
    "print_exception_hierarchy()\n"
   ]
  },
  {
   "cell_type": "code",
   "execution_count": 8,
   "id": "cbf8d22d-6eb4-48ff-a9a0-c4266fd29f9a",
   "metadata": {},
   "outputs": [
    {
     "name": "stdout",
     "output_type": "stream",
     "text": [
      "Q3. What errors are defined in the ArithmeticError class? Explain any two with an example.\n",
      "Ans.\n",
      "Error: Division by zero\n",
      "Error: Result too large to represent\n"
     ]
    }
   ],
   "source": [
    "print(\"Q3. What errors are defined in the ArithmeticError class? Explain any two with an example.\\nAns.\")\n",
    "try:\n",
    "    result = 10 / 0\n",
    "except ZeroDivisionError:\n",
    "    print(\"Error: Division by zero\")\n",
    "import math\n",
    "try:\n",
    "    result = math.exp(1000)\n",
    "except OverflowError:\n",
    "    print(\"Error: Result too large to represent\")\n"
   ]
  },
  {
   "cell_type": "code",
   "execution_count": 10,
   "id": "84a398f2-a068-4d72-9dba-a2d0c49d96c9",
   "metadata": {},
   "outputs": [
    {
     "name": "stdout",
     "output_type": "stream",
     "text": [
      "Q4. Why LookupError class is used? Explain with an example KeyError and IndexError.\n",
      "\n",
      "Ans.The LookupError class in Python is used as a base class for exceptions that occur when a key or index is not found during a lookup operation. It serves as a parent class for several specific lookup-related exceptions, including KeyError and IndexError. Here's an explanation of each with an example\n"
     ]
    }
   ],
   "source": [
    "print(\"Q4. Why LookupError class is used? Explain with an example KeyError and IndexError.\\n\\nAns.The LookupError class in Python is used as a base class for exceptions that occur when a key or index is not found during a lookup operation. It serves as a parent class for several specific lookup-related exceptions, including KeyError and IndexError. Here's an explanation of each with an example\")"
   ]
  },
  {
   "cell_type": "code",
   "execution_count": 11,
   "id": "cd9bd007-a746-48f5-b48e-cc62e0284676",
   "metadata": {},
   "outputs": [
    {
     "name": "stdout",
     "output_type": "stream",
     "text": [
      "Error: Key not found\n"
     ]
    }
   ],
   "source": [
    "my_dict = {'a': 1, 'b': 2, 'c': 3}\n",
    "try:\n",
    "    value = my_dict['d']\n",
    "except KeyError:\n",
    "    print(\"Error: Key not found\")\n"
   ]
  },
  {
   "cell_type": "code",
   "execution_count": 12,
   "id": "71bfd042-ec8a-4769-83e5-d2334b80511a",
   "metadata": {},
   "outputs": [
    {
     "name": "stdout",
     "output_type": "stream",
     "text": [
      "Error: Index out of range\n"
     ]
    }
   ],
   "source": [
    "my_list = [1, 2, 3]\n",
    "try:\n",
    "    value = my_list[3]\n",
    "except IndexError:\n",
    "    print(\"Error: Index out of range\")\n"
   ]
  },
  {
   "cell_type": "code",
   "execution_count": 14,
   "id": "121f1957-bcfc-4cd8-a944-60cb0728a3fa",
   "metadata": {},
   "outputs": [
    {
     "name": "stdout",
     "output_type": "stream",
     "text": [
      "Q5. Explain ImportError. What is ModuleNotFoundError?\n",
      "\n",
      "Ans. In Python, ImportError is a built-in exception that is raised when an import statement fails to import a module or a specific attribute from a module. This error typically occurs due to one of the following reasons:The module being imported cannot be found in the Python search path (sys.path).There are syntax errors or other issues within the module being imported.Circular imports where modules depend on each other in a cyclic manner.\n"
     ]
    }
   ],
   "source": [
    "print(\"Q5. Explain ImportError. What is ModuleNotFoundError?\\n\\nAns. In Python, ImportError is a built-in exception that is raised when an import statement fails to import a module or a specific attribute from a module. This error typically occurs due to one of the following reasons:The module being imported cannot be found in the Python search path (sys.path).There are syntax errors or other issues within the module being imported.Circular imports where modules depend on each other in a cyclic manner.\")"
   ]
  },
  {
   "cell_type": "code",
   "execution_count": 16,
   "id": "646a34ba-890e-4aa6-ace4-1cde1a4d3b6b",
   "metadata": {},
   "outputs": [
    {
     "name": "stdout",
     "output_type": "stream",
     "text": [
      "Error: Module not found or cannot be imported\n"
     ]
    }
   ],
   "source": [
    "try:\n",
    "    import non_existent_module\n",
    "except ImportError:\n",
    "    print(\"Error: Module not found or cannot be imported\")\n"
   ]
  },
  {
   "cell_type": "code",
   "execution_count": 17,
   "id": "7c711e75-64b8-4d2d-9492-deef669cafcc",
   "metadata": {},
   "outputs": [
    {
     "name": "stdout",
     "output_type": "stream",
     "text": [
      "Ans.ModuleNotFoundError is a subclass of ImportError that was introduced in Python 3.6. It is specifically raised when a module is not found during import. ModuleNotFoundError provides a clearer indication of the reason for the import failure compared to the generic ImportError.\n",
      "Example of ModuleNotFoundError:\n"
     ]
    }
   ],
   "source": [
    "print(\"Ans.ModuleNotFoundError is a subclass of ImportError that was introduced in Python 3.6. It is specifically raised when a module is not found during import. ModuleNotFoundError provides a clearer indication of the reason for the import failure compared to the generic ImportError.\\nExample of ModuleNotFoundError:\")"
   ]
  },
  {
   "cell_type": "code",
   "execution_count": 18,
   "id": "073d0fa8-4466-4814-9ed1-ac8e57f1922c",
   "metadata": {},
   "outputs": [
    {
     "name": "stdout",
     "output_type": "stream",
     "text": [
      "Error: Module not found\n"
     ]
    }
   ],
   "source": [
    "try:\n",
    "    import non_existent_module\n",
    "except ModuleNotFoundError:\n",
    "    print(\"Error: Module not found\")\n"
   ]
  },
  {
   "cell_type": "code",
   "execution_count": 19,
   "id": "384f63be-7d44-4759-8faf-bcb63ae83020",
   "metadata": {},
   "outputs": [
    {
     "name": "stdout",
     "output_type": "stream",
     "text": [
      "Q6. List down some best practices for exception handling in python.\n",
      "\n",
      "Ans.\n"
     ]
    }
   ],
   "source": [
    "print(\"Q6. List down some best practices for exception handling in python.\\n\\nAns.Exception handling is an essential aspect of writing robust and maintainable Python code. Here are some best practices for exception handling in Python:\\nUse Specific Exception Types: Catch specific exceptions rather than using a generic Exception class whenever possible. This allows for more targeted error handling and avoids unintentionally catching unrelated exceptions.\\nKeep Exception Handling Minimal: Place exception handling code only where it's necessary. Avoid catching exceptions too broadly, as it can mask underlying issues and make debugging more difficult.\\nHandle Exceptions Locally: Handle exceptions as close to the source of the error as possible. This improves code readability and makes it easier to understand the context in which exceptions occur.\\nUse try-except-else Blocks: Utilize the else block in try-except statements to execute code that should run only if no exceptions were raised. This separates the main logic from the exception-handling logic.\\nAvoid Bare except Clauses: Avoid using bare except clauses (except:) as they catch all exceptions, including system-exiting exceptions like SystemExit and KeyboardInterrupt. Instead, specify the exceptions you want to handle explicitly.\\nUse finally for Cleanup: Use the finally block to execute cleanup code that should run regardless of whether an exception occurs. This is particularly useful for releasing resources or closing files.\\nRaise Exceptions Appropriately: Raise exceptions to indicate errors or exceptional conditions in your code. Provide clear and informative error messages to aid in debugging.\\nLog Exceptions: Log exceptions using a logging framework like Python's built-in logging module. Logging exceptions with relevant information helps in troubleshooting and diagnosing issues.\\nHandle Exceptions at the Right Level: Handle exceptions at an appropriate level of abstraction. For example, handle file-related exceptions in functions that interact with files rather than in higher-level application logic.\\nUse Custom Exceptions Judiciously: Define custom exception classes when necessary to represent specific error conditions in your application. Use built-in exception classes when custom exceptions aren't warranted.\\nBy following these best practices, you can write cleaner, more robust, and easier-to-debug Python code that handles exceptions effectively.\")"
   ]
  },
  {
   "cell_type": "code",
   "execution_count": null,
   "id": "e9f216a3-7a9a-4438-a5fb-de69aa21cad3",
   "metadata": {},
   "outputs": [],
   "source": []
  }
 ],
 "metadata": {
  "kernelspec": {
   "display_name": "Python 3 (ipykernel)",
   "language": "python",
   "name": "python3"
  },
  "language_info": {
   "codemirror_mode": {
    "name": "ipython",
    "version": 3
   },
   "file_extension": ".py",
   "mimetype": "text/x-python",
   "name": "python",
   "nbconvert_exporter": "python",
   "pygments_lexer": "ipython3",
   "version": "3.10.8"
  }
 },
 "nbformat": 4,
 "nbformat_minor": 5
}

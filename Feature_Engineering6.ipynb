{
 "cells": [
  {
   "cell_type": "code",
   "execution_count": 1,
   "id": "d24a93c9-1da9-41a1-848d-98e1cc461b5d",
   "metadata": {},
   "outputs": [
    {
     "name": "stdout",
     "output_type": "stream",
     "text": [
      "Q1. Pearson correlation coefficient is a measure of the linear relationship between two variables. Suppose\n",
      "you have collected data on the amount of time students spend studying for an exam and their final exam\n",
      "scores. Calculate the Pearson correlation coefficient between these two variables and interpret the result.\n",
      "\n",
      "Ans.\n",
      "Pearson correlation coefficient: 1.0\n"
     ]
    }
   ],
   "source": [
    "print(\"\"\"Q1. Pearson correlation coefficient is a measure of the linear relationship between two variables. Suppose\n",
    "you have collected data on the amount of time students spend studying for an exam and their final exam\n",
    "scores. Calculate the Pearson correlation coefficient between these two variables and interpret the result.\n",
    "\n",
    "Ans.\"\"\")\n",
    "import pandas as pd\n",
    "\n",
    "# Create a DataFrame with the data\n",
    "data = {\n",
    "    'study_time': [2, 3, 4, 5, 6],\n",
    "    'exam_scores': [70, 75, 80, 85, 90]\n",
    "}\n",
    "df = pd.DataFrame(data)\n",
    "\n",
    "# Calculate the Pearson correlation coefficient\n",
    "correlation_coefficient = df['study_time'].corr(df['exam_scores'])\n",
    "\n",
    "# Output the result\n",
    "print(f\"Pearson correlation coefficient: {correlation_coefficient}\")\n"
   ]
  },
  {
   "cell_type": "code",
   "execution_count": 6,
   "id": "4b1b9498-5606-4e83-97d7-22afb0ae426e",
   "metadata": {},
   "outputs": [
    {
     "name": "stdout",
     "output_type": "stream",
     "text": [
      "Q2. Spearman's rank correlation is a measure of the monotonic relationship between two variables.\n",
      "Suppose you have collected data on the amount of sleep individuals get each night and their overall job\n",
      "satisfaction level on a scale of 1 to 10. Calculate the Spearman's rank correlation between these two\n",
      "variables and interpret the result.\n",
      "\n",
      "Ans.\n",
      "Spearman's rank correlation coefficient: 0.9733285267845753\n"
     ]
    }
   ],
   "source": [
    "print(\"\"\"Q2. Spearman's rank correlation is a measure of the monotonic relationship between two variables.\n",
    "Suppose you have collected data on the amount of sleep individuals get each night and their overall job\n",
    "satisfaction level on a scale of 1 to 10. Calculate the Spearman's rank correlation between these two\n",
    "variables and interpret the result.\n",
    "\n",
    "Ans.\"\"\")\n",
    "# Create a DataFrame with the data\n",
    "data = {\n",
    "    'sleep_duration': [7, 5, 6, 8, 6],\n",
    "    'job_satisfaction': [8, 6, 7, 8, 7]\n",
    "}\n",
    "df = pd.DataFrame(data)\n",
    "\n",
    "# Calculate Spearman's rank correlation coefficient\n",
    "correlation_coefficient = df['sleep_duration'].corr(df['job_satisfaction'], method='spearman')\n",
    "\n",
    "# Output the result\n",
    "print(f\"Spearman's rank correlation coefficient: {correlation_coefficient}\")\n"
   ]
  },
  {
   "cell_type": "code",
   "execution_count": 10,
   "id": "50afd085-acc2-41f8-b0ac-95792dee8847",
   "metadata": {},
   "outputs": [
    {
     "name": "stdout",
     "output_type": "stream",
     "text": [
      "Q3. Suppose you are conducting a study to examine the relationship between the number of hours of\n",
      "exercise per week and body mass index (BMI) in a sample of adults. You collected data on both variables\n",
      "for 50 participants. Calculate the Pearson correlation coefficient and the Spearman's rank correlation\n",
      "between these two variables and compare the results.\n",
      "\n",
      "Ans.\n",
      "Spearman's rank correlation coefficient: -0.9486832980505137\n",
      "pearson's rank correlation coefficient: -0.9499474887316666\n",
      "The difference is -0.0012641906811529102\n"
     ]
    }
   ],
   "source": [
    "print(\"\"\"Q3. Suppose you are conducting a study to examine the relationship between the number of hours of\n",
    "exercise per week and body mass index (BMI) in a sample of adults. You collected data on both variables\n",
    "for 50 participants. Calculate the Pearson correlation coefficient and the Spearman's rank correlation\n",
    "between these two variables and compare the results.\n",
    "\n",
    "Ans.\"\"\")\n",
    "\n",
    "# Create a DataFrame with the data\n",
    "data = {\n",
    "    'exercise_duration': [2, 1, 1, 0, 2],\n",
    "    'BMI': [20, 25, 22, 30, 17]\n",
    "}\n",
    "df = pd.DataFrame(data)\n",
    "# Calculate Pearson's rank correlation coefficient\n",
    "correlation_coefficient1 = df['exercise_duration'].corr(df['BMI'])\n",
    "\n",
    "# Calculate Spearman's rank correlation coefficient\n",
    "correlation_coefficient = df['exercise_duration'].corr(df['BMI'], method='spearman')\n",
    "diff = correlation_coefficient1-correlation_coefficient\n",
    "# Output the result\n",
    "print(f\"Spearman's rank correlation coefficient: {correlation_coefficient}\")\n",
    "print(f\"pearson's rank correlation coefficient: {correlation_coefficient1}\")\n",
    "print(f\"The difference is {diff}\")\n"
   ]
  },
  {
   "cell_type": "code",
   "execution_count": 12,
   "id": "d017e31c-6979-4117-adec-4ef32bb4be19",
   "metadata": {},
   "outputs": [
    {
     "name": "stdout",
     "output_type": "stream",
     "text": [
      "Q4. A researcher is interested in examining the relationship between the number of hours individuals\n",
      "spend watching television per day and their level of physical activity. The researcher collected data on\n",
      "both variables from a sample of 50 participants. Calculate the Pearson correlation coefficient between\n",
      "these two variables.\n",
      "\n",
      "Ans.\n",
      "Pearson correlation coefficient: -0.82\n"
     ]
    }
   ],
   "source": [
    "print(\"\"\"Q4. A researcher is interested in examining the relationship between the number of hours individuals\n",
    "spend watching television per day and their level of physical activity. The researcher collected data on\n",
    "both variables from a sample of 50 participants. Calculate the Pearson correlation coefficient between\n",
    "these two variables.\n",
    "\n",
    "Ans.\"\"\")\n",
    "import pandas as pd\n",
    "import numpy as np\n",
    "\n",
    "# Example data\n",
    "data = {\n",
    "    'hours_tv': [2, 3, 1, 4, 2, 5, 3, 2, 1, 4, \n",
    "                 3, 2, 3, 1, 4, 2, 5, 3, 2, 1, \n",
    "                 4, 3, 2, 3, 1, 4, 2, 5, 3, 2, \n",
    "                 1, 4, 3, 2, 3, 1, 4, 2, 5, 3, \n",
    "                 2, 1, 4, 3, 2, 3, 0, 4, 2, 5],\n",
    "    'physical_activity': [5, 4, 6, 3, 5, 2, 4, 5, 6, 3,\n",
    "                          4, 7, 4, 6, 3, 5, 5, 4, 5, 6,\n",
    "                          3, 4, 5, 4, 8, 3, 5, 4, 4, 5,\n",
    "                          6, 3, 4, 5, 4, 6, 6, 5, 2, 4,\n",
    "                          5, 6, 3, 4, 5, 4, 6, 3, 5, 2]\n",
    "}\n",
    "\n",
    "# Create DataFrame\n",
    "df = pd.DataFrame(data)\n",
    "\n",
    "# Calculate Pearson correlation coefficient\n",
    "correlation_coefficient = df['hours_tv'].corr(df['physical_activity'])\n",
    "\n",
    "# Output the result\n",
    "print(f\"Pearson correlation coefficient: {correlation_coefficient:.2f}\")"
   ]
  },
  {
   "cell_type": "code",
   "execution_count": 14,
   "id": "ac468342-3f3d-4f21-8689-474fd9636e83",
   "metadata": {},
   "outputs": [
    {
     "name": "stdout",
     "output_type": "stream",
     "text": [
      "Q5. A survey was conducted to examine the relationship between age and preference for a particular\n",
      "brand of soft drink. The survey results are shown below:\n",
      "Age soft-drink\n",
      "25 Coke\n",
      "42 Pepsi\n",
      "37 mountain dew\n",
      "19 coke\n",
      "31 pepsi\n",
      "28 coke\n",
      "\n",
      "Ans.\n",
      "Frequency of each soft drink preference:\n",
      "Coke            3\n",
      "Pepsi           2\n",
      "Mountain Dew    1\n",
      "Name: Soft Drink, dtype: int64\n",
      "\n",
      "Average age by soft drink preference:\n",
      "Soft Drink\n",
      "Coke            24.0\n",
      "Mountain Dew    37.0\n",
      "Pepsi           36.5\n",
      "Name: Age, dtype: float64\n"
     ]
    }
   ],
   "source": [
    "print(\"\"\"Q5. A survey was conducted to examine the relationship between age and preference for a particular\n",
    "brand of soft drink. The survey results are shown below:\n",
    "Age soft-drink\n",
    "25 Coke\n",
    "42 Pepsi\n",
    "37 mountain dew\n",
    "19 coke\n",
    "31 pepsi\n",
    "28 coke\n",
    "\n",
    "Ans.\"\"\")\n",
    "import pandas as pd\n",
    "\n",
    "# Example data\n",
    "data = {\n",
    "    'Age': [25, 42, 37, 19, 31, 28],\n",
    "    'Soft Drink': ['Coke', 'Pepsi', 'Mountain Dew', 'Coke', 'Pepsi', 'Coke']\n",
    "}\n",
    "\n",
    "# Create DataFrame\n",
    "df = pd.DataFrame(data)\n",
    "\n",
    "# Frequency of each soft drink preference\n",
    "drink_counts = df['Soft Drink'].value_counts()\n",
    "\n",
    "# Average age by soft drink preference\n",
    "avg_age_by_drink = df.groupby('Soft Drink')['Age'].mean()\n",
    "\n",
    "# Print results\n",
    "print(\"Frequency of each soft drink preference:\")\n",
    "print(drink_counts)\n",
    "print(\"\\nAverage age by soft drink preference:\")\n",
    "print(avg_age_by_drink)\n"
   ]
  },
  {
   "cell_type": "code",
   "execution_count": 16,
   "id": "cf9b0d1b-1cc7-437d-8c74-3979d073e6c9",
   "metadata": {},
   "outputs": [
    {
     "name": "stdout",
     "output_type": "stream",
     "text": [
      "Q6. A company is interested in examining the relationship between the number of sales calls made per day\n",
      "and the number of sales made per week. The company collected data on both variables from a sample of\n",
      "30 sales representatives. Calculate the Pearson correlation coefficient between these two variables.\n",
      "\n",
      "Ans.\n"
     ]
    }
   ],
   "source": [
    "print(\"\"\"Q6. A company is interested in examining the relationship between the number of sales calls made per day\n",
    "and the number of sales made per week. The company collected data on both variables from a sample of\n",
    "30 sales representatives. Calculate the Pearson correlation coefficient between these two variables.\n",
    "\n",
    "Ans.\"\"\")\n",
    "\n"
   ]
  },
  {
   "cell_type": "code",
   "execution_count": null,
   "id": "85a3bcbe-0423-4136-a0bf-29f5ffbe2447",
   "metadata": {},
   "outputs": [],
   "source": []
  }
 ],
 "metadata": {
  "kernelspec": {
   "display_name": "Python 3 (ipykernel)",
   "language": "python",
   "name": "python3"
  },
  "language_info": {
   "codemirror_mode": {
    "name": "ipython",
    "version": 3
   },
   "file_extension": ".py",
   "mimetype": "text/x-python",
   "name": "python",
   "nbconvert_exporter": "python",
   "pygments_lexer": "ipython3",
   "version": "3.10.8"
  }
 },
 "nbformat": 4,
 "nbformat_minor": 5
}

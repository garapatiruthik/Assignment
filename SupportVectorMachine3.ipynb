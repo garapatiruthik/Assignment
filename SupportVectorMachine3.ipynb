{
 "cells": [
  {
   "cell_type": "code",
   "execution_count": null,
   "id": "70a583a7-b953-40c1-8e16-da0fa5584362",
   "metadata": {},
   "outputs": [],
   "source": [
    "print(\"\"\"Q1. In order to predict house price based on several characteristics, such as location, square footage,\n",
    "number of bedrooms, etc., you are developing an SVM regression model. Which regression metric in this\n",
    "situation would be the best to employ?\"\"\")\n",
    "import pandas as pd\n",
    "from sklearn.model_selection import train_test_split\n",
    "from sklearn.svm import SVR\n",
    "from sklearn.metrics import mean_absolute_error, mean_squared_error, r2_score\n",
    "import numpy as np\n",
    "\n",
    "# Load the dataset\n",
    "url = \"https://drive.google.com/uc?id=1Z9oLpmt6IDRNw7IeNcHYTGeJRYypRSC0\"\n",
    "df = pd.read_csv(url)\n",
    "\n",
    "# Inspect the dataset\n",
    "print(df.head())\n",
    "\n",
    "# Drop rows with missing values\n",
    "df.dropna(inplace=True)\n",
    "\n",
    "# Inspect data types\n",
    "print(df.dtypes)\n",
    "\n",
    "# Convert non-numeric columns to numeric using one-hot encoding\n",
    "df = pd.get_dummies(df, drop_first=True)\n",
    "\n",
    "# Separate features and target variable\n",
    "X = df.drop('price', axis=1)  # Assuming 'price' is the target column\n",
    "y = df['price']\n",
    "\n",
    "# Split the dataset into training and testing sets\n",
    "X_train, X_test, y_train, y_test = train_test_split(X, y, test_size=0.2, random_state=42)\n",
    "\n",
    "# Train the model\n",
    "svm_regressor = SVR(kernel='rbf')\n",
    "svm_regressor.fit(X_train, y_train)\n",
    "\n",
    "# Predict on the test set\n",
    "y_pred = svm_regressor.predict(X_test)\n",
    "\n",
    "# Calculate regression metrics\n",
    "mae = mean_absolute_error(y_test, y_pred)\n",
    "mse = mean_squared_error(y_test, y_pred)\n",
    "rmse = np.sqrt(mse)\n",
    "r2 = r2_score(y_test, y_pred)\n",
    "\n",
    "print(f\"Mean Absolute Error (MAE): {mae}\")\n",
    "print(f\"Mean Squared Error (MSE): {mse}\")\n",
    "print(f\"Root Mean Squared Error (RMSE): {rmse}\")\n",
    "print(f\"R-squared (R²): {r2}\")\n",
    "\n"
   ]
  },
  {
   "cell_type": "code",
   "execution_count": 7,
   "id": "a2a4f226-99d5-4302-9543-efab83aa3957",
   "metadata": {},
   "outputs": [
    {
     "name": "stdout",
     "output_type": "stream",
     "text": [
      "Q2. You have built an SVM regression model and are trying to decide between using MSE or R-squared as\n",
      "your evaluation metric. Which metric would be more appropriate if your goal is to predict the actual price\n",
      "of a house as accurately as possible?\n",
      "\n",
      "Ans.If our goal is to predict the actual price of a house as accurately as possible, Mean Squared Error (MSE) would be more appropriate as the evaluation metric for your SVM regression model. MSE directly measures the average squared difference between predicted and actual prices, providing a clear measure of prediction accuracy in terms of magnitude.\n"
     ]
    }
   ],
   "source": [
    "print(\"\"\"Q2. You have built an SVM regression model and are trying to decide between using MSE or R-squared as\n",
    "your evaluation metric. Which metric would be more appropriate if your goal is to predict the actual price\n",
    "of a house as accurately as possible?\n",
    "\n",
    "Ans.If our goal is to predict the actual price of a house as accurately as possible, Mean Squared Error (MSE) would be more appropriate as the evaluation metric for your SVM regression model. MSE directly measures the average squared difference between predicted and actual prices, providing a clear measure of prediction accuracy in terms of magnitude.\"\"\")"
   ]
  },
  {
   "cell_type": "code",
   "execution_count": 8,
   "id": "e07492fb-22fd-4f49-b0b5-048f88fe9891",
   "metadata": {},
   "outputs": [
    {
     "name": "stdout",
     "output_type": "stream",
     "text": [
      "Q3. You have a dataset with a significant number of outliers and are trying to select an appropriate\n",
      "regression metric to use with your SVM model. Which metric would be the most appropriate in this\n",
      "scenario?\n",
      "\n",
      "Ans.When dealing with a dataset that has a significant number of outliers, the most appropriate regression metric to use with your SVM model would be Mean Absolute Error (MAE). MAE is less sensitive to outliers compared to MSE or RMSE, as it measures the average absolute difference between predicted and actual values. This makes it a more robust choice when outliers are present in the dataset.\n"
     ]
    }
   ],
   "source": [
    "print(\"\"\"Q3. You have a dataset with a significant number of outliers and are trying to select an appropriate\n",
    "regression metric to use with your SVM model. Which metric would be the most appropriate in this\n",
    "scenario?\n",
    "\n",
    "Ans.When dealing with a dataset that has a significant number of outliers, the most appropriate regression metric to use with your SVM model would be Mean Absolute Error (MAE). MAE is less sensitive to outliers compared to MSE or RMSE, as it measures the average absolute difference between predicted and actual values. This makes it a more robust choice when outliers are present in the dataset.\"\"\")"
   ]
  },
  {
   "cell_type": "code",
   "execution_count": 9,
   "id": "9687757d-d825-40e3-b023-0162b80712de",
   "metadata": {},
   "outputs": [
    {
     "name": "stdout",
     "output_type": "stream",
     "text": [
      "Q4. You have built an SVM regression model using a polynomial kernel and are trying to select the best\n",
      "metric to evaluate its performance. You have calculated both MSE and RMSE and found that both values\n",
      "are very close. Which metric should you choose to use in this case?\n",
      "\n",
      "Ans.When both Mean Squared Error (MSE) and Root Mean Squared Error (RMSE) values are very close after evaluating your SVM regression model with a polynomial kernel, either metric can be chosen to evaluate its performance. MSE is simpler to interpret as it directly measures the average squared difference between predicted and actual values. RMSE, on the other hand, gives a measure of the average magnitude of the errors in the same units as the target variable, which can be advantageous for understanding the scale of the errors. Therefore, you can choose either MSE or RMSE based on your preference for interpretation.\n"
     ]
    }
   ],
   "source": [
    "print(\"\"\"Q4. You have built an SVM regression model using a polynomial kernel and are trying to select the best\n",
    "metric to evaluate its performance. You have calculated both MSE and RMSE and found that both values\n",
    "are very close. Which metric should you choose to use in this case?\n",
    "\n",
    "Ans.When both Mean Squared Error (MSE) and Root Mean Squared Error (RMSE) values are very close after evaluating your SVM regression model with a polynomial kernel, either metric can be chosen to evaluate its performance. MSE is simpler to interpret as it directly measures the average squared difference between predicted and actual values. RMSE, on the other hand, gives a measure of the average magnitude of the errors in the same units as the target variable, which can be advantageous for understanding the scale of the errors. Therefore, you can choose either MSE or RMSE based on your preference for interpretation.\"\"\")"
   ]
  },
  {
   "cell_type": "code",
   "execution_count": 10,
   "id": "54b679e7-38d5-4717-b51b-7f070f00fb26",
   "metadata": {},
   "outputs": [
    {
     "name": "stdout",
     "output_type": "stream",
     "text": [
      "Q5. You are comparing the performance of different SVM regression models using different kernels (linear,\n",
      "polynomial, and RBF) and are trying to select the best evaluation metric. Which metric would be most\n",
      "appropriate if your goal is to measure how well the model explains the variance in the target variable?\n",
      "\n",
      "Ans.If your goal is to measure how well the SVM regression model explains the variance in the target variable, the most appropriate evaluation metric would be \\( R^2 \\) (R-squared). \\( R^2 \\) indicates the proportion of the variance in the dependent variable (target) that is predictable from the independent variables (features) in the model. It ranges from 0 to 1, where 1 indicates a perfect fit. Therefore, \\( R^2 \\) is well-suited for assessing the explanatory power of your SVM regression models with different kernels (linear, polynomial, and RBF).\n"
     ]
    }
   ],
   "source": [
    "print(\"\"\"Q5. You are comparing the performance of different SVM regression models using different kernels (linear,\n",
    "polynomial, and RBF) and are trying to select the best evaluation metric. Which metric would be most\n",
    "appropriate if your goal is to measure how well the model explains the variance in the target variable?\n",
    "\n",
    "Ans.If your goal is to measure how well the SVM regression model explains the variance in the target variable, the most appropriate evaluation metric would be \\( R^2 \\) (R-squared). \\( R^2 \\) indicates the proportion of the variance in the dependent variable (target) that is predictable from the independent variables (features) in the model. It ranges from 0 to 1, where 1 indicates a perfect fit. Therefore, \\( R^2 \\) is well-suited for assessing the explanatory power of your SVM regression models with different kernels (linear, polynomial, and RBF).\"\"\")"
   ]
  }
 ],
 "metadata": {
  "kernelspec": {
   "display_name": "Python 3 (ipykernel)",
   "language": "python",
   "name": "python3"
  },
  "language_info": {
   "codemirror_mode": {
    "name": "ipython",
    "version": 3
   },
   "file_extension": ".py",
   "mimetype": "text/x-python",
   "name": "python",
   "nbconvert_exporter": "python",
   "pygments_lexer": "ipython3",
   "version": "3.10.8"
  }
 },
 "nbformat": 4,
 "nbformat_minor": 5
}

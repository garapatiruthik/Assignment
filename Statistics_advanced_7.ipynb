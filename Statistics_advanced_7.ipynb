{
 "cells": [
  {
   "cell_type": "code",
   "execution_count": 1,
   "id": "1ad8d22b-cdc6-43ae-8f75-9e6d87af30f9",
   "metadata": {},
   "outputs": [
    {
     "name": "stdout",
     "output_type": "stream",
     "text": [
      "Q1. Write a Python function that takes in two arrays of data and calculates the F-value for a variance ratio test. The function should return the F-value and the corresponding p-value for the test.\n",
      "\n",
      "Ans.\n"
     ]
    }
   ],
   "source": [
    "print(\"Q1. Write a Python function that takes in two arrays of data and calculates the F-value for a variance ratio test. The function should return the F-value and the corresponding p-value for the test.\\n\\nAns.\")"
   ]
  },
  {
   "cell_type": "code",
   "execution_count": 2,
   "id": "86827a43-5bdf-448d-8dc1-35285e51198b",
   "metadata": {},
   "outputs": [
    {
     "name": "stdout",
     "output_type": "stream",
     "text": [
      "F-value: 1.22\n",
      "P-value: 0.8521\n"
     ]
    }
   ],
   "source": [
    "import numpy as np\n",
    "from scipy.stats import f\n",
    "\n",
    "def variance_ratio_test(data1, data2):\n",
    "    # Calculate the variances of the two datasets\n",
    "    var1 = np.var(data1, ddof=1)\n",
    "    var2 = np.var(data2, ddof=1)\n",
    "    \n",
    "    # Calculate the F-value\n",
    "    F = var1 / var2 if var1 > var2 else var2 / var1\n",
    "    \n",
    "    # Degrees of freedom\n",
    "    dfn = len(data1) - 1\n",
    "    dfd = len(data2) - 1\n",
    "    \n",
    "    # Calculate the p-value\n",
    "    p_value = 2 * (1 - f.cdf(F, dfn, dfd))  # Two-tailed test\n",
    "    \n",
    "    return F, p_value\n",
    "\n",
    "# Example usage\n",
    "data1 = [10, 12, 14, 16, 18]\n",
    "data2 = [8, 9, 11, 13, 15]\n",
    "\n",
    "F_value, p_value = variance_ratio_test(data1, data2)\n",
    "print(f\"F-value: {F_value:.2f}\")\n",
    "print(f\"P-value: {p_value:.4f}\")"
   ]
  },
  {
   "cell_type": "code",
   "execution_count": 4,
   "id": "43ddfa87-a7b0-4821-a8e7-6e08c467815a",
   "metadata": {},
   "outputs": [
    {
     "name": "stdout",
     "output_type": "stream",
     "text": [
      "Q2. Given a significance level of 0.05 and the degrees of freedom for the numerator and denominator of an F-distribution, write a Python function that returns the critical F-value for a two-tailed test.\n",
      "\n",
      "Ans.\n"
     ]
    }
   ],
   "source": [
    "print(\"Q2. Given a significance level of 0.05 and the degrees of freedom for the numerator and denominator of an F-distribution, write a Python function that returns the critical F-value for a two-tailed test.\\n\\nAns.\")"
   ]
  },
  {
   "cell_type": "code",
   "execution_count": 3,
   "id": "e4c5a4e5-6b82-4625-80a8-939dc8f79b77",
   "metadata": {},
   "outputs": [
    {
     "name": "stdout",
     "output_type": "stream",
     "text": [
      "Critical F-value: 4.2361\n"
     ]
    }
   ],
   "source": [
    "from scipy.stats import f\n",
    "\n",
    "def critical_f_value(alpha, dfn, dfd):\n",
    "    # Calculate the critical F-value for the upper tail\n",
    "    f_critical_upper = f.ppf(1 - alpha / 2, dfn, dfd)\n",
    "    \n",
    "    return f_critical_upper\n",
    "\n",
    "# Example usage\n",
    "alpha = 0.05\n",
    "dfn = 5  # degrees of freedom for the numerator\n",
    "dfd = 10  # degrees of freedom for the denominator\n",
    "\n",
    "critical_f = critical_f_value(alpha, dfn, dfd)\n",
    "print(f\"Critical F-value: {critical_f:.4f}\")\n"
   ]
  },
  {
   "cell_type": "code",
   "execution_count": 5,
   "id": "90ab41f7-fdef-4aa7-b798-10b334090d34",
   "metadata": {},
   "outputs": [
    {
     "name": "stdout",
     "output_type": "stream",
     "text": [
      "Q3. Write a Python program that generates random samples from two normal distributions with known variances and uses an F-test to determine if the variances are equal. The program should output the F- value, degrees of freedom, and p-value for the test.\n",
      "\n",
      "Ans.\n"
     ]
    }
   ],
   "source": [
    "print(\"Q3. Write a Python program that generates random samples from two normal distributions with known variances and uses an F-test to determine if the variances are equal. The program should output the F- value, degrees of freedom, and p-value for the test.\\n\\nAns.\")"
   ]
  },
  {
   "cell_type": "code",
   "execution_count": 6,
   "id": "39ee6946-bd74-481d-b67a-357b8bf2cbf4",
   "metadata": {},
   "outputs": [
    {
     "name": "stdout",
     "output_type": "stream",
     "text": [
      "F-value: 2.76\n",
      "Degrees of freedom: 29, 29\n",
      "P-value: 0.0079\n"
     ]
    }
   ],
   "source": [
    "import numpy as np\n",
    "from scipy.stats import f\n",
    "\n",
    "def f_test_for_variance(sample1, sample2):\n",
    "    # Calculate variances\n",
    "    var1 = np.var(sample1, ddof=1)\n",
    "    var2 = np.var(sample2, ddof=1)\n",
    "    \n",
    "    # Calculate F-value\n",
    "    F = var1 / var2 if var1 > var2 else var2 / var1\n",
    "    \n",
    "    # Degrees of freedom\n",
    "    dfn = len(sample1) - 1\n",
    "    dfd = len(sample2) - 1\n",
    "    \n",
    "    # Calculate p-value\n",
    "    p_value = 2 * (1 - f.cdf(F, dfn, dfd))  # Two-tailed test\n",
    "    \n",
    "    return F, dfn, dfd, p_value\n",
    "\n",
    "# Generate random samples\n",
    "np.random.seed(0)\n",
    "sample1 = np.random.normal(loc=0, scale=5, size=30)\n",
    "sample2 = np.random.normal(loc=0, scale=10, size=30)\n",
    "\n",
    "# Perform F-test\n",
    "F_value, dfn, dfd, p_value = f_test_for_variance(sample1, sample2)\n",
    "\n",
    "# Output the results\n",
    "print(f\"F-value: {F_value:.2f}\")\n",
    "print(f\"Degrees of freedom: {dfn}, {dfd}\")\n",
    "print(f\"P-value: {p_value:.4f}\")"
   ]
  },
  {
   "cell_type": "code",
   "execution_count": 7,
   "id": "bfd1aa24-3d4d-40ae-b5f8-4be187a6ee5e",
   "metadata": {},
   "outputs": [
    {
     "name": "stdout",
     "output_type": "stream",
     "text": [
      "Q4.The variances of two populations are known to be 10 and 15. A sample of 12 observations is taken from each population. Conduct an F-test at the 5% significance level to determine if the variances are significantly different.\n",
      "\n",
      "Ans.\n"
     ]
    }
   ],
   "source": [
    "print(\"Q4.The variances of two populations are known to be 10 and 15. A sample of 12 observations is taken from each population. Conduct an F-test at the 5% significance level to determine if the variances are significantly different.\\n\\nAns.\")"
   ]
  },
  {
   "cell_type": "code",
   "execution_count": 8,
   "id": "fabd8421-f7bd-40f6-b4a7-fef8cc22312d",
   "metadata": {},
   "outputs": [
    {
     "name": "stdout",
     "output_type": "stream",
     "text": [
      "F-value: 1.50\n",
      "Critical F-value: 3.47\n",
      "P-value: 0.5124\n",
      "The variances are not significantly different.\n"
     ]
    }
   ],
   "source": [
    "from scipy.stats import f\n",
    "\n",
    "def f_test_known_variances(var1, var2, n1, n2, alpha=0.05):\n",
    "    # Calculate F-value\n",
    "    F = var1 / var2 if var1 > var2 else var2 / var1\n",
    "    \n",
    "    # Degrees of freedom\n",
    "    dfn = n1 - 1\n",
    "    dfd = n2 - 1\n",
    "    \n",
    "    # Calculate the critical F-value for the upper tail (two-tailed test)\n",
    "    f_critical_upper = f.ppf(1 - alpha / 2, dfn, dfd)\n",
    "    \n",
    "    # Calculate the p-value\n",
    "    p_value = 2 * (1 - f.cdf(F, dfn, dfd))  # Two-tailed test\n",
    "    \n",
    "    return F, f_critical_upper, p_value\n",
    "\n",
    "# Given variances and sample sizes\n",
    "var1 = 10\n",
    "var2 = 15\n",
    "n1 = 12\n",
    "n2 = 12\n",
    "\n",
    "# Conduct the F-test\n",
    "F_value, f_critical, p_value = f_test_known_variances(var1, var2, n1, n2)\n",
    "\n",
    "# Output the results\n",
    "print(f\"F-value: {F_value:.2f}\")\n",
    "print(f\"Critical F-value: {f_critical:.2f}\")\n",
    "print(f\"P-value: {p_value:.4f}\")\n",
    "\n",
    "# Interpretation\n",
    "if p_value < 0.05:\n",
    "    print(\"The variances are significantly different.\")\n",
    "else:\n",
    "    print(\"The variances are not significantly different.\")"
   ]
  },
  {
   "cell_type": "code",
   "execution_count": 9,
   "id": "0b500d09-6745-49cd-97aa-795e199edf94",
   "metadata": {},
   "outputs": [
    {
     "name": "stdout",
     "output_type": "stream",
     "text": [
      "Q5. A manufacturer claims that the variance of the diameter of a certain product is 0.005. A sample of 25 products is taken, and the sample variance is found to be 0.006. Conduct an F-test at the 1% significance level to determine if the claim is justified.\n",
      "\n",
      "Ans.\n"
     ]
    }
   ],
   "source": [
    "print(\"Q5. A manufacturer claims that the variance of the diameter of a certain product is 0.005. A sample of 25 products is taken, and the sample variance is found to be 0.006. Conduct an F-test at the 1% significance level to determine if the claim is justified.\\n\\nAns.\")"
   ]
  },
  {
   "cell_type": "code",
   "execution_count": 10,
   "id": "ef61dde1-c49c-4383-a4bb-72103b12fe59",
   "metadata": {},
   "outputs": [
    {
     "name": "stdout",
     "output_type": "stream",
     "text": [
      "F-value: 1.20\n",
      "Critical F-value: 6234.63\n",
      "P-value: 0.6296\n",
      "The manufacturer's claim is justified at the 1% significance level.\n"
     ]
    }
   ],
   "source": [
    "from scipy.stats import f\n",
    "\n",
    "def f_test_claim(var_claim, var_sample, n, alpha=0.01):\n",
    "    # Calculate F-value\n",
    "    F = var_sample / var_claim\n",
    "    \n",
    "    # Degrees of freedom\n",
    "    dfn = n - 1\n",
    "    dfd = 1  # Degrees of freedom for the denominator\n",
    "    \n",
    "    # Calculate the critical F-value for the upper tail (one-tailed test)\n",
    "    f_critical_upper = f.ppf(1 - alpha, dfn, dfd)\n",
    "    \n",
    "    # Calculate the p-value\n",
    "    p_value = 1 - f.cdf(F, dfn, dfd)  # One-tailed test\n",
    "    \n",
    "    return F, f_critical_upper, p_value\n",
    "\n",
    "# Given values\n",
    "var_claim = 0.005\n",
    "var_sample = 0.006\n",
    "n = 25\n",
    "\n",
    "# Conduct the F-test\n",
    "F_value, f_critical, p_value = f_test_claim(var_claim, var_sample, n)\n",
    "\n",
    "# Output the results\n",
    "print(f\"F-value: {F_value:.2f}\")\n",
    "print(f\"Critical F-value: {f_critical:.2f}\")\n",
    "print(f\"P-value: {p_value:.4f}\")\n",
    "\n",
    "# Interpretation\n",
    "if F_value > f_critical:\n",
    "    print(\"The manufacturer's claim is not justified at the 1% significance level.\")\n",
    "else:\n",
    "    print(\"The manufacturer's claim is justified at the 1% significance level.\")"
   ]
  },
  {
   "cell_type": "code",
   "execution_count": 11,
   "id": "ea193c26-06dd-4d6d-a9d5-98b673cc12f4",
   "metadata": {},
   "outputs": [
    {
     "name": "stdout",
     "output_type": "stream",
     "text": [
      "Q6. Write a Python function that takes in the degrees of freedom for the numerator and denominator of an F-distribution and calculates the mean and variance of the distribution. The function should return the mean and variance as a tuple.\n",
      "\n",
      "Ans.\n"
     ]
    }
   ],
   "source": [
    "print(\"Q6. Write a Python function that takes in the degrees of freedom for the numerator and denominator of an F-distribution and calculates the mean and variance of the distribution. The function should return the mean and variance as a tuple.\\n\\nAns.\")"
   ]
  },
  {
   "cell_type": "code",
   "execution_count": 12,
   "id": "39b48935-b0b2-47bd-ac77-827f9c372ca3",
   "metadata": {},
   "outputs": [
    {
     "name": "stdout",
     "output_type": "stream",
     "text": [
      "Mean of the F-distribution: 1.25\n",
      "Variance of the F-distribution: 1.3542\n"
     ]
    }
   ],
   "source": [
    "def f_distribution_mean_variance(dfn, dfd):\n",
    "    # Mean of the F-distribution\n",
    "    mean = dfd / (dfd - 2) if dfd > 2 else None\n",
    "    \n",
    "    # Variance of the F-distribution\n",
    "    variance = (2 * dfd**2 * (dfn + dfd - 2)) / (dfn * (dfd - 2)**2 * (dfd - 4)) if dfd > 4 else None\n",
    "    \n",
    "    return mean, variance\n",
    "\n",
    "# Example usage\n",
    "dfn = 5  # degrees of freedom for the numerator\n",
    "dfd = 10  # degrees of freedom for the denominator\n",
    "\n",
    "mean, variance = f_distribution_mean_variance(dfn, dfd)\n",
    "print(f\"Mean of the F-distribution: {mean:.2f}\")\n",
    "print(f\"Variance of the F-distribution: {variance:.4f}\")"
   ]
  },
  {
   "cell_type": "code",
   "execution_count": 13,
   "id": "74f84218-2073-4e94-87d9-10df81ce75f9",
   "metadata": {},
   "outputs": [
    {
     "name": "stdout",
     "output_type": "stream",
     "text": [
      "Q7. A random sample of 10 measurements is taken from a normal population with unknown variance. The sample variance is found to be 25. Another random sample of 15 measurements is taken from another normal population with unknown variance, and the sample variance is found to be 20. Conduct an F-test at the 10% significance level to determine if the variances are significantly different.\n",
      "\n",
      "Ans.\n"
     ]
    }
   ],
   "source": [
    "print(\"Q7. A random sample of 10 measurements is taken from a normal population with unknown variance. The sample variance is found to be 25. Another random sample of 15 measurements is taken from another normal population with unknown variance, and the sample variance is found to be 20. Conduct an F-test at the 10% significance level to determine if the variances are significantly different.\\n\\nAns.\")"
   ]
  },
  {
   "cell_type": "code",
   "execution_count": 14,
   "id": "6d4d6dc8-fa2c-459b-8890-322a5f19e535",
   "metadata": {},
   "outputs": [
    {
     "name": "stdout",
     "output_type": "stream",
     "text": [
      "F-value: 1.25\n",
      "Critical F-value: 2.12\n",
      "P-value: 0.3416\n",
      "The variances are not significantly different at the 10% significance level.\n"
     ]
    }
   ],
   "source": [
    "from scipy.stats import f\n",
    "\n",
    "def f_test_unknown_variances(var1, var2, n1, n2, alpha=0.1):\n",
    "    # Calculate F-value\n",
    "    F = var1 / var2 if var1 > var2 else var2 / var1\n",
    "    \n",
    "    # Degrees of freedom\n",
    "    dfn = n1 - 1\n",
    "    dfd = n2 - 1\n",
    "    \n",
    "    # Calculate the critical F-value for the upper tail (one-tailed test)\n",
    "    f_critical_upper = f.ppf(1 - alpha, dfn, dfd)\n",
    "    \n",
    "    # Calculate the p-value\n",
    "    p_value = 1 - f.cdf(F, dfn, dfd)  # One-tailed test\n",
    "    \n",
    "    return F, f_critical_upper, p_value\n",
    "\n",
    "# Given sample variances and sample sizes\n",
    "var1 = 25\n",
    "var2 = 20\n",
    "n1 = 10\n",
    "n2 = 15\n",
    "\n",
    "# Conduct the F-test\n",
    "F_value, f_critical, p_value = f_test_unknown_variances(var1, var2, n1, n2)\n",
    "\n",
    "# Output the results\n",
    "print(f\"F-value: {F_value:.2f}\")\n",
    "print(f\"Critical F-value: {f_critical:.2f}\")\n",
    "print(f\"P-value: {p_value:.4f}\")\n",
    "\n",
    "# Interpretation\n",
    "if F_value > f_critical:\n",
    "    print(\"The variances are significantly different at the 10% significance level.\")\n",
    "else:\n",
    "    print(\"The variances are not significantly different at the 10% significance level.\")"
   ]
  },
  {
   "cell_type": "code",
   "execution_count": 15,
   "id": "11d270c6-68df-4056-b804-fd437e05e9fe",
   "metadata": {},
   "outputs": [
    {
     "name": "stdout",
     "output_type": "stream",
     "text": [
      "Q8. The following data represent the waiting times in minutes at two different restaurants on a Saturday night: Restaurant A: 24, 25, 28, 23, 22, 20, 27; Restaurant B: 31, 33, 35, 30, 32, 36. Conduct an F-test at the 5% significance level to determine if the variances are significantly different.\n",
      "\n",
      "Ans.\n"
     ]
    }
   ],
   "source": [
    "print(\"Q8. The following data represent the waiting times in minutes at two different restaurants on a Saturday night: Restaurant A: 24, 25, 28, 23, 22, 20, 27; Restaurant B: 31, 33, 35, 30, 32, 36. Conduct an F-test at the 5% significance level to determine if the variances are significantly different.\\n\\nAns.\")"
   ]
  },
  {
   "cell_type": "code",
   "execution_count": null,
   "id": "fee0a4c1-0183-4574-8446-46253626ba58",
   "metadata": {},
   "outputs": [],
   "source": []
  },
  {
   "cell_type": "code",
   "execution_count": null,
   "id": "d63f3cca-1132-49d7-9d82-c078bdcc6b5c",
   "metadata": {},
   "outputs": [],
   "source": [
    "print(\"\\n\\nAns.\")"
   ]
  },
  {
   "cell_type": "code",
   "execution_count": null,
   "id": "8aca57a7-1348-476a-b10c-b303856c28a3",
   "metadata": {},
   "outputs": [],
   "source": []
  }
 ],
 "metadata": {
  "kernelspec": {
   "display_name": "Python 3 (ipykernel)",
   "language": "python",
   "name": "python3"
  },
  "language_info": {
   "codemirror_mode": {
    "name": "ipython",
    "version": 3
   },
   "file_extension": ".py",
   "mimetype": "text/x-python",
   "name": "python",
   "nbconvert_exporter": "python",
   "pygments_lexer": "ipython3",
   "version": "3.10.8"
  }
 },
 "nbformat": 4,
 "nbformat_minor": 5
}

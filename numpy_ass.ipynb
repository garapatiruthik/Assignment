{
 "cells": [
  {
   "cell_type": "code",
   "execution_count": 1,
   "id": "3977fc47-3ffb-4163-8e8b-1ab44926f6c1",
   "metadata": {},
   "outputs": [],
   "source": [
    "import numpy as np\n",
    "list_ = [ '1' , '2' , '3' , '4' , '5' ]\n",
    "array_list = np.array(object = list_)"
   ]
  },
  {
   "cell_type": "code",
   "execution_count": 2,
   "id": "ddacf9da-3b8a-43c0-bbd3-eac036a8d65d",
   "metadata": {},
   "outputs": [
    {
     "name": "stdout",
     "output_type": "stream",
     "text": [
      "Q1. Is there any difference in the data type of variables list_ and array_list? If there is then write a code to print the data types of both the variables.\n"
     ]
    }
   ],
   "source": [
    "print('Q1. Is there any difference in the data type of variables list_ and array_list? If there is then write a code to print the data types of both the variables.')"
   ]
  },
  {
   "cell_type": "code",
   "execution_count": 3,
   "id": "7fcc65fa-88ec-4377-b681-0bb106f821e8",
   "metadata": {},
   "outputs": [
    {
     "name": "stdout",
     "output_type": "stream",
     "text": [
      "Ans.Yes, there is a difference in the data type of the variables list_ and array_list. The variable list_ is a Python list, while array_list is a NumPy array.\n",
      "Data type of list_: <class 'list'>\n",
      "Data type of array_list: <class 'numpy.ndarray'>\n"
     ]
    }
   ],
   "source": [
    "print('Ans.Yes, there is a difference in the data type of the variables list_ and array_list. The variable list_ is a Python list, while array_list is a NumPy array.')\n",
    "print(\"Data type of list_:\", type(list_))\n",
    "print(\"Data type of array_list:\", type(array_list))"
   ]
  },
  {
   "cell_type": "code",
   "execution_count": 4,
   "id": "33ea7111-de7b-474e-86d1-8f112934088e",
   "metadata": {},
   "outputs": [
    {
     "name": "stdout",
     "output_type": "stream",
     "text": [
      "Q2. Write a code to print the data type of each and every element of both the variables list_ and arra_list.\n"
     ]
    },
    {
     "data": {
      "text/plain": [
       "list"
      ]
     },
     "execution_count": 4,
     "metadata": {},
     "output_type": "execute_result"
    }
   ],
   "source": [
    "print(\"Q2. Write a code to print the data type of each and every element of both the variables list_ and arra_list.\")\n",
    "type(list_)"
   ]
  },
  {
   "cell_type": "code",
   "execution_count": 5,
   "id": "40e40845-c013-43ca-826c-f92bbbc5fe50",
   "metadata": {},
   "outputs": [
    {
     "data": {
      "text/plain": [
       "numpy.ndarray"
      ]
     },
     "execution_count": 5,
     "metadata": {},
     "output_type": "execute_result"
    }
   ],
   "source": [
    "type(array_list)"
   ]
  },
  {
   "cell_type": "code",
   "execution_count": 6,
   "id": "183320bf-276e-4677-85f0-9c800e6d1168",
   "metadata": {},
   "outputs": [
    {
     "name": "stdout",
     "output_type": "stream",
     "text": [
      "Q3. Considering the following changes in the variable, array_list: array_list = np.array(object = list_, dtype = int) Will there be any difference in the data type of the elements present in both the variables, list_ and arra_list? If so then print the data types of each and every element present in both the variables, list_ and arra_list.\n"
     ]
    }
   ],
   "source": [
    "print(\"Q3. Considering the following changes in the variable, array_list: array_list = np.array(object = list_, dtype = int) Will there be any difference in the data type of the elements present in both the variables, list_ and arra_list? If so then print the data types of each and every element present in both the variables, list_ and arra_list.\")"
   ]
  },
  {
   "cell_type": "code",
   "execution_count": 9,
   "id": "59d9ccfd-010e-4cba-9381-170dba914d7e",
   "metadata": {},
   "outputs": [],
   "source": [
    "array_list = np.array(object = list_, dtype = int)"
   ]
  },
  {
   "cell_type": "code",
   "execution_count": 12,
   "id": "420f5c15-d0ab-4180-9790-c23a073e7073",
   "metadata": {},
   "outputs": [
    {
     "name": "stdout",
     "output_type": "stream",
     "text": [
      "list: \n",
      "<class 'str'>\n",
      "list: \n",
      "<class 'str'>\n",
      "list: \n",
      "<class 'str'>\n",
      "list: \n",
      "<class 'str'>\n",
      "list: \n",
      "<class 'str'>\n",
      "array_list\n",
      "<class 'numpy.int64'>\n",
      "array_list\n",
      "<class 'numpy.int64'>\n",
      "array_list\n",
      "<class 'numpy.int64'>\n",
      "array_list\n",
      "<class 'numpy.int64'>\n",
      "array_list\n",
      "<class 'numpy.int64'>\n"
     ]
    }
   ],
   "source": [
    "for i in list_:\n",
    "    print(\"list: \")\n",
    "    print(type(i))\n",
    "    \n",
    "for i in array_list:\n",
    "    print(\"array_list\")\n",
    "    print(type(i))"
   ]
  },
  {
   "cell_type": "code",
   "execution_count": 13,
   "id": "b1ecb837-4fde-4e51-9e9e-becd50fd7026",
   "metadata": {},
   "outputs": [
    {
     "name": "stdout",
     "output_type": "stream",
     "text": [
      "Yes, there will be a difference in the data type of the elements present in both variables, list_ and array_list.\n",
      " In the original list_ variable, the elements are strings ('1', '2', '3', '4', '5'). However, when you create array_list with dtype=int, the elements will be converted to integers.\n"
     ]
    }
   ],
   "source": [
    "print(\"Yes, there will be a difference in the data type of the elements present in both variables, list_ and array_list.\\n In the original list_ variable, the elements are strings ('1', '2', '3', '4', '5'). However, when you create array_list with dtype=int, the elements will be converted to integers.\")"
   ]
  },
  {
   "cell_type": "code",
   "execution_count": 14,
   "id": "6957aacb-1d9c-48dc-805c-ba609a028085",
   "metadata": {},
   "outputs": [],
   "source": [
    "import numpy as np\n",
    "num_list = [ [ 1 , 2 , 3 ] , [ 4 , 5 , 6 ] ]\n",
    "num_array = np.array(object = num_list)"
   ]
  },
  {
   "cell_type": "code",
   "execution_count": 15,
   "id": "c4eb3a0d-a2d7-49ee-b2e2-3e62cb7b7f28",
   "metadata": {},
   "outputs": [
    {
     "name": "stdout",
     "output_type": "stream",
     "text": [
      "Q4. Write a code to find the following characteristics of variable, num_array:\n",
      "(i) shape\n",
      "(ii) size\n"
     ]
    }
   ],
   "source": [
    "print(\"Q4. Write a code to find the following characteristics of variable, num_array:\\n(i) shape\\n(ii) size\")"
   ]
  },
  {
   "cell_type": "code",
   "execution_count": null,
   "id": "05db88c4-3f98-4772-b048-880d1c3c232e",
   "metadata": {},
   "outputs": [],
   "source": [
    "num_array.shape"
   ]
  },
  {
   "cell_type": "code",
   "execution_count": null,
   "id": "49cb91bf-85be-433a-85f6-550b4938bb5e",
   "metadata": {},
   "outputs": [],
   "source": []
  },
  {
   "cell_type": "code",
   "execution_count": 7,
   "id": "5b640630-8854-4d49-9a0f-64b1cb3a3849",
   "metadata": {},
   "outputs": [
    {
     "name": "stdout",
     "output_type": "stream",
     "text": [
      "Q5. Write a code to create numpy array of 3*3 matrix containing zeros only, using a numpy array creation function.\n"
     ]
    },
    {
     "data": {
      "text/plain": [
       "array([[0., 0., 0.],\n",
       "       [0., 0., 0.],\n",
       "       [0., 0., 0.]])"
      ]
     },
     "execution_count": 7,
     "metadata": {},
     "output_type": "execute_result"
    }
   ],
   "source": [
    "print('Q5. Write a code to create numpy array of 3*3 matrix containing zeros only, using a numpy array creation function.')\n",
    "np.zeros((3,3))"
   ]
  },
  {
   "cell_type": "code",
   "execution_count": 8,
   "id": "46f5364c-08fd-402a-84bd-0cf5d1550cd4",
   "metadata": {},
   "outputs": [
    {
     "name": "stdout",
     "output_type": "stream",
     "text": [
      "Q6. Create an identity matrix of shape (5,5) using numpy functions?\n"
     ]
    },
    {
     "data": {
      "text/plain": [
       "array([[1., 0., 0., 0., 0.],\n",
       "       [0., 1., 0., 0., 0.],\n",
       "       [0., 0., 1., 0., 0.],\n",
       "       [0., 0., 0., 1., 0.],\n",
       "       [0., 0., 0., 0., 1.]])"
      ]
     },
     "execution_count": 8,
     "metadata": {},
     "output_type": "execute_result"
    }
   ],
   "source": [
    "print('Q6. Create an identity matrix of shape (5,5) using numpy functions?')\n",
    "np.eye(5)"
   ]
  },
  {
   "cell_type": "code",
   "execution_count": null,
   "id": "ad705911-6b8b-4e87-8744-4812f38d42f7",
   "metadata": {},
   "outputs": [],
   "source": []
  },
  {
   "cell_type": "code",
   "execution_count": null,
   "id": "93197797-9581-46a6-b123-2e5d434e0e74",
   "metadata": {},
   "outputs": [],
   "source": []
  },
  {
   "cell_type": "code",
   "execution_count": null,
   "id": "854cc994-ee23-438d-acc6-3042d15def51",
   "metadata": {},
   "outputs": [],
   "source": []
  },
  {
   "cell_type": "code",
   "execution_count": null,
   "id": "256ec1cb-39d7-49c3-be39-8f3dbb1db528",
   "metadata": {},
   "outputs": [],
   "source": []
  },
  {
   "cell_type": "code",
   "execution_count": null,
   "id": "5d42ef50-8523-478d-b789-ad7b038d8f2a",
   "metadata": {},
   "outputs": [],
   "source": []
  }
 ],
 "metadata": {
  "kernelspec": {
   "display_name": "Python 3 (ipykernel)",
   "language": "python",
   "name": "python3"
  },
  "language_info": {
   "codemirror_mode": {
    "name": "ipython",
    "version": 3
   },
   "file_extension": ".py",
   "mimetype": "text/x-python",
   "name": "python",
   "nbconvert_exporter": "python",
   "pygments_lexer": "ipython3",
   "version": "3.10.8"
  }
 },
 "nbformat": 4,
 "nbformat_minor": 5
}

{
 "cells": [
  {
   "cell_type": "code",
   "execution_count": 4,
   "id": "29b40505-3f9a-4ab4-b0a5-08d62d7043c0",
   "metadata": {},
   "outputs": [
    {
     "name": "stdout",
     "output_type": "stream",
     "text": [
      "Q1: What are the Probability Mass Function (PMF) and Probability Density Function (PDF)? Explain with an example.\n",
      "Ans.- PMF (Probability Mass Function): Used for discrete random variables. Gives the probability of each specific value.\n",
      " Example: Rolling a fair six-sided die, PMF gives the probability of getting each number (1, 2, 3, 4, 5, 6).\n",
      "\n",
      "- PDF (Probability Density Function): Used for continuous random variables. Gives the probability density over a range of valun\n",
      " Example: Human height distribution, PDF gives the likelihood of a person having a height within a specific range (e.g., between 5'9 and 5'10)\n"
     ]
    }
   ],
   "source": [
    "print(\"Q1: What are the Probability Mass Function (PMF) and Probability Density Function (PDF)? Explain with an example.\\nAns.- PMF (Probability Mass Function): Used for discrete random variables. Gives the probability of each specific value.\\n Example: Rolling a fair six-sided die, PMF gives the probability of getting each number (1, 2, 3, 4, 5, 6).\\n\\n- PDF (Probability Density Function): Used for continuous random variables. Gives the probability density over a range of valun\\n Example: Human height distribution, PDF gives the likelihood of a person having a height within a specific range (e.g., between 5'9 and 5'10)\")"
   ]
  },
  {
   "cell_type": "code",
   "execution_count": 6,
   "id": "b1e95462-e524-4dae-9e4b-cb09def33d3d",
   "metadata": {},
   "outputs": [
    {
     "name": "stdout",
     "output_type": "stream",
     "text": [
      "Q2: What is Cumulative Density Function (CDF)? Explain with an example. Why CDF is used?\n",
      "\n",
      "Ans.The Cumulative Density Function (CDF) tells us the probability that a random variable is less than or equal to a certain value. For example, flipping a coin twice, the CDF would show the probabilities of getting 0, 1, or 2 heads. It's used to understand distributions and make statistical inferences efficiently.\n"
     ]
    }
   ],
   "source": [
    "print(\"Q2: What is Cumulative Density Function (CDF)? Explain with an example. Why CDF is used?\\n\\nAns.The Cumulative Density Function (CDF) tells us the probability that a random variable is less than or equal to a certain value. For example, flipping a coin twice, the CDF would show the probabilities of getting 0, 1, or 2 heads. It's used to understand distributions and make statistical inferences efficiently.\")"
   ]
  },
  {
   "cell_type": "code",
   "execution_count": 1,
   "id": "fcc4974a-95e8-412b-9423-f4d1bb781964",
   "metadata": {},
   "outputs": [
    {
     "name": "stdout",
     "output_type": "stream",
     "text": [
      "Q3: What are some examples of situations where the normal distribution might be used as a model? Explain how the parameters of the normal distribution relate to the shape of the distribution.\n",
      "\n",
      "Ans.The normal distribution is used to model various phenomena like human height, IQ scores, and measurement errors. Its shape is determined by two parameters: the mean (μ), which sets the center of the distribution, and the standard deviation (σ), which controls its spread. Adjusting these parameters changes the distribution's shape, allowing it to fit different data patterns.\n"
     ]
    }
   ],
   "source": [
    "print(\"Q3: What are some examples of situations where the normal distribution might be used as a model? Explain how the parameters of the normal distribution relate to the shape of the distribution.\\n\\nAns.The normal distribution is used to model various phenomena like human height, IQ scores, and measurement errors. Its shape is determined by two parameters: the mean (μ), which sets the center of the distribution, and the standard deviation (σ), which controls its spread. Adjusting these parameters changes the distribution's shape, allowing it to fit different data patterns.\")"
   ]
  },
  {
   "cell_type": "code",
   "execution_count": 2,
   "id": "c0c1d6cf-8844-4c39-8433-561075b2ee33",
   "metadata": {},
   "outputs": [
    {
     "name": "stdout",
     "output_type": "stream",
     "text": [
      "Q5: What is Bernaulli Distribution? Give an Example. What is the difference between Bernoulli Distribution and Binomial Distribution?\n",
      "\n",
      "Ans.The Bernoulli distribution describes the outcome of a single trial with two possible outcomes. For example, flipping a coin once. The binomial distribution, on the other hand, describes the number of successes in a fixed number of independent Bernoulli trials.\n"
     ]
    }
   ],
   "source": [
    "print(\"Q5: What is Bernaulli Distribution? Give an Example. What is the difference between Bernoulli Distribution and Binomial Distribution?\\n\\nAns.The Bernoulli distribution describes the outcome of a single trial with two possible outcomes. For example, flipping a coin once. The binomial distribution, on the other hand, describes the number of successes in a fixed number of independent Bernoulli trials.\")"
   ]
  },
  {
   "cell_type": "code",
   "execution_count": 3,
   "id": "a83a943b-597f-4bd1-9ba3-dacb842b982f",
   "metadata": {},
   "outputs": [
    {
     "name": "stdout",
     "output_type": "stream",
     "text": [
      "Q6. Consider a dataset with a mean of 50 and a standard deviation of 10. If we assume that the dataset is normally distributed, what is the probability that a randomly selected observation will be greater than 60? Use the appropriate formula and show your calculations.\n",
      "\n",
      "Ans.\n"
     ]
    }
   ],
   "source": [
    "print(\"Q6. Consider a dataset with a mean of 50 and a standard deviation of 10. If we assume that the dataset is normally distributed, what is the probability that a randomly selected observation will be greater than 60? Use the appropriate formula and show your calculations.\\n\\nAns.\")"
   ]
  },
  {
   "cell_type": "code",
   "execution_count": 2,
   "id": "e3bffc92-8dbb-4909-a081-ef18a1817766",
   "metadata": {},
   "outputs": [
    {
     "data": {
      "text/plain": [
       "1.0"
      ]
     },
     "execution_count": 2,
     "metadata": {},
     "output_type": "execute_result"
    }
   ],
   "source": [
    "#given\n",
    "mean = 50\n",
    "std = 10\n",
    "x = 60\n",
    "z = (x-mean)/std\n",
    "z"
   ]
  },
  {
   "cell_type": "code",
   "execution_count": 3,
   "id": "bfbf8b4a-c7e5-40b8-b2bd-6a08228b2148",
   "metadata": {},
   "outputs": [
    {
     "data": {
      "text/plain": [
       "0.15869999999999995"
      ]
     },
     "execution_count": 3,
     "metadata": {},
     "output_type": "execute_result"
    }
   ],
   "source": [
    "#The corresponding value in the z table is 0.8413\n",
    "#probability of observation greater than 60 is P(X>60)=1−P(X≤60), i.e,\n",
    "p = 1-0.8413\n",
    "p\n",
    "# therefore it is app. 15.86 percentage"
   ]
  },
  {
   "cell_type": "code",
   "execution_count": 6,
   "id": "655de85c-c7cc-4565-ae74-3cc0c183e86f",
   "metadata": {},
   "outputs": [
    {
     "name": "stdout",
     "output_type": "stream",
     "text": [
      "Q7: Explain uniform Distribution with an example.\n",
      "\n",
      "Ans.A uniform distribution is a type of probability distribution where all outcomes are equally likely within a certain range. It is defined by two parameters: the minimum value a and the maximum value b. The probability density function (PDF) for a uniform distribution is constant between a and b.\n",
      "Example: rolling a die has 6 possible outcomes with all of equal probability, so min value is 1 and max is 6.\n"
     ]
    }
   ],
   "source": [
    "print(\"Q7: Explain uniform Distribution with an example.\\n\\nAns.A uniform distribution is a type of probability distribution where all outcomes are equally likely within a certain range. It is defined by two parameters: the minimum value a and the maximum value b. The probability density function (PDF) for a uniform distribution is constant between a and b.\\nExample: rolling a die has 6 possible outcomes with all of equal probability, so min value is 1 and max is 6.\")"
   ]
  },
  {
   "cell_type": "code",
   "execution_count": 9,
   "id": "cf2529f8-8206-4fbd-9c32-6b31bbdfe015",
   "metadata": {},
   "outputs": [
    {
     "name": "stdout",
     "output_type": "stream",
     "text": [
      "Q8: What is the z score? State the importance of the z score.\n",
      "\n",
      "Ans.A Z-score (also known as a standard score) is a statistical measurement that describes a value's position relative to the mean of a group of values. It is expressed in terms of standard deviations from the mean.Its formula is z = (x-mean)/std_deviation.\n",
      "Importanceof z score:\n",
      "-Identifying outliers\n",
      "-Standardization\n",
      "-probability calculation\n",
      "-Normalizations\n"
     ]
    }
   ],
   "source": [
    "print(\"Q8: What is the z score? State the importance of the z score.\\n\\nAns.A Z-score (also known as a standard score) is a statistical measurement that describes a value's position relative to the mean of a group of values. It is expressed in terms of standard deviations from the mean.Its formula is z = (x-mean)/std_deviation.\\nImportanceof z score:\\n-Identifying outliers\\n-Standardization\\n-probability calculation\\n-Normalizations\")"
   ]
  },
  {
   "cell_type": "code",
   "execution_count": 10,
   "id": "cbb708ff-face-4b99-835f-fcaccf225369",
   "metadata": {},
   "outputs": [
    {
     "name": "stdout",
     "output_type": "stream",
     "text": [
      "Q9: What is Central Limit Theorem? State the significance of the Central Limit Theorem.\n",
      "\n",
      "Ans.The Central Limit Theorem states that the sampling distribution of the sample mean (or sum) of a sufficiently large number of independent, identically distributed (i.i.d.) random variables will approximate a normal distribution, regardless of the original distribution of the population. This holds true if the sample size is large enough, typically  n≥30.\n",
      "Significance:\n",
      "-normal approximations\n",
      "-Basis of internal statistics\n",
      "-simple analysis etc.\n"
     ]
    }
   ],
   "source": [
    "print(\"Q9: What is Central Limit Theorem? State the significance of the Central Limit Theorem.\\n\\nAns.The Central Limit Theorem states that the sampling distribution of the sample mean (or sum) of a sufficiently large number of independent, identically distributed (i.i.d.) random variables will approximate a normal distribution, regardless of the original distribution of the population. This holds true if the sample size is large enough, typically  n≥30.\\nSignificance:\\n-normal approximations\\n-Basis of internal statistics\\n-simple analysis etc.\")"
   ]
  },
  {
   "cell_type": "code",
   "execution_count": null,
   "id": "9bfdc491-0b5e-4aee-9569-52d7f1edc71c",
   "metadata": {},
   "outputs": [],
   "source": [
    "print(\"Q10: State the assumptions of the Central Limit Theorem.\\n\\nAns.\")"
   ]
  }
 ],
 "metadata": {
  "kernelspec": {
   "display_name": "Python 3 (ipykernel)",
   "language": "python",
   "name": "python3"
  },
  "language_info": {
   "codemirror_mode": {
    "name": "ipython",
    "version": 3
   },
   "file_extension": ".py",
   "mimetype": "text/x-python",
   "name": "python",
   "nbconvert_exporter": "python",
   "pygments_lexer": "ipython3",
   "version": "3.10.8"
  }
 },
 "nbformat": 4,
 "nbformat_minor": 5
}

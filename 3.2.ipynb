{
 "cells": [
  {
   "cell_type": "code",
   "execution_count": 12,
   "id": "4dacb292-d82e-4f38-bb2b-d1e9544e941c",
   "metadata": {},
   "outputs": [
    {
     "name": "stdout",
     "output_type": "stream",
     "text": [
      "1Q. Create a python program to sort the given list of tuples based on integer value using a lambda function [('Sachin Tendulkar',34357),('Ricky Ponting',27483),('Jack Kallis',25534),('Virat Kohli',24936)].\n",
      "Ans.\n",
      "('Virat Kohli', 24936)\n",
      "('Jack Kallis', 25534)\n",
      "('Ricky Ponting', 27483)\n",
      "('Sachin Tendulkar', 34357)\n",
      "\n",
      "2Q. Create a python program to find the squares of all the numbers in a list of integers using lambda and map functions [1,2,3,4,5,6,7,8,9,10]\n",
      "Ans. The required list of squared numbers are as follows:\n",
      "\n",
      "3Q. Write a python program to convert the given list of integrs into tuples of strings. Use map and lambda function\n",
      "Given list: [1,2,3,4,5,6,7,8,9,10]\n",
      "Expected output: ('1','2','3','4','5','6','7','8','9','10')\n",
      "Ans. The expected output is as follows:\n",
      "('1', '2', '3', '4', '5', '6', '7', '8', '9', '10')\n",
      "\n",
      "4Q. Write a python program using reduce function to compute the product of a list containin numbers from 1 to 25.\n",
      "Ans.\n",
      "[1, 2, 3, 4, 5, 6, 7, 8, 9, 10, 11, 12, 13, 14, 15, 16, 17, 18, 19, 20, 21, 22, 23, 24, 25]\n",
      "The product of the list of numbers is as follows:\n",
      "15511210043330985984000000\n",
      "\n",
      "5Q. Write a python program to filter a list of numbers, filter it to numbers only which are divisible by 2 and using filter function: [2,3,6,9,27,60,90,120,55,46]\n",
      "Ans. The list of numbers divisible by 2 and 3 are as follows:\n",
      "\n",
      "6Q. Write a python program to find palindromes in a list of strings using lambda and filter functions. The list: ['python','php','aba','radar','level']\n",
      "Ans. The requires list of palindrome strings are as follows:\n",
      "['php', 'aba', 'radar', 'level']\n"
     ]
    }
   ],
   "source": [
    "print(\"1Q. Create a python program to sort the given list of tuples based on integer value using a lambda function [('Sachin Tendulkar',34357),('Ricky Ponting',27483),('Jack Kallis',25534),('Virat Kohli',24936)].\\nAns.\")\n",
    "R=[('Sachin Tendulkar',34357),('Ricky Ponting',27483),('Jack Kallis',25534),('Virat Kohli',24936)]\n",
    "R.sort(key=lambda x: x[1])\n",
    "for item in R:\n",
    "    print(item)\n",
    "print('\\n2Q. Create a python program to find the squares of all the numbers in a list of integers using lambda and map functions [1,2,3,4,5,6,7,8,9,10]\\nAns. The required list of squared numbers are as follows:')\n",
    "l=[1,2,3,4,5,6,7,8,9,10]\n",
    "list(map(lambda x: x**2, l))\n",
    "print(\"\\n3Q. Write a python program to convert the given list of integrs into tuples of strings. Use map and lambda function\\nGiven list: [1,2,3,4,5,6,7,8,9,10]\\nExpected output: ('1','2','3','4','5','6','7','8','9','10')\\nAns. The expected output is as follows:\")\n",
    "num=[1,2,3,4,5,6,7,8,9,10]\n",
    "num=tuple(map(lambda i: str(i),num))\n",
    "print(num)\n",
    "print(\"\\n4Q. Write a python program using reduce function to compute the product of a list containin numbers from 1 to 25.\\nAns.\")\n",
    "num=[]\n",
    "for i in range(1,26):\n",
    "    num.append(i)\n",
    "print(num)\n",
    "print('The product of the list of numbers is as follows:')\n",
    "from functools import reduce\n",
    "result=reduce(lambda x,y: x*y,num)\n",
    "print(result)\n",
    "print(\"\\n5Q. Write a python program to filter a list of numbers, filter it to numbers only which are divisible by 2 and using filter function: [2,3,6,9,27,60,90,120,55,46]\\nAns. The list of numbers divisible by 2 and 3 are as follows:\")\n",
    "num=[2,3,6,9,27,60,90,120,55,46]\n",
    "list(filter(lambda i: i%2==0 and i%3==0, num))\n",
    "print(\"\\n6Q. Write a python program to find palindromes in a list of strings using lambda and filter functions. The list: ['python','php','aba','radar','level']\\nAns. The requires list of palindrome strings are as follows:\")\n",
    "strings=['python','php','aba','radar','level']\n",
    "def pal(n):\n",
    "    m=n[::-1]\n",
    "    if m==n:\n",
    "        return True\n",
    "    else:\n",
    "        return False\n",
    "print(list(filter(pal,strings)))\n"
   ]
  },
  {
   "cell_type": "code",
   "execution_count": null,
   "id": "a382d980-5d40-40e0-9f91-e4f37ca49cf5",
   "metadata": {},
   "outputs": [],
   "source": []
  },
  {
   "cell_type": "code",
   "execution_count": null,
   "id": "1fd46848-a6fb-4c29-9012-f221a3d370d2",
   "metadata": {},
   "outputs": [],
   "source": []
  },
  {
   "cell_type": "code",
   "execution_count": null,
   "id": "6a4c8fee-b376-461f-9d46-ab446fa9ed45",
   "metadata": {},
   "outputs": [],
   "source": []
  }
 ],
 "metadata": {
  "kernelspec": {
   "display_name": "Python 3 (ipykernel)",
   "language": "python",
   "name": "python3"
  },
  "language_info": {
   "codemirror_mode": {
    "name": "ipython",
    "version": 3
   },
   "file_extension": ".py",
   "mimetype": "text/x-python",
   "name": "python",
   "nbconvert_exporter": "python",
   "pygments_lexer": "ipython3",
   "version": "3.10.8"
  }
 },
 "nbformat": 4,
 "nbformat_minor": 5
}

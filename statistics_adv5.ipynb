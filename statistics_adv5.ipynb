{
 "cells": [
  {
   "cell_type": "code",
   "execution_count": 1,
   "id": "f7617f67-1edb-45dc-8019-3bfd9bdd5aed",
   "metadata": {},
   "outputs": [
    {
     "name": "stdout",
     "output_type": "stream",
     "text": [
      "Q1. Calculate the 95% confidence interval for a sample of data with a mean of 50 and a standard deviation of 5 using Python. Interpret the results.\n",
      "\n",
      "Ans.\n"
     ]
    },
    {
     "data": {
      "text/plain": [
       "(40.200180077299734, 59.799819922700266)"
      ]
     },
     "execution_count": 1,
     "metadata": {},
     "output_type": "execute_result"
    }
   ],
   "source": [
    "print(\"Q1. Calculate the 95% confidence interval for a sample of data with a mean of 50 and a standard deviation of 5 using Python. Interpret the results.\\n\\nAns.\")\n",
    "import scipy.stats as stats\n",
    "\n",
    "# Given data\n",
    "mean = 50\n",
    "std_dev = 5\n",
    "sample_size = 1  # Since we are not given a sample size, we assume it's 1 for the sake of standard error calculation\n",
    "\n",
    "# Calculate standard error\n",
    "std_error = std_dev / (sample_size ** 0.5)\n",
    "\n",
    "# Z-score for 95% confidence interval\n",
    "z_score = stats.norm.ppf(0.975)\n",
    "\n",
    "# Margin of error\n",
    "margin_of_error = z_score * std_error\n",
    "\n",
    "# Confidence interval\n",
    "confidence_interval = (mean - margin_of_error, mean + margin_of_error)\n",
    "confidence_interval\n"
   ]
  },
  {
   "cell_type": "code",
   "execution_count": 1,
   "id": "8c8bed61-d5c8-445b-9bb2-ee54b81d35a7",
   "metadata": {},
   "outputs": [
    {
     "name": "stdout",
     "output_type": "stream",
     "text": [
      "Q2. Conduct a chi-square goodness of fit test to determine if the distribution of colors of M&Ms in a bag matches the expected distribution of 20% blue, 20% orange, 20% green, 10% yellow, 10% red, and 20% brown. Use Python to perform the test with a significance level of 0.05.\n",
      "\n",
      "Ans.\n"
     ]
    },
    {
     "data": {
      "text/plain": [
       "(3.0, 0.6999858358786276)"
      ]
     },
     "execution_count": 1,
     "metadata": {},
     "output_type": "execute_result"
    }
   ],
   "source": [
    "print(\"Q2. Conduct a chi-square goodness of fit test to determine if the distribution of colors of M&Ms in a bag matches the expected distribution of 20% blue, 20% orange, 20% green, 10% yellow, 10% red, and 20% brown. Use Python to perform the test with a significance level of 0.05.\\n\\nAns.\")\n",
    "import scipy.stats as stats\n",
    "\n",
    "# Observed frequencies (example data, replace with actual observed frequencies)\n",
    "observed_frequencies = [30, 20, 25, 15, 10, 25]  # Replace with actual data\n",
    "\n",
    "# Expected frequencies (based on the given expected distribution)\n",
    "total_mms = sum(observed_frequencies)\n",
    "expected_frequencies = [0.20 * total_mms, 0.20 * total_mms, 0.20 * total_mms, 0.10 * total_mms, 0.10 * total_mms, 0.20 * total_mms]\n",
    "\n",
    "# Perform chi-square goodness of fit test\n",
    "chi2_stat, p_value = stats.chisquare(observed_frequencies, f_exp=expected_frequencies)\n",
    "\n",
    "# Output results\n",
    "chi2_stat, p_value"
   ]
  },
  {
   "cell_type": "code",
   "execution_count": 4,
   "id": "2c15acb1-45ba-4331-ad76-fd8010d857cf",
   "metadata": {},
   "outputs": [
    {
     "name": "stdout",
     "output_type": "stream",
     "text": [
      "Q3. Use Python to calculate the chi-square statistic and p-value for a contingency table with the following data: for group A and group B the outcome1(20,15),outcome2(10,25),outcome3(15,20)\n",
      "Interpret the results of the test.\n",
      "\n",
      "Ans.\n"
     ]
    },
    {
     "data": {
      "text/plain": [
       "(5.833333333333334, 0.05411376622282158)"
      ]
     },
     "execution_count": 4,
     "metadata": {},
     "output_type": "execute_result"
    }
   ],
   "source": [
    "print(\"Q3. Use Python to calculate the chi-square statistic and p-value for a contingency table with the following data: for group A and group B the outcome1(20,15),outcome2(10,25),outcome3(15,20)\\nInterpret the results of the test.\\n\\nAns.\")\n",
    "import scipy.stats as stats\n",
    "\n",
    "# Contingency table data (vertical format)\n",
    "#           Group A   Group B\n",
    "# Outcome1     20         15\n",
    "# Outcome2     10         25\n",
    "# Outcome3     15         20\n",
    "\n",
    "contingency_table = [[20, 15],\n",
    "                     [10, 25],\n",
    "                     [15, 20]]\n",
    "\n",
    "# Perform chi-square test\n",
    "chi2_stat, p_value, dof, expected = stats.chi2_contingency(contingency_table)\n",
    "\n",
    "# Output results\n",
    "chi2_stat, p_value"
   ]
  },
  {
   "cell_type": "code",
   "execution_count": 1,
   "id": "20347142-7148-4f74-a328-9756c17ab6d7",
   "metadata": {},
   "outputs": [
    {
     "name": "stdout",
     "output_type": "stream",
     "text": [
      "Q4. A study of the prevalence of smoking in a population of 500 individuals found that 60 individuals smoked. Use Python to calculate the 95% confidence interval for the true proportion of individuals in the population who smoke.\n",
      "\n",
      "Ans.\n"
     ]
    },
    {
     "data": {
      "text/plain": [
       "(0.09151586546865079, 0.1484841345313492)"
      ]
     },
     "execution_count": 1,
     "metadata": {},
     "output_type": "execute_result"
    }
   ],
   "source": [
    "print(\"Q4. A study of the prevalence of smoking in a population of 500 individuals found that 60 individuals smoked. Use Python to calculate the 95% confidence interval for the true proportion of individuals in the population who smoke.\\n\\nAns.\")\n",
    "import math\n",
    "\n",
    "# Given data\n",
    "n = 500\n",
    "x = 60\n",
    "\n",
    "# Sample proportion\n",
    "p_hat = x / n\n",
    "\n",
    "# Z-score for 95% confidence interval\n",
    "Z = 1.96\n",
    "\n",
    "# Standard error\n",
    "SE = math.sqrt((p_hat * (1 - p_hat)) / n)\n",
    "\n",
    "# Confidence interval\n",
    "CI_lower = p_hat - Z * SE\n",
    "CI_upper = p_hat + Z * SE\n",
    "\n",
    "(CI_lower, CI_upper)\n"
   ]
  },
  {
   "cell_type": "code",
   "execution_count": 3,
   "id": "a43e5d45-b16b-4039-b771-416e02e9dfa3",
   "metadata": {},
   "outputs": [
    {
     "name": "stdout",
     "output_type": "stream",
     "text": [
      "Q5. Calculate the 90% confidence interval for a sample of data with a mean of 75 and a standard deviation of 12 using Python. Interpret the results.\n",
      "\n",
      "Ans.\n"
     ]
    },
    {
     "data": {
      "text/plain": [
       "(71.39598557161601, 78.60401442838399)"
      ]
     },
     "execution_count": 3,
     "metadata": {},
     "output_type": "execute_result"
    }
   ],
   "source": [
    "print(\"Q5. Calculate the 90% confidence interval for a sample of data with a mean of 75 and a standard deviation of 12 using Python. Interpret the results.\\n\\nAns.\")\n",
    "import math\n",
    "\n",
    "# Given data\n",
    "mean = 75\n",
    "std_dev = 12\n",
    "n = 30  # assumed sample size\n",
    "\n",
    "# Z-score for 90% confidence interval\n",
    "Z = 1.645\n",
    "\n",
    "# Standard error\n",
    "SE = std_dev / math.sqrt(n)\n",
    "\n",
    "# Confidence interval\n",
    "CI_lower = mean - Z * SE\n",
    "CI_upper = mean + Z * SE\n",
    "\n",
    "(CI_lower, CI_upper)\n"
   ]
  },
  {
   "cell_type": "code",
   "execution_count": 5,
   "id": "3fd777f8-3310-4459-a289-151e1cb2a12a",
   "metadata": {},
   "outputs": [
    {
     "name": "stdout",
     "output_type": "stream",
     "text": [
      "Q6. Use Python to plot the chi-square distribution with 10 degrees of freedom. Label the axes and shade the area corresponding to a chi-square statistic of 15.\n",
      "\n",
      "Ans.\n"
     ]
    },
    {
     "data": {
      "image/png": "[encoded data removed]",
      "text/plain": [
       "<Figure size 1000x600 with 1 Axes>"
      ]
     },
     "metadata": {},
     "output_type": "display_data"
    }
   ],
   "source": [
    "print(\"Q6. Use Python to plot the chi-square distribution with 10 degrees of freedom. Label the axes and shade the area corresponding to a chi-square statistic of 15.\\n\\nAns.\")\n",
    "import numpy as np\n",
    "import matplotlib.pyplot as plt\n",
    "from scipy.stats import chi2\n",
    "\n",
    "# Degrees of freedom\n",
    "df = 10\n",
    "\n",
    "# Define the range for the x-axis\n",
    "x = np.linspace(0, 30, 1000)\n",
    "\n",
    "# Chi-square distribution with 10 degrees of freedom\n",
    "y = chi2.pdf(x, df)\n",
    "\n",
    "# Plot the chi-square distribution\n",
    "plt.figure(figsize=(10, 6))\n",
    "plt.plot(x, y, label='$\\chi^2$ distribution (df=10)', color='blue')\n",
    "\n",
    "# Shade the area corresponding to chi-square statistic of 15\n",
    "x_shade = np.linspace(15, 30, 1000)\n",
    "y_shade = chi2.pdf(x_shade, df)\n",
    "plt.fill_between(x_shade, y_shade, color='red', alpha=0.5)\n",
    "\n",
    "# Add labels and title\n",
    "plt.xlabel('$\\chi^2$ value')\n",
    "plt.ylabel('Probability Density')\n",
    "plt.title('$\\chi^2$ Distribution with 10 Degrees of Freedom')\n",
    "plt.axvline(x=15, color='red', linestyle='--')\n",
    "plt.legend()\n",
    "\n",
    "# Show plot\n",
    "plt.grid(True)\n",
    "plt.show()"
   ]
  },
  {
   "cell_type": "code",
   "execution_count": 7,
   "id": "0dba0ab7-5063-49e8-914a-3a2226e960a6",
   "metadata": {},
   "outputs": [
    {
     "name": "stdout",
     "output_type": "stream",
     "text": [
      "Q7. A random sample of 1000 people was asked if they preferred Coke or Pepsi. Of the sample, 520 preferred Coke. Calculate a 99% confidence interval for the true proportion of people in the population who prefer Coke.\n",
      "\n",
      "Ans.\n"
     ]
    },
    {
     "data": {
      "text/plain": [
       "(0.47930246089012263, 0.5606975391098774)"
      ]
     },
     "execution_count": 7,
     "metadata": {},
     "output_type": "execute_result"
    }
   ],
   "source": [
    "print(\"Q7. A random sample of 1000 people was asked if they preferred Coke or Pepsi. Of the sample, 520 preferred Coke. Calculate a 99% confidence interval for the true proportion of people in the population who prefer Coke.\\n\\nAns.\")\n",
    "import math\n",
    "\n",
    "# Given data\n",
    "n = 1000\n",
    "x = 520\n",
    "\n",
    "# Sample proportion\n",
    "p_hat = x / n\n",
    "\n",
    "# Z-score for 99% confidence interval\n",
    "Z = 2.576\n",
    "\n",
    "# Standard error\n",
    "SE = math.sqrt((p_hat * (1 - p_hat)) / n)\n",
    "\n",
    "# Confidence interval\n",
    "CI_lower = p_hat - Z * SE\n",
    "CI_upper = p_hat + Z * SE\n",
    "\n",
    "(CI_lower, CI_upper)"
   ]
  },
  {
   "cell_type": "code",
   "execution_count": 9,
   "id": "46ba88f1-98b3-48ed-820e-edf91b83d9a9",
   "metadata": {},
   "outputs": [
    {
     "name": "stdout",
     "output_type": "stream",
     "text": [
      "Q8. A researcher hypothesizes that a coin is biased towards tails. They flip the coin 100 times and observe 45 tails. Conduct a chi-square goodness of fit test to determine if the observed frequencies match the expected frequencies of a fair coin. Use a significance level of 0.05.\n",
      "\n",
      "Ans.\n"
     ]
    },
    {
     "data": {
      "text/plain": [
       "(1.0, 3.841458820694124, 0.31731050786291415)"
      ]
     },
     "execution_count": 9,
     "metadata": {},
     "output_type": "execute_result"
    }
   ],
   "source": [
    "print(\"Q8. A researcher hypothesizes that a coin is biased towards tails. They flip the coin 100 times and observe 45 tails. Conduct a chi-square goodness of fit test to determine if the observed frequencies match the expected frequencies of a fair coin. Use a significance level of 0.05.\\n\\nAns.\")\n",
    "from scipy.stats import chi2\n",
    "\n",
    "# Given data\n",
    "observed_tails = 45\n",
    "observed_heads = 100 - observed_tails\n",
    "expected_tails = 50\n",
    "expected_heads = 50\n",
    "\n",
    "# Observed and expected frequencies\n",
    "observed = [observed_tails, observed_heads]\n",
    "expected = [expected_tails, expected_heads]\n",
    "\n",
    "# Calculate chi-square statistic\n",
    "chi_square_stat = sum((o - e) ** 2 / e for o, e in zip(observed, expected))\n",
    "\n",
    "# Degrees of freedom\n",
    "df = 1\n",
    "\n",
    "# Significance level\n",
    "alpha = 0.05\n",
    "\n",
    "# Critical value from chi-square distribution\n",
    "critical_value = chi2.ppf(1 - alpha, df)\n",
    "\n",
    "# P-value\n",
    "p_value = 1 - chi2.cdf(chi_square_stat, df)\n",
    "\n",
    "chi_square_stat, critical_value, p_value"
   ]
  },
  {
   "cell_type": "code",
   "execution_count": 11,
   "id": "26e954af-a1a3-4740-9ee0-48f687d447c3",
   "metadata": {},
   "outputs": [
    {
     "name": "stdout",
     "output_type": "stream",
     "text": [
      "Q9. A study was conducted to determine if there is an association between smoking status (smoker or non-smoker) and lung cancer diagnosis (yes or no). The results are shown in the contingency table below. Conduct a chi-square test for independence to determine if there is a significant association between smoking status and lung cancer diagnosis. Use a significance level of 0.05.\n",
      "\n",
      "Ans.\n"
     ]
    },
    {
     "data": {
      "text/plain": [
       "(12.057347670250895,\n",
       " 0.0005158863863703744,\n",
       " 1,\n",
       " array([[ 45., 155.],\n",
       "        [ 45., 155.]]))"
      ]
     },
     "execution_count": 11,
     "metadata": {},
     "output_type": "execute_result"
    }
   ],
   "source": [
    "print(\"Q9. A study was conducted to determine if there is an association between smoking status (smoker or non-smoker) and lung cancer diagnosis (yes or no). The results are shown in the contingency table below. Conduct a chi-square test for independence to determine if there is a significant association between smoking status and lung cancer diagnosis. Use a significance level of 0.05.\\n\\nAns.\")\n",
    "#      Lung Cancer: Yes No\n",
    "# Smoker            60 140\n",
    "# Non-smoker        30 170\n",
    "import numpy as np\n",
    "from scipy.stats import chi2_contingency\n",
    "\n",
    "# Contingency table\n",
    "observed = np.array([[60, 140], [30, 170]])\n",
    "\n",
    "# Perform chi-square test\n",
    "chi2_stat, p_value, dof, expected = chi2_contingency(observed)\n",
    "\n",
    "# Significance level\n",
    "alpha = 0.05\n",
    "\n",
    "chi2_stat, p_value, dof, expected"
   ]
  },
  {
   "cell_type": "code",
   "execution_count": 13,
   "id": "1c33e953-2f7e-45e1-ac8b-ee2c4014fa0d",
   "metadata": {},
   "outputs": [
    {
     "name": "stdout",
     "output_type": "stream",
     "text": [
      "Q10. A study was conducted to determine if the proportion of people who prefer milk chocolate, dark chocolate, or white chocolate is different in the U.S. versus the U.K. A random sample of 500 people from the U.S. and a random sample of 500 people from the U.K. were surveyed. The results are shown in the contingency table below. Conduct a chi-square test for independence to determine if there is a significant association between chocolate preference and country of origin.\n",
      "\n",
      "Ans.\n"
     ]
    },
    {
     "data": {
      "text/plain": [
       "(13.393665158371041,\n",
       " 0.0012348168997745918,\n",
       " 2,\n",
       " array([[212.5, 162.5, 125. ],\n",
       "        [212.5, 162.5, 125. ]]))"
      ]
     },
     "execution_count": 13,
     "metadata": {},
     "output_type": "execute_result"
    }
   ],
   "source": [
    "print(\"Q10. A study was conducted to determine if the proportion of people who prefer milk chocolate, dark chocolate, or white chocolate is different in the U.S. versus the U.K. A random sample of 500 people from the U.S. and a random sample of 500 people from the U.K. were surveyed. The results are shown in the contingency table below. Conduct a chi-square test for independence to determine if there is a significant association between chocolate preference and country of origin.\\n\\nAns.\")\n",
    "#             Milk Chocolate Dark Chocolate White Chocolate\n",
    "#U.S. (n=500) 200            150            150\n",
    "#U.K. (n=500) 225            175            100\n",
    "\n",
    "import numpy as np\n",
    "from scipy.stats import chi2_contingency\n",
    "\n",
    "# Contingency table\n",
    "observed = np.array([[200, 150, 150], [225, 175, 100]])\n",
    "\n",
    "# Perform chi-square test\n",
    "chi2_stat, p_value, dof, expected = chi2_contingency(observed)\n",
    "\n",
    "# Significance level\n",
    "alpha = 0.05\n",
    "\n",
    "chi2_stat, p_value, dof, expected"
   ]
  },
  {
   "cell_type": "code",
   "execution_count": 14,
   "id": "fdf2b9a1-1350-4172-ba8a-881c8cafd0b3",
   "metadata": {},
   "outputs": [
    {
     "name": "stdout",
     "output_type": "stream",
     "text": [
      "Q11. A random sample of 30 people was selected from a population with an unknown mean and standard deviation. The sample mean was found to be 72 and the sample standard deviation was found to be 10. Conduct a hypothesis test to determine if the population mean is significantly different from 70. Use a significance level of 0.05.\n",
      "\n",
      "Ans.\n"
     ]
    }
   ],
   "source": [
    "print(\"Q11. A random sample of 30 people was selected from a population with an unknown mean and standard deviation. The sample mean was found to be 72 and the sample standard deviation was found to be 10. Conduct a hypothesis test to determine if the population mean is significantly different from 70. Use a significance level of 0.05.\\n\\nAns.\")"
   ]
  },
  {
   "cell_type": "code",
   "execution_count": null,
   "id": "1af7730e-aca2-428a-b353-f397618e2e79",
   "metadata": {},
   "outputs": [],
   "source": []
  }
 ],
 "metadata": {
  "kernelspec": {
   "display_name": "Python 3 (ipykernel)",
   "language": "python",
   "name": "python3"
  },
  "language_info": {
   "codemirror_mode": {
    "name": "ipython",
    "version": 3
   },
   "file_extension": ".py",
   "mimetype": "text/x-python",
   "name": "python",
   "nbconvert_exporter": "python",
   "pygments_lexer": "ipython3",
   "version": "3.10.8"
  }
 },
 "nbformat": 4,
 "nbformat_minor": 5
}

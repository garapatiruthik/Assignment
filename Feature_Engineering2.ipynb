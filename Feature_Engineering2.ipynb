{
 "cells": [
  {
   "cell_type": "code",
   "execution_count": 1,
   "id": "1a18c0f4-a3a1-4cb0-8c9a-f8d004666935",
   "metadata": {},
   "outputs": [
    {
     "name": "stdout",
     "output_type": "stream",
     "text": [
      "Q1. What is the Filter method in feature selection, and how does it work?\n",
      "\n",
      "Ans.The Filter method in feature selection is a technique used to select relevant features from a dataset independently of any machine learning algorithm. It evaluates the importance of each feature based on statistical measures such as correlation, chi-square test, or mutual information. Features are ranked according to their scores, and the top-ranking features are selected for model training. This method is simple, fast, and computationally efficient, making it suitable for handling large datasets.\n"
     ]
    }
   ],
   "source": [
    "print(\"\"\"Q1. What is the Filter method in feature selection, and how does it work?\n",
    "\n",
    "Ans.The Filter method in feature selection is a technique used to select relevant features from a dataset independently of any machine learning algorithm. It evaluates the importance of each feature based on statistical measures such as correlation, chi-square test, or mutual information. Features are ranked according to their scores, and the top-ranking features are selected for model training. This method is simple, fast, and computationally efficient, making it suitable for handling large datasets.\"\"\")"
   ]
  },
  {
   "cell_type": "code",
   "execution_count": 2,
   "id": "223e06a7-9e21-4fd2-8942-91b178fb9074",
   "metadata": {},
   "outputs": [
    {
     "name": "stdout",
     "output_type": "stream",
     "text": [
      "Q2. How does the Wrapper method differ from the Filter method in feature selection?\n",
      "\n",
      "Ans.The Wrapper method in feature selection differs from the Filter method by involving a specific machine learning algorithm to evaluate the importance of features. It iteratively adds or removes features, assessing their impact on the model's performance (e.g., accuracy) through cross-validation. This method tends to be more computationally intensive but often results in better feature subsets tailored to the chosen algorithm. In contrast, the Filter method evaluates features independently of any learning algorithm, using statistical measures, and is generally faster but less tailored to a specific model.\n"
     ]
    }
   ],
   "source": [
    "print(\"\"\"Q2. How does the Wrapper method differ from the Filter method in feature selection?\n",
    "\n",
    "Ans.The Wrapper method in feature selection differs from the Filter method by involving a specific machine learning algorithm to evaluate the importance of features. It iteratively adds or removes features, assessing their impact on the model's performance (e.g., accuracy) through cross-validation. This method tends to be more computationally intensive but often results in better feature subsets tailored to the chosen algorithm. In contrast, the Filter method evaluates features independently of any learning algorithm, using statistical measures, and is generally faster but less tailored to a specific model.\"\"\")"
   ]
  },
  {
   "cell_type": "code",
   "execution_count": null,
   "id": "46198e31-48df-4d35-a65b-6b1c406bc5e7",
   "metadata": {},
   "outputs": [],
   "source": [
    "print(\"\"\"Q3. What are some common techniques used in Embedded feature selection methods?\n",
    "\n",
    "Ans.\"\"\")"
   ]
  },
  {
   "cell_type": "code",
   "execution_count": null,
   "id": "696a4808-d4fd-494a-b752-71ed6f2e1e34",
   "metadata": {},
   "outputs": [],
   "source": [
    "print(\"\"\"\n",
    "\n",
    "Ans.\"\"\")"
   ]
  },
  {
   "cell_type": "code",
   "execution_count": null,
   "id": "3003e082-0816-42ac-af12-cebd41b3896c",
   "metadata": {},
   "outputs": [],
   "source": [
    "print(\"\"\"\n",
    "\n",
    "Ans.\"\"\")"
   ]
  },
  {
   "cell_type": "code",
   "execution_count": null,
   "id": "383c41f0-91cb-4dca-939a-4ea6cdacf6d8",
   "metadata": {},
   "outputs": [],
   "source": [
    "print(\"\"\"\n",
    "\n",
    "Ans.\"\"\")"
   ]
  },
  {
   "cell_type": "code",
   "execution_count": null,
   "id": "f7ddd32f-2ac7-4f88-ac20-5a78065df87f",
   "metadata": {},
   "outputs": [],
   "source": [
    "print(\"\"\"\n",
    "\n",
    "Ans.\"\"\")"
   ]
  }
 ],
 "metadata": {
  "kernelspec": {
   "display_name": "Python 3 (ipykernel)",
   "language": "python",
   "name": "python3"
  },
  "language_info": {
   "codemirror_mode": {
    "name": "ipython",
    "version": 3
   },
   "file_extension": ".py",
   "mimetype": "text/x-python",
   "name": "python",
   "nbconvert_exporter": "python",
   "pygments_lexer": "ipython3",
   "version": "3.10.8"
  }
 },
 "nbformat": 4,
 "nbformat_minor": 5
}

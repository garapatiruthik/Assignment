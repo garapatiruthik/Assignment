{
 "cells": [
  {
   "cell_type": "code",
   "execution_count": 1,
   "id": "1c235d69-692d-4123-8360-c2e7cfaac728",
   "metadata": {},
   "outputs": [
    {
     "name": "stdout",
     "output_type": "stream",
     "text": [
      "Q1. what is multithreading in python? hy is it used? Name the module used to handle threads in python\n",
      "\n",
      "Ans.Multithreading in Python: Python's threading module is used to handle threads, enabling concurrent execution of different parts of a program. It facilitates concurrency, asynchronous I/O operations, and parallelism.\n"
     ]
    }
   ],
   "source": [
    "print(\"Q1. what is multithreading in python? hy is it used? Name the module used to handle threads in python\\n\\nAns.Multithreading in Python: Python's threading module is used to handle threads, enabling concurrent execution of different parts of a program. It facilitates concurrency, asynchronous I/O operations, and parallelism.\")"
   ]
  },
  {
   "cell_type": "code",
   "execution_count": 2,
   "id": "ff662680-d05a-4e3a-b2ae-f040a202054b",
   "metadata": {},
   "outputs": [
    {
     "name": "stdout",
     "output_type": "stream",
     "text": [
      "Q2. Why threading module used? rite the use of the following functions\n",
      "activeCount\n",
      "currentThread\n",
      "enumerate\n"
     ]
    }
   ],
   "source": [
    "print(\"Q2. Why threading module used? rite the use of the following functions\\nactiveCount\\ncurrentThread\\nenumerate\")"
   ]
  },
  {
   "cell_type": "code",
   "execution_count": 3,
   "id": "89c2b76b-655c-485d-8742-ccd11ec364fa",
   "metadata": {},
   "outputs": [
    {
     "name": "stdout",
     "output_type": "stream",
     "text": [
      "Ans. Threading module is used in python to create and run threads for the parallel processing increasing the performance and utilising the cpu to a greater extent.\n",
      "active count is a function used to find the number of active threads present, for example:\n"
     ]
    },
    {
     "name": "stderr",
     "output_type": "stream",
     "text": [
      "/tmp/ipykernel_84/2149031462.py:3: DeprecationWarning: activeCount() is deprecated, use active_count() instead\n",
      "  threading.activeCount()\n"
     ]
    },
    {
     "data": {
      "text/plain": [
       "8"
      ]
     },
     "execution_count": 3,
     "metadata": {},
     "output_type": "execute_result"
    }
   ],
   "source": [
    "import threading\n",
    "print(\"Ans. Threading module is used in python to create and run threads for the parallel processing increasing the performance and utilising the cpu to a greater extent.\\nactive count is a function used to find the number of active threads present, for example:\")\n",
    "threading.activeCount()"
   ]
  },
  {
   "cell_type": "code",
   "execution_count": 4,
   "id": "eef11047-f094-4dd2-a6cf-98cfcbbd9361",
   "metadata": {},
   "outputs": [
    {
     "name": "stdout",
     "output_type": "stream",
     "text": [
      "the current thread function gives the current thread name which is in execution, for example: \n"
     ]
    },
    {
     "name": "stderr",
     "output_type": "stream",
     "text": [
      "/tmp/ipykernel_84/3458297419.py:2: DeprecationWarning: currentThread() is deprecated, use current_thread() instead\n",
      "  threading.currentThread()\n"
     ]
    },
    {
     "data": {
      "text/plain": [
       "<_MainThread(MainThread, started 140166630524736)>"
      ]
     },
     "execution_count": 4,
     "metadata": {},
     "output_type": "execute_result"
    }
   ],
   "source": [
    "print(\"the current thread function gives the current thread name which is in execution, for example: \")\n",
    "threading.currentThread()"
   ]
  },
  {
   "cell_type": "code",
   "execution_count": 5,
   "id": "0dde7d10-3f61-41c7-bc9e-31efcba79c75",
   "metadata": {},
   "outputs": [
    {
     "name": "stdout",
     "output_type": "stream",
     "text": [
      "enumerate is used to get the list of all the threads, for example:\n",
      "thread:  MainThread\n",
      "thread:  IOPub\n",
      "thread:  Heartbeat\n",
      "thread:  Thread-3 (_watch_pipe_fd)\n",
      "thread:  Thread-4 (_watch_pipe_fd)\n",
      "thread:  Control\n",
      "thread:  IPythonHistorySavingThread\n",
      "thread:  Thread-2\n"
     ]
    },
    {
     "name": "stderr",
     "output_type": "stream",
     "text": [
      "/tmp/ipykernel_84/939143721.py:3: DeprecationWarning: getName() is deprecated, get the name attribute instead\n",
      "  print(\"thread: \", t.getName())\n"
     ]
    }
   ],
   "source": [
    "print(\"enumerate is used to get the list of all the threads, for example:\")\n",
    "for t in threading.enumerate():\n",
    "    print(\"thread: \", t.getName())"
   ]
  },
  {
   "cell_type": "code",
   "execution_count": 6,
   "id": "67e1134c-9511-4791-87cb-a001b475b5c7",
   "metadata": {},
   "outputs": [
    {
     "name": "stdout",
     "output_type": "stream",
     "text": [
      "3. Explain the following functions run,start,join,isAlive\n"
     ]
    }
   ],
   "source": [
    "print(\"3. Explain the following functions run,start,join,isAlive\")"
   ]
  },
  {
   "cell_type": "code",
   "execution_count": 7,
   "id": "26ee035f-3269-402a-ae2d-8c953cf642ab",
   "metadata": {},
   "outputs": [
    {
     "name": "stdout",
     "output_type": "stream",
     "text": [
      "Ans.The run() method is called when a thread is started using the start() method or when the run() method is called directly on a Thread object.\n",
      "\n",
      "Start is used to start running or executing the thread\n"
     ]
    }
   ],
   "source": [
    "print(\"Ans.The run() method is called when a thread is started using the start() method or when the run() method is called directly on a Thread object.\\n\\nStart is used to start running or executing the thread\")"
   ]
  },
  {
   "cell_type": "code",
   "execution_count": 8,
   "id": "5d947f5e-9587-471e-856e-5d996a9ec43b",
   "metadata": {},
   "outputs": [
    {
     "name": "stdout",
     "output_type": "stream",
     "text": [
      "Executing in a new thread\n"
     ]
    }
   ],
   "source": [
    "class MyThread(threading.Thread):\n",
    "    def run(self):\n",
    "        print(\"Executing in a new thread\")\n",
    "t = MyThread()\n",
    "t.start()"
   ]
  },
  {
   "cell_type": "code",
   "execution_count": 9,
   "id": "2cf018f2-47d6-44a9-8b4c-4e772180dedf",
   "metadata": {},
   "outputs": [
    {
     "name": "stdout",
     "output_type": "stream",
     "text": [
      "isalive gives true or false, i.e, wheher the thread is still alive or not, for example: \n"
     ]
    },
    {
     "data": {
      "text/plain": [
       "False"
      ]
     },
     "execution_count": 9,
     "metadata": {},
     "output_type": "execute_result"
    }
   ],
   "source": [
    "print(\"isalive gives true or false, i.e, wheher the thread is still alive or not, for example: \")\n",
    "t.is_alive()"
   ]
  },
  {
   "cell_type": "code",
   "execution_count": 10,
   "id": "eca9e5de-c8fb-4df5-ae6a-c7b67b926b07",
   "metadata": {},
   "outputs": [
    {
     "name": "stdout",
     "output_type": "stream",
     "text": [
      "the join function is used to wait for the execution of the thread and then proceeds to join after the timeout, for example: \n",
      "Executing in a new thread\n"
     ]
    }
   ],
   "source": [
    "print(\"the join function is used to wait for the execution of the thread and then proceeds to join after the timeout, for example: \")\n",
    "t2 = MyThread()\n",
    "t2.start()\n",
    "t2.join()"
   ]
  },
  {
   "cell_type": "code",
   "execution_count": 12,
   "id": "ae134464-85fe-4e0c-9fa6-97e0c0123916",
   "metadata": {},
   "outputs": [
    {
     "name": "stdout",
     "output_type": "stream",
     "text": [
      "Q4.Write a python program to create two threads. Thread one must print the list of squares and thread two must print the list of cubes\n"
     ]
    }
   ],
   "source": [
    "print(\"Q4.Write a python program to create two threads. Thread one must print the list of squares and thread two must print the list of cubes\")"
   ]
  },
  {
   "cell_type": "code",
   "execution_count": 14,
   "id": "1e506c12-36e0-4901-a04b-42bf1b1200c5",
   "metadata": {},
   "outputs": [
    {
     "name": "stdout",
     "output_type": "stream",
     "text": [
      "squares :  [1, 4, 9, 16]\n",
      "Cubes :  [1, 8, 27, 64]\n"
     ]
    }
   ],
   "source": [
    "def print_sq():\n",
    "    sq = [i**2 for i in range(1,5)]\n",
    "    print(\"squares : \",sq)\n",
    "\n",
    "def print_cb():\n",
    "    cb = [i**3 for i in range(1,5)]\n",
    "    print(\"Cubes : \",cb)\n",
    "\n",
    "thr1 = threading.Thread(target = print_sq)\n",
    "thr2 = threading.Thread(target = print_cb)\n",
    "\n",
    "thr1.start()\n",
    "thr2.start()\n",
    "\n",
    "thr1.join()\n",
    "thr2.join()"
   ]
  },
  {
   "cell_type": "code",
   "execution_count": 15,
   "id": "0febb5a4-266f-4f3c-98a4-de6f6fa9bbc5",
   "metadata": {},
   "outputs": [
    {
     "name": "stdout",
     "output_type": "stream",
     "text": [
      "5. State advantages and disadvantages of multithreading\n",
      "\n",
      "Ans.Advantages: 1 concurrency, 2 resource sharing, 3 modularity, 4 responsiveness.\n",
      "\n",
      "Disadvantages: 1 coplexity, 2 difficulty in debugging, 3 potential for deadlocks\n"
     ]
    }
   ],
   "source": [
    "print(\"5. State advantages and disadvantages of multithreading\\n\\nAns.Advantages: 1 concurrency, 2 resource sharing, 3 modularity, 4 responsiveness.\\n\\nDisadvantages: 1 coplexity, 2 difficulty in debugging, 3 potential for deadlocks\")"
   ]
  },
  {
   "cell_type": "code",
   "execution_count": 16,
   "id": "d2e93e52-b815-49eb-adb5-6a6186e6d7fa",
   "metadata": {},
   "outputs": [
    {
     "name": "stdout",
     "output_type": "stream",
     "text": [
      "Q6. Explain deadlocks and race conditions.\n",
      "\n",
      "Ans.Deadlocks : It is a situation in which threads or processes wants to acquire a resource which are held by another in a chain in which each and evry one is dependent on one another but none of them is ready to give making it  dead lock.\n",
      "\n",
      "Race conditions: It is a condition in which multiple threads access same resource simultaneously which leads to a problem when making any changes in that\n"
     ]
    }
   ],
   "source": [
    "print(\"Q6. Explain deadlocks and race conditions.\\n\\nAns.Deadlocks : It is a situation in which threads or processes wants to acquire a resource which are held by another in a chain in which each and evry one is dependent on one another but none of them is ready to give making it  dead lock.\\n\\nRace conditions: It is a condition in which multiple threads access same resource simultaneously which leads to a problem when making any changes in that\")"
   ]
  },
  {
   "cell_type": "code",
   "execution_count": null,
   "id": "ad8c1964-cfba-440a-8733-0b929ed3e428",
   "metadata": {},
   "outputs": [],
   "source": []
  }
 ],
 "metadata": {
  "kernelspec": {
   "display_name": "Python 3 (ipykernel)",
   "language": "python",
   "name": "python3"
  },
  "language_info": {
   "codemirror_mode": {
    "name": "ipython",
    "version": 3
   },
   "file_extension": ".py",
   "mimetype": "text/x-python",
   "name": "python",
   "nbconvert_exporter": "python",
   "pygments_lexer": "ipython3",
   "version": "3.10.8"
  }
 },
 "nbformat": 4,
 "nbformat_minor": 5
}

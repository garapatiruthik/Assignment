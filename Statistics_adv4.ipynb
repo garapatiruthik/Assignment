{
 "cells": [
  {
   "cell_type": "code",
   "execution_count": 2,
   "id": "a29e410a-93be-46b5-af31-aa89be7ffda0",
   "metadata": {},
   "outputs": [
    {
     "name": "stdout",
     "output_type": "stream",
     "text": [
      "Q1: What is the difference between a t-test and a z-test? Provide an example scenario where you would use each type of test.\n",
      "\n",
      "Ans.- Definition: A t-test is used to determine if there is a significant difference between the means of two groups when the sample size is small or the population standard deviation is unknown.\n",
      "- Conditions:\n",
      "  - Sample size is small n < 30.\n",
      "  - Population standard deviation is unknown.\n",
      "- Example: You want to compare the average test scores of students from two different classes, and you have a small sample size from each class.\n",
      "\n",
      "- Definition: A z-test is used to determine if there is a significant difference between the means of two groups when the sample size is large or the population standard deviation is known.\n",
      "- Conditions: \n",
      "  - Sample size is large than 30.\n",
      "  - Population standard deviation is known.\n",
      "- Example: You want to compare the average height of people in two different cities, and you have a large sample size with a known population standard deviation.\n"
     ]
    }
   ],
   "source": [
    "print(\"Q1: What is the difference between a t-test and a z-test? Provide an example scenario where you would use each type of test.\\n\\nAns.- Definition: A t-test is used to determine if there is a significant difference between the means of two groups when the sample size is small or the population standard deviation is unknown.\\n- Conditions:\\n  - Sample size is small n < 30.\\n  - Population standard deviation is unknown.\\n- Example: You want to compare the average test scores of students from two different classes, and you have a small sample size from each class.\\n\\n- Definition: A z-test is used to determine if there is a significant difference between the means of two groups when the sample size is large or the population standard deviation is known.\\n- Conditions: \\n  - Sample size is large than 30.\\n  - Population standard deviation is known.\\n- Example: You want to compare the average height of people in two different cities, and you have a large sample size with a known population standard deviation.\")"
   ]
  },
  {
   "cell_type": "code",
   "execution_count": 3,
   "id": "ce80c980-b07e-4a51-a2d2-a1dac2d58a27",
   "metadata": {},
   "outputs": [
    {
     "name": "stdout",
     "output_type": "stream",
     "text": [
      "Q2: Differentiate between one-tailed and two-tailed tests.\n",
      "\n",
      "Ans.\n",
      "- Purpose: Tests for a significant effect in one specific direction.\n",
      "- Hypotheses:\n",
      "  - Null H_0: The parameter equals a specified value.\n",
      "- Alternative H_1: The parameter is greater than or less than the specified value.\n",
      "- Example: Testing if a new drug increases recovery rate.\n",
      "\n",
      "- Purpose: Tests for a significant effect in either direction.\n",
      "- Hypotheses:\n",
      "  - Null H_0: The parameter equals a specified value.\n",
      "  - Alternative H_1: The parameter is different from the specified value.\n",
      "- Example: Testing if a new drug affects recovery rate (either increases or decreases).\n"
     ]
    }
   ],
   "source": [
    "print(\"Q2: Differentiate between one-tailed and two-tailed tests.\\n\\nAns.\\n- Purpose: Tests for a significant effect in one specific direction.\\n- Hypotheses:\\n  - Null H_0: The parameter equals a specified value.\\n- Alternative H_1: The parameter is greater than or less than the specified value.\\n- Example: Testing if a new drug increases recovery rate.\\n\\n- Purpose: Tests for a significant effect in either direction.\\n- Hypotheses:\\n  - Null H_0: The parameter equals a specified value.\\n  - Alternative H_1: The parameter is different from the specified value.\\n- Example: Testing if a new drug affects recovery rate (either increases or decreases).\")"
   ]
  },
  {
   "cell_type": "code",
   "execution_count": 5,
   "id": "28151fbf-539e-47a0-bb92-44233f7f42f9",
   "metadata": {},
   "outputs": [
    {
     "name": "stdout",
     "output_type": "stream",
     "text": [
      "Q3: Explain the concept of Type 1 and Type 2 errors in hypothesis testing. Provide an example scenario for each type of error.\n",
      "\n",
      "Ans.Type 1 Error occurs when the null hypothesis is true but is incorrectly rejected. Example: A medical test shows a patient has a disease when they are actually healthy, leading to unnecessary treatment.Type 2 Error occurs when the null hypothesis is false but is incorrectly accepted. Example: A medical test shows a patient is healthy when they actually have a disease, leading to missed treatment.\n"
     ]
    }
   ],
   "source": [
    "print(\"Q3: Explain the concept of Type 1 and Type 2 errors in hypothesis testing. Provide an example scenario for each type of error.\\n\\nAns.Type 1 Error occurs when the null hypothesis is true but is incorrectly rejected. Example: A medical test shows a patient has a disease when they are actually healthy, leading to unnecessary treatment.Type 2 Error occurs when the null hypothesis is false but is incorrectly accepted. Example: A medical test shows a patient is healthy when they actually have a disease, leading to missed treatment.\")"
   ]
  },
  {
   "cell_type": "code",
   "execution_count": 7,
   "id": "4f8b1dc9-df5c-4c58-be96-537805eb84ca",
   "metadata": {},
   "outputs": [
    {
     "name": "stdout",
     "output_type": "stream",
     "text": [
      "\n",
      "\n",
      "Ans.\n"
     ]
    }
   ],
   "source": [
    "print(\"\\n\\nAns.\")"
   ]
  },
  {
   "cell_type": "code",
   "execution_count": 11,
   "id": "48df440a-302b-48dc-a769-0d6e36721dea",
   "metadata": {},
   "outputs": [
    {
     "name": "stdout",
     "output_type": "stream",
     "text": [
      "Q5: What is a confidence interval? How to calculate the confidence interval, explain with an example.\n",
      "\n",
      "Ans.A confidence interval is a range of values used to estimate the true value of a population parameter. It provides an interval within which we can be certain, to a specified probability level, that the parameter lies.\n",
      "To calculate a confidence interval, follow these steps:\n",
      "\n",
      "1. Determine the sample mean (x̄): Calculate the mean of your sample data.\n",
      "2. Find the standard error (SE): This is the standard deviation (σ) of the sample divided by the square root of the sample size (n).\n",
      "3. Choose the confidence level (CL): Common levels are 90%, 95%, or 99%. This determines the z-score or t-score.\n",
      "4. Calculate the margin of error (ME): Multiply the standard error by the z-score or t-score corresponding to your confidence level.\n",
      "5. Determine the confidence interval (CI): Add and subtract the margin of error from the sample mean.\n",
      "\n",
      "Example:\n",
      "Suppose we have a sample of 50 students test scores with a mean score of 80 and a standard deviation of 10. we want a 95% confidence interval.\n",
      "\n",
      "1. Sample mean = 80\n",
      "2. Standard error = 10 / √50 ≈ 1.41\n",
      "3. For a 95% confidence level, the z-score ≈ 1.96\n",
      "4. Margin of error = 1.96 * 1.41 ≈ 2.76\n",
      "5. Confidence interval = 80 ± 2.76, or (77.24, 82.76)\n",
      "\n",
      "So, we can be 95% confident that the true mean score of the population lies between 77.24 and 82.76.\n"
     ]
    }
   ],
   "source": [
    "print(\"Q5: What is a confidence interval? How to calculate the confidence interval, explain with an example.\\n\\nAns.A confidence interval is a range of values used to estimate the true value of a population parameter. It provides an interval within which we can be certain, to a specified probability level, that the parameter lies.\\nTo calculate a confidence interval, follow these steps:\\n\\n1. Determine the sample mean (x̄): Calculate the mean of your sample data.\\n2. Find the standard error (SE): This is the standard deviation (σ) of the sample divided by the square root of the sample size (n).\\n3. Choose the confidence level (CL): Common levels are 90%, 95%, or 99%. This determines the z-score or t-score.\\n4. Calculate the margin of error (ME): Multiply the standard error by the z-score or t-score corresponding to your confidence level.\\n5. Determine the confidence interval (CI): Add and subtract the margin of error from the sample mean.\\n\\nExample:\\nSuppose we have a sample of 50 students test scores with a mean score of 80 and a standard deviation of 10. we want a 95% confidence interval.\\n\\n1. Sample mean = 80\\n2. Standard error = 10 / √50 ≈ 1.41\\n3. For a 95% confidence level, the z-score ≈ 1.96\\n4. Margin of error = 1.96 * 1.41 ≈ 2.76\\n5. Confidence interval = 80 ± 2.76, or (77.24, 82.76)\\n\\nSo, we can be 95% confident that the true mean score of the population lies between 77.24 and 82.76.\")"
   ]
  },
  {
   "cell_type": "code",
   "execution_count": 4,
   "id": "546d1deb-c838-4e6f-9b62-b5aa975c8b69",
   "metadata": {},
   "outputs": [
    {
     "name": "stdout",
     "output_type": "stream",
     "text": [
      "Q6. Use Bayes' Theorem to calculate the probability of an event occurring given prior knowledge of the event's probability and new evidence. Provide a sample problem and solution.\n",
      "\n",
      "Ans.# Given data for the problem\n",
      "The probability that the apple came from Box 2 given that it is an apple is: 0.652\n"
     ]
    }
   ],
   "source": [
    "print(\"Q6. Use Bayes' Theorem to calculate the probability of an event occurring given prior knowledge of the event's probability and new evidence. Provide a sample problem and solution.\\n\\nAns.# Given data for the problem\")\n",
    "P_A = 0.5\n",
    "P_B_given_A = 3/4\n",
    "P_B_given_not_A = 2/5\n",
    "\n",
    "P_not_A = 1 - P_A\n",
    "P_B = (P_B_given_A * P_A) + (P_B_given_not_A * P_not_A)\n",
    "\n",
    "P_A_given_B = (P_B_given_A * P_A) / P_B\n",
    "\n",
    "print(f\"The probability that the apple came from Box 2 given that it is an apple is: {P_A_given_B:.3f}\")\n"
   ]
  },
  {
   "cell_type": "code",
   "execution_count": 8,
   "id": "9470b3cc-94bf-48e2-989d-8f00ed3cf737",
   "metadata": {},
   "outputs": [
    {
     "name": "stdout",
     "output_type": "stream",
     "text": [
      "Q7. Calculate the 95% confidence interval for a sample of data with a mean of 50 and a standard deviation of 5. Interpret the results.\n",
      "\n",
      "Ans.\n",
      "The 95 percent confidence interval is 48.21 to 51.79\n"
     ]
    }
   ],
   "source": [
    "print(\"Q7. Calculate the 95% confidence interval for a sample of data with a mean of 50 and a standard deviation of 5. Interpret the results.\\n\\nAns.\")\n",
    "import math\n",
    "\n",
    "# Given data\n",
    "mean = 50\n",
    "std_dev = 5\n",
    "n = 30\n",
    "z_score = 1.96\n",
    "\n",
    "# Calculate the margin of error\n",
    "margin_of_error = z_score * (std_dev / math.sqrt(n))\n",
    "\n",
    "# Calculate the confidence interval\n",
    "ci_lower = mean - margin_of_error\n",
    "ci_upper = mean + margin_of_error\n",
    "\n",
    "# Print the result\n",
    "print(f\"The 95 percent confidence interval is {ci_lower:.2f} to {ci_upper:.2f}\")\n"
   ]
  },
  {
   "cell_type": "code",
   "execution_count": 9,
   "id": "4cefc5b8-ec4e-46f3-8895-7e754ed83451",
   "metadata": {},
   "outputs": [
    {
     "name": "stdout",
     "output_type": "stream",
     "text": [
      "Q10. In a study of the effectiveness of a new weight loss drug, a sample of 50 participants lost an average of 6 pounds with a standard deviation of 2.5 pounds. Conduct a hypothesis test to determine if the drug is significantly effective at a 95% confidence level using a t-test.\n",
      "\n",
      "Ans.\n"
     ]
    }
   ],
   "source": [
    "print(\"Q10. In a study of the effectiveness of a new weight loss drug, a sample of 50 participants lost an average of 6 pounds with a standard deviation of 2.5 pounds. Conduct a hypothesis test to determine if the drug is significantly effective at a 95% confidence level using a t-test.\\n\\nAns.\")"
   ]
  },
  {
   "cell_type": "code",
   "execution_count": 10,
   "id": "333dbdbf-3375-4351-a561-846ad1ca3eef",
   "metadata": {},
   "outputs": [
    {
     "name": "stdout",
     "output_type": "stream",
     "text": [
      "t-statistic: 16.97\n",
      "Critical t-value: 1.68\n",
      "p-value: 0.0000\n",
      "Reject the null hypothesis. The drug is significantly effective.\n"
     ]
    }
   ],
   "source": [
    "import math\n",
    "import scipy.stats as stats\n",
    "\n",
    "# Given data\n",
    "n = 50\n",
    "sample_mean = 6\n",
    "sample_std = 2.5\n",
    "mu_0 = 0  # Null hypothesis mean\n",
    "\n",
    "# Calculate the t-statistic\n",
    "t_statistic = (sample_mean - mu_0) / (sample_std / math.sqrt(n))\n",
    "\n",
    "# Degrees of freedom\n",
    "df = n - 1\n",
    "\n",
    "# Calculate the critical t-value for a one-tailed test at 95% confidence level\n",
    "alpha = 0.05\n",
    "critical_t = stats.t.ppf(1 - alpha, df)\n",
    "\n",
    "# Calculate the p-value\n",
    "p_value = 1 - stats.t.cdf(t_statistic, df)\n",
    "\n",
    "# Print the results\n",
    "print(f\"t-statistic: {t_statistic:.2f}\")\n",
    "print(f\"Critical t-value: {critical_t:.2f}\")\n",
    "print(f\"p-value: {p_value:.4f}\")\n",
    "\n",
    "if t_statistic > critical_t:\n",
    "    print(\"Reject the null hypothesis. The drug is significantly effective.\")\n",
    "else:\n",
    "    print(\"Fail to reject the null hypothesis. The drug is not significantly effective.\")\n"
   ]
  },
  {
   "cell_type": "code",
   "execution_count": 11,
   "id": "d7ef4595-1864-4f55-bae0-470fb14c5eac",
   "metadata": {},
   "outputs": [
    {
     "name": "stdout",
     "output_type": "stream",
     "text": [
      "Q11. In a survey of 500 people, 65% reported being satisfied with their current job. Calculate the 95% confidence interval for the true proportion of people who are satisfied with their job.\n",
      "\n",
      "Ans.\n"
     ]
    }
   ],
   "source": [
    "print(\"Q11. In a survey of 500 people, 65% reported being satisfied with their current job. Calculate the 95% confidence interval for the true proportion of people who are satisfied with their job.\\n\\nAns.\")"
   ]
  },
  {
   "cell_type": "code",
   "execution_count": 14,
   "id": "7ad033d7-aa53-4889-a97b-a4989afb4c5e",
   "metadata": {},
   "outputs": [
    {
     "name": "stdout",
     "output_type": "stream",
     "text": [
      "95% Confidence Interval: [0.6082, 0.6918]\n"
     ]
    }
   ],
   "source": [
    "\n",
    "# Sample size\n",
    "n = 500\n",
    "\n",
    "# Sample proportion\n",
    "p_hat = 0.65\n",
    "\n",
    "# Z-score for 95% confidence level\n",
    "z = 1.96  # Approximately, for 95% confidence level\n",
    "\n",
    "# Standard error\n",
    "standard_error = ((p_hat * (1 - p_hat)) / n) ** 0.5\n",
    "\n",
    "# Calculate confidence interval\n",
    "lower_bound = p_hat - z * standard_error\n",
    "upper_bound = p_hat + z * standard_error\n",
    "\n",
    "print(\"95% Confidence Interval: [{:.4f}, {:.4f}]\".format(lower_bound, upper_bound))\n"
   ]
  },
  {
   "cell_type": "code",
   "execution_count": 15,
   "id": "8db49fb7-813a-4710-9e55-15ddb1f22daf",
   "metadata": {},
   "outputs": [
    {
     "name": "stdout",
     "output_type": "stream",
     "text": [
      "Q12. A researcher is testing the effectiveness of two different teaching methods on student performance. Sample A has a mean score of 85 with a standard deviation of 6, while sample B has a mean score of 82 with a standard deviation of 5. Conduct a hypothesis test to determine if the two teaching methods have a significant difference in student performance using a t-test with a significance level of 0.01.\n",
      "\n",
      "Ans.\n"
     ]
    }
   ],
   "source": [
    "print(\"Q12. A researcher is testing the effectiveness of two different teaching methods on student performance. Sample A has a mean score of 85 with a standard deviation of 6, while sample B has a mean score of 82 with a standard deviation of 5. Conduct a hypothesis test to determine if the two teaching methods have a significant difference in student performance using a t-test with a significance level of 0.01.\\n\\nAns.\")"
   ]
  },
  {
   "cell_type": "code",
   "execution_count": 16,
   "id": "d6e45080-38d1-4428-800c-f8352c861bab",
   "metadata": {},
   "outputs": [
    {
     "name": "stdout",
     "output_type": "stream",
     "text": [
      "Fail to reject the null hypothesis. There is no significant difference in student performance.\n"
     ]
    }
   ],
   "source": [
    "# Sample A\n",
    "mean_A = 85\n",
    "std_dev_A = 6\n",
    "n_A = 30  # Assuming sample size for A\n",
    "\n",
    "# Sample B\n",
    "mean_B = 82\n",
    "std_dev_B = 5\n",
    "n_B = 30  # Assuming sample size for B\n",
    "\n",
    "# Significance level\n",
    "alpha = 0.01\n",
    "\n",
    "# Calculate pooled standard deviation\n",
    "s_pooled = ((std_dev_A**2 * (n_A - 1) + std_dev_B**2 * (n_B - 1)) / (n_A + n_B - 2))**0.5\n",
    "\n",
    "# Calculate the standard error\n",
    "standard_error = s_pooled * ((1/n_A) + (1/n_B))**0.5\n",
    "\n",
    "# Calculate the t-statistic\n",
    "t_statistic = (mean_A - mean_B) / standard_error\n",
    "\n",
    "# Degrees of freedom\n",
    "degrees_of_freedom = n_A + n_B - 2\n",
    "\n",
    "# Critical value (two-tailed test)\n",
    "critical_value = 2.62  # Obtained from the t-distribution table for df=58 and alpha=0.01\n",
    "\n",
    "# Perform the hypothesis test\n",
    "if abs(t_statistic) > critical_value:\n",
    "    print(\"Reject the null hypothesis. There is a significant difference in student performance.\")\n",
    "else:\n",
    "    print(\"Fail to reject the null hypothesis. There is no significant difference in student performance.\")\n"
   ]
  },
  {
   "cell_type": "code",
   "execution_count": 17,
   "id": "ca707041-2c0f-4f8c-84e7-a7a348c7ef0c",
   "metadata": {},
   "outputs": [
    {
     "name": "stdout",
     "output_type": "stream",
     "text": [
      "Q13. A population has a mean of 60 and a standard deviation of 8. A sample of 50 observations has a mean of 65. Calculate the 90% confidence interval for the true population mean./n/nAns.\n"
     ]
    }
   ],
   "source": [
    "print(\"Q13. A population has a mean of 60 and a standard deviation of 8. A sample of 50 observations has a mean of 65. Calculate the 90% confidence interval for the true population mean./n/nAns.\")"
   ]
  },
  {
   "cell_type": "code",
   "execution_count": 1,
   "id": "249afc1e-1d00-429b-922b-a85d4baf9da6",
   "metadata": {},
   "outputs": [
    {
     "name": "stdout",
     "output_type": "stream",
     "text": [
      "Fail to reject the null hypothesis. Caffeine does not have a significant effect on reaction time.\n"
     ]
    }
   ],
   "source": [
    "sample_mean = 0.25\n",
    "sample_std_dev = 0.05\n",
    "sample_size = 30\n",
    "\n",
    "# Population mean (null hypothesis)\n",
    "population_mean = 0.25\n",
    "\n",
    "# Significance level (alpha)\n",
    "alpha = 0.10  # For a 90% confidence level, alpha = 0.10\n",
    "\n",
    "# Degrees of freedom\n",
    "degrees_of_freedom = sample_size - 1\n",
    "\n",
    "# Calculate the t-statistic\n",
    "standard_error = sample_std_dev / (sample_size**0.5)\n",
    "t_statistic = (sample_mean - population_mean) / standard_error\n",
    "\n",
    "# Critical value (two-tailed test, 90% confidence level)\n",
    "critical_value = 1.699  # Approximated from t-distribution table for df = 29 and alpha = 0.10\n",
    "\n",
    "# Perform the hypothesis test\n",
    "if abs(t_statistic) > critical_value:\n",
    "    print(\"Reject the null hypothesis. Caffeine has a significant effect on reaction time.\")\n",
    "else:\n",
    "    print(\"Fail to reject the null hypothesis. Caffeine does not have a significant effect on reaction time.\")"
   ]
  },
  {
   "cell_type": "code",
   "execution_count": null,
   "id": "0169e6f7-d75c-445c-afec-055dd451f1bb",
   "metadata": {},
   "outputs": [],
   "source": []
  }
 ],
 "metadata": {
  "kernelspec": {
   "display_name": "Python 3 (ipykernel)",
   "language": "python",
   "name": "python3"
  },
  "language_info": {
   "codemirror_mode": {
    "name": "ipython",
    "version": 3
   },
   "file_extension": ".py",
   "mimetype": "text/x-python",
   "name": "python",
   "nbconvert_exporter": "python",
   "pygments_lexer": "ipython3",
   "version": "3.10.8"
  }
 },
 "nbformat": 4,
 "nbformat_minor": 5
}

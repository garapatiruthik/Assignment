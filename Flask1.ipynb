{
 "cells": [
  {
   "cell_type": "code",
   "execution_count": 2,
   "id": "4a8561c2-7d1c-484a-a590-c04fe99fea78",
   "metadata": {},
   "outputs": [
    {
     "name": "stdout",
     "output_type": "stream",
     "text": [
      "1Q. What is flask framework and what are its advantages?\n",
      "Ans.**Flask** is a **Python** web framework that is used to develop web applications. It is a **micro-framework** that is lightweight and has minimal dependencies on external libraries. Flask was created to be fast and easy to use, and it can scale up to complex applications. Flask provides the required code when building a web application, allowing developers to start up a server, handle requests, templates, and much more. Flask is considered the best framework for light web application serving.\n",
      "\n",
      "Here are some of the advantages of using Flask:\n",
      "\n",
      "- **Easy to understand development**: Flask is easy to understand, which makes it ideal for beginners. Its simplicity allows developers to navigate around and create the application easily. Unlike other web application frameworks, Flask lets you be in total control of web development, taking full creative control of the application. Flask's simplicity and minimalism mean that almost all parts of Flask are open to change, unlike some other web frameworks\n",
      "- **Flexible**: Flask is a flexible framework that allows you to customize and extend the framework to suit your needs easily. There are only a handful of parts of Flask that cannot be changed or altered because of its simplicity and minimalism³.\n",
      "- **Lightweight**: Flask is a lightweight backend framework with minimal dependencies. This makes it easy for beginners to learn and use.\n",
      "- **Built-in development server**: Flask provides a built-in development server that allows developers to test their applications quickly and easily.\n",
      "- **Fast debugger**: Flask has a fast debugger that helps developers debug their applications quickly.\n",
      "- **RESTful request dispatching**: Flask supports RESTful request dispatching, which makes it easy for developers to build RESTful APIs.\n",
      "- **Support for unit testing**: Flask has built-in support for unit testing, which allows developers to test their applications easily.\n"
     ]
    }
   ],
   "source": [
    "print(\"1Q. What is flask framework and what are its advantages?\\nAns.**Flask** is a **Python** web framework that is used to develop web applications. It is a **micro-framework** that is lightweight and has minimal dependencies on external libraries. Flask was created to be fast and easy to use, and it can scale up to complex applications. Flask provides the required code when building a web application, allowing developers to start up a server, handle requests, templates, and much more. Flask is considered the best framework for light web application serving.\\n\\nHere are some of the advantages of using Flask:\\n\\n- **Easy to understand development**: Flask is easy to understand, which makes it ideal for beginners. Its simplicity allows developers to navigate around and create the application easily. Unlike other web application frameworks, Flask lets you be in total control of web development, taking full creative control of the application. Flask's simplicity and minimalism mean that almost all parts of Flask are open to change, unlike some other web frameworks\\n- **Flexible**: Flask is a flexible framework that allows you to customize and extend the framework to suit your needs easily. There are only a handful of parts of Flask that cannot be changed or altered because of its simplicity and minimalism³.\\n- **Lightweight**: Flask is a lightweight backend framework with minimal dependencies. This makes it easy for beginners to learn and use.\\n- **Built-in development server**: Flask provides a built-in development server that allows developers to test their applications quickly and easily.\\n- **Fast debugger**: Flask has a fast debugger that helps developers debug their applications quickly.\\n- **RESTful request dispatching**: Flask supports RESTful request dispatching, which makes it easy for developers to build RESTful APIs.\\n- **Support for unit testing**: Flask has built-in support for unit testing, which allows developers to test their applications easily.\")"
   ]
  },
  {
   "cell_type": "code",
   "execution_count": null,
   "id": "5ca81142-575c-49d6-ba98-fcf325951705",
   "metadata": {},
   "outputs": [],
   "source": [
    "(\"2Q. create a route for hello world\")"
   ]
  },
  {
   "cell_type": "code",
   "execution_count": 7,
   "id": "71a80388-4e2f-4fe0-a4ac-a58f278fa58c",
   "metadata": {},
   "outputs": [
    {
     "name": "stdout",
     "output_type": "stream",
     "text": [
      "3Q. What is app routing in flask, why do we use app routes ?\n",
      "Ans. **App routing** is a technique used in **Flask** to map URLs to specific functions that handle the logic for those URLs ¹. It helps users remember application URLs and makes navigation simpler ¹. \n",
      "\n",
      "To bind a function to a URL path, we use the `app.route` decorator . For example, to bind the function `hello()` to the URL path `/hello`, we would use `@app.route(/hello)`. \n",
      "\n",
      "We use app routes to build **meaningful URLs** that help users remember the URLs and make navigation simpler . We can also build **dynamic URLs** by using variables in the URL ¹. Flask provides a converter to convert the variable to a specific data type. \n"
     ]
    }
   ],
   "source": [
    "print(\"3Q. What is app routing in flask, why do we use app routes ?\\nAns. **App routing** is a technique used in **Flask** to map URLs to specific functions that handle the logic for those URLs ¹. It helps users remember application URLs and makes navigation simpler ¹. \\n\\nTo bind a function to a URL path, we use the `app.route` decorator . For example, to bind the function `hello()` to the URL path `/hello`, we would use `@app.route(/hello)`. \\n\\nWe use app routes to build **meaningful URLs** that help users remember the URLs and make navigation simpler . We can also build **dynamic URLs** by using variables in the URL ¹. Flask provides a converter to convert the variable to a specific data type. \")"
   ]
  },
  {
   "cell_type": "code",
   "execution_count": 4,
   "id": "477bd49b-67ff-4b8d-90dd-01ec23bcd92a",
   "metadata": {},
   "outputs": [
    {
     "name": "stdout",
     "output_type": "stream",
     "text": [
      "4Q. Create a “/welcome” route to display the welcome message “Welcome to ABC Corporation” and a “/”\n",
      "route to show the following details:\n",
      "Company Name: ABC Corporation\n",
      "Location: India\n",
      "Contact Detail: 999-999-9999\n"
     ]
    }
   ],
   "source": [
    "print('4Q. Create a “/welcome” route to display the welcome message “Welcome to ABC Corporation” and a “/”\\nroute to show the following details:\\nCompany Name: ABC Corporation\\nLocation: India\\nContact Detail: 999-999-9999')"
   ]
  },
  {
   "cell_type": "markdown",
   "id": "f34113e9-49b9-475c-9043-f807958a3f8a",
   "metadata": {},
   "source": [
    "(welcome.jpeg)"
   ]
  },
  {
   "cell_type": "markdown",
   "id": "8907f247-d123-4c82-aeee-9f6f84d8c2a3",
   "metadata": {},
   "source": [
    "(companyname.jpeg)"
   ]
  },
  {
   "cell_type": "code",
   "execution_count": null,
   "id": "34018440-2368-4ee8-9515-f85ded1de251",
   "metadata": {},
   "outputs": [],
   "source": [
    "print(\"5Q. What function is used in flask for url building, write a python code to demonstrate the working of URL_for() functon\\nAns. To build URLs in Flask, we can use the url_for() function 1. This function takes the name of the route or view as an argument and returns a URL that points to that route 1. We can also pass additional parameters as keyword arguments to the url_for() function to generate URLs with dynamic values 1. Here’s an example of how you can use the url_for() function to generate URLs in Flask.\")"
   ]
  },
  {
   "cell_type": "code",
   "execution_count": 16,
   "id": "12fe1ee2-9787-4ee5-8264-d78f8005e1d7",
   "metadata": {},
   "outputs": [
    {
     "name": "stdout",
     "output_type": "stream",
     "text": [
      "Collecting Flask\n",
      "  Downloading flask-3.0.0-py3-none-any.whl (99 kB)\n",
      "\u001b[2K     \u001b[90m━━━━━━━━━━━━━━━━━━━━━━━━━━━━━━━━━━━━━━━━\u001b[0m \u001b[32m99.7/99.7 kB\u001b[0m \u001b[31m3.4 MB/s\u001b[0m eta \u001b[36m0:00:00\u001b[0m\n",
      "\u001b[?25hRequirement already satisfied: Jinja2>=3.1.2 in /opt/conda/lib/python3.10/site-packages (from Flask) (3.1.2)\n",
      "Requirement already satisfied: click>=8.1.3 in /opt/conda/lib/python3.10/site-packages (from Flask) (8.1.3)\n",
      "Collecting blinker>=1.6.2\n",
      "  Downloading blinker-1.6.3-py3-none-any.whl (13 kB)\n",
      "Collecting itsdangerous>=2.1.2\n",
      "  Downloading itsdangerous-2.1.2-py3-none-any.whl (15 kB)\n",
      "Collecting Werkzeug>=3.0.0\n",
      "  Downloading werkzeug-3.0.0-py3-none-any.whl (226 kB)\n",
      "\u001b[2K     \u001b[90m━━━━━━━━━━━━━━━━━━━━━━━━━━━━━━━━━━━━━━\u001b[0m \u001b[32m226.6/226.6 kB\u001b[0m \u001b[31m27.8 MB/s\u001b[0m eta \u001b[36m0:00:00\u001b[0m\n",
      "\u001b[?25hRequirement already satisfied: MarkupSafe>=2.0 in /opt/conda/lib/python3.10/site-packages (from Jinja2>=3.1.2->Flask) (2.1.1)\n",
      "Installing collected packages: Werkzeug, itsdangerous, blinker, Flask\n",
      "  Attempting uninstall: blinker\n",
      "    Found existing installation: blinker 1.5\n",
      "    Uninstalling blinker-1.5:\n",
      "      Successfully uninstalled blinker-1.5\n",
      "Successfully installed Flask-3.0.0 Werkzeug-3.0.0 blinker-1.6.3 itsdangerous-2.1.2\n",
      "Note: you may need to restart the kernel to use updated packages.\n"
     ]
    }
   ],
   "source": [
    "pip install Flask"
   ]
  },
  {
   "cell_type": "code",
   "execution_count": null,
   "id": "832908c6-de05-4d1c-9d4b-0d8e4b78471a",
   "metadata": {},
   "outputs": [
    {
     "name": "stdout",
     "output_type": "stream",
     "text": [
      " * Serving Flask app '__main__'\n",
      " * Debug mode: off\n"
     ]
    },
    {
     "name": "stderr",
     "output_type": "stream",
     "text": [
      "WARNING: This is a development server. Do not use it in a production deployment. Use a production WSGI server instead.\n",
      " * Running on all addresses (0.0.0.0)\n",
      " * Running on http://127.0.0.1:5000\n",
      " * Running on http://172.18.0.21:5000\n",
      "Press CTRL+C to quit\n"
     ]
    }
   ],
   "source": [
    "\n",
    "from flask import Flask\n",
    "\n",
    "app = Flask(__name__)\n",
    "\n",
    "@app.route(\"/\")\n",
    "def hello_world():\n",
    "    return \"<h1>Hello, World!</h1>\"\n",
    "\n",
    "if __name__==\"__main__\":\n",
    "    app.run(host=\"0.0.0.0\")\n"
   ]
  },
  {
   "cell_type": "code",
   "execution_count": null,
   "id": "0e736c38-661f-49ae-a9cd-aa87f7aa4e7f",
   "metadata": {},
   "outputs": [],
   "source": []
  },
  {
   "cell_type": "markdown",
   "id": "eab2b60c-f32b-445f-8796-d086f887a421",
   "metadata": {},
   "source": []
  },
  {
   "cell_type": "code",
   "execution_count": null,
   "id": "c6cecec8-282d-4eea-8bf0-0bbb5df26fd0",
   "metadata": {},
   "outputs": [],
   "source": []
  }
 ],
 "metadata": {
  "kernelspec": {
   "display_name": "Python 3 (ipykernel)",
   "language": "python",
   "name": "python3"
  },
  "language_info": {
   "codemirror_mode": {
    "name": "ipython",
    "version": 3
   },
   "file_extension": ".py",
   "mimetype": "text/x-python",
   "name": "python",
   "nbconvert_exporter": "python",
   "pygments_lexer": "ipython3",
   "version": "3.10.8"
  }
 },
 "nbformat": 4,
 "nbformat_minor": 5
}

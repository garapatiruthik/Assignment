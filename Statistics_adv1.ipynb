{
 "cells": [
  {
   "cell_type": "code",
   "execution_count": 1,
   "id": "ae8ce213-3663-49df-9226-b1203a58d45d",
   "metadata": {},
   "outputs": [
    {
     "name": "stdout",
     "output_type": "stream",
     "text": [
      "Q1. What is the Probability density function?\n",
      "\n",
      "Ans.The Probability Density Function (PDF) is a function used in probability theory to describe the likelihood of a continuous random variable falling within a particular range of values. In short, it provides the probability distribution of the variable. Unlike the Probability Mass Function (PMF), which is used for discrete random variables, the PDF is used for continuous random variables. It's often represented by a curve where the area under the curve within a specific interval corresponds to the probability of the variable falling within that interval.\n"
     ]
    }
   ],
   "source": [
    "print(\"Q1. What is the Probability density function?\\n\\nAns.The Probability Density Function (PDF) is a function used in probability theory to describe the likelihood of a continuous random variable falling within a particular range of values. In short, it provides the probability distribution of the variable. Unlike the Probability Mass Function (PMF), which is used for discrete random variables, the PDF is used for continuous random variables. It's often represented by a curve where the area under the curve within a specific interval corresponds to the probability of the variable falling within that interval.\")"
   ]
  },
  {
   "cell_type": "code",
   "execution_count": 2,
   "id": "65f74501-6ae5-43f1-b03e-1af3259d5472",
   "metadata": {},
   "outputs": [
    {
     "name": "stdout",
     "output_type": "stream",
     "text": [
      "Q2. What are the types of Probability distribution?\n",
      "\n",
      "Ans.There are several types of probability distributions, each with its own characteristics and applications. Here's a brief overview:\n",
      "\n",
      "Uniform Distribution: All outcomes are equally likely.\n",
      "Normal Distribution (Gaussian Distribution): Bell-shaped curve, commonly used due to its symmetry and well-understood properties.\n",
      "Binomial Distribution: Describes the number of successes in a fixed number of independent Bernoulli trials.\n",
      "Poisson Distribution: Models the number of events occurring in a fixed interval of time or space.\n"
     ]
    }
   ],
   "source": [
    "print(\"Q2. What are the types of Probability distribution?\\n\\nAns.There are several types of probability distributions, each with its own characteristics and applications. Here's a brief overview:\\n\\nUniform Distribution: All outcomes are equally likely.\\nNormal Distribution (Gaussian Distribution): Bell-shaped curve, commonly used due to its symmetry and well-understood properties.\\nBinomial Distribution: Describes the number of successes in a fixed number of independent Bernoulli trials.\\nPoisson Distribution: Models the number of events occurring in a fixed interval of time or space.\")"
   ]
  },
  {
   "cell_type": "code",
   "execution_count": 3,
   "id": "982fcc23-e607-4edf-b9b3-f10a5184febe",
   "metadata": {},
   "outputs": [
    {
     "name": "stdout",
     "output_type": "stream",
     "text": [
      "Q3. Write a Python function to calculate the probability density function of a normal distribution with given mean and standard deviation at a given point.\n",
      "\n",
      "Ans.\n"
     ]
    }
   ],
   "source": [
    "print(\"Q3. Write a Python function to calculate the probability density function of a normal distribution with given mean and standard deviation at a given point.\\n\\nAns.\")"
   ]
  },
  {
   "cell_type": "code",
   "execution_count": 5,
   "id": "9b735deb-a3d4-4c2f-93c5-d01b45f69af2",
   "metadata": {},
   "outputs": [
    {
     "name": "stdout",
     "output_type": "stream",
     "text": [
      "x: point at which pdf to be calculated.\n",
      "m: mean.\n",
      "std: standard deviation.\n"
     ]
    }
   ],
   "source": [
    "import math\n",
    "print(\"x: point at which pdf to be calculated.\\nm: mean.\\nstd: standard deviation.\")\n",
    "def pdf(x,m,std):\n",
    "    coefficient = 1 / (std* math.sqrt(2 * math.pi))\n",
    "    exponent = -0.5 * ((x - m) / std) ** 2\n",
    "    pdf_value = coefficient * math.exp(exponent)\n",
    "    return pdf_value\n"
   ]
  },
  {
   "cell_type": "code",
   "execution_count": 6,
   "id": "af5a280f-0079-41f3-8891-e7010ab03e3a",
   "metadata": {},
   "outputs": [
    {
     "name": "stdout",
     "output_type": "stream",
     "text": [
      "Example: the pdf at 0, for mean and standard deviation 5 is\n"
     ]
    },
    {
     "data": {
      "text/plain": [
       "0.04839414490382868"
      ]
     },
     "execution_count": 6,
     "metadata": {},
     "output_type": "execute_result"
    }
   ],
   "source": [
    "print(\"Example: the pdf at 0, for mean and standard deviation 5 is\")\n",
    "pdf(0,5,5)"
   ]
  },
  {
   "cell_type": "code",
   "execution_count": 8,
   "id": "70bb1958-916f-48e1-835f-77a0c20e9e8e",
   "metadata": {},
   "outputs": [
    {
     "name": "stdout",
     "output_type": "stream",
     "text": [
      "Q4. What are the properties of Binomial distribution? Give two examples of events where binomial distribution can be applied.\n",
      "\n",
      "Ans.The Binomial distribution is characterized by:\n",
      "1. A fixed number of trials.\n",
      "2. Two possible outcomes per trial.\n",
      "3. A constant probability of success.\n",
      "4. Independent trials.\n",
      "5. A discrete distribution.\n",
      "Examples where it can be applied include:\n",
      "1. Coin flips.\n",
      "2. Product defect counts in manufacturing.\n",
      "\n"
     ]
    }
   ],
   "source": [
    "print(\"Q4. What are the properties of Binomial distribution? Give two examples of events where binomial distribution can be applied.\\n\\nAns.The Binomial distribution is characterized by:\"\n",
    "\"\\n1. A fixed number of trials.\\n\"\n",
    "\"2. Two possible outcomes per trial.\\n\"\n",
    "\"3. A constant probability of success.\\n\"\n",
    "\"4. Independent trials.\\n\"\n",
    "\"5. A discrete distribution.\\n\"\n",
    "\n",
    "\"Examples where it can be applied include:\\n\"\n",
    "\"1. Coin flips.\\n\"\n",
    "\"2. Product defect counts in manufacturing.\\n\")"
   ]
  },
  {
   "cell_type": "code",
   "execution_count": 9,
   "id": "8354f01f-834f-49f1-94f4-fc3bafe75883",
   "metadata": {},
   "outputs": [
    {
     "name": "stdout",
     "output_type": "stream",
     "text": [
      "Q5. Generate a random sample of size 1000 from a binomial distribution with probability of success 0.4 and plot a histogram of the results using matplotlib.\n",
      "\n",
      "Ans.\n"
     ]
    }
   ],
   "source": [
    "print(\"Q5. Generate a random sample of size 1000 from a binomial distribution with probability of success 0.4 and plot a histogram of the results using matplotlib.\\n\\nAns.\")"
   ]
  },
  {
   "cell_type": "code",
   "execution_count": 26,
   "id": "132e41ec-5d15-4432-aa18-c90f2a298353",
   "metadata": {},
   "outputs": [
    {
     "data": {
      "image/png": "[encoded data removed]",
      "text/plain": [
       "<Figure size 640x480 with 1 Axes>"
      ]
     },
     "metadata": {},
     "output_type": "display_data"
    }
   ],
   "source": [
    "import numpy as np\n",
    "import matplotlib.pyplot as plt\n",
    "\n",
    "\n",
    "sample_size = 1000\n",
    "probability_of_success = 0.5\n",
    "random_sample = np.random.binomial(n=1, p=probability_of_success, size=sample_size)\n",
    "\n",
    "plt.hist(random_sample, bins=[-0.5, 0.5, 1.5], edgecolor='black')\n",
    "plt.xticks([0, 1], ['Failure', 'Success'])\n",
    "plt.xlabel('Outcome')\n",
    "plt.ylabel('Frequency')\n",
    "plt.title('Histogram of Binomial Distribution (n=1, p=0.5)')\n",
    "plt.grid(axis='y', linestyle='--', alpha=0.9)\n",
    "plt.show()\n"
   ]
  },
  {
   "cell_type": "code",
   "execution_count": 27,
   "id": "1234e9d7-7181-4207-b553-2ae843d757e2",
   "metadata": {},
   "outputs": [
    {
     "name": "stdout",
     "output_type": "stream",
     "text": [
      "Q6. Write a Python function to calculate the cumulative distribution function of a Poisson distribution with given mean at a given point.\n",
      "\n",
      "Ans.\n"
     ]
    }
   ],
   "source": [
    "print(\"Q6. Write a Python function to calculate the cumulative distribution function of a Poisson distribution with given mean at a given point.\\n\\nAns.\")"
   ]
  },
  {
   "cell_type": "code",
   "execution_count": 30,
   "id": "70a5b482-a627-43e3-866c-b381ac71d484",
   "metadata": {},
   "outputs": [],
   "source": [
    "def poss(k,mean):\n",
    "    cdf_value = 0\n",
    "    for i in range(k + 1):\n",
    "        cdf_value += math.exp(-mean) * (mean ** i) / math.factorial(i)\n",
    "    return cdf_value\n"
   ]
  },
  {
   "cell_type": "code",
   "execution_count": 32,
   "id": "05e29b32-ce69-4a33-b4af-fb637ddbddf5",
   "metadata": {},
   "outputs": [
    {
     "data": {
      "text/plain": [
       "0.6159606548330632"
      ]
     },
     "execution_count": 32,
     "metadata": {},
     "output_type": "execute_result"
    }
   ],
   "source": [
    "#for k = 5 and mean = 5 the poisson cdf will be\n",
    "poss(5,5)"
   ]
  },
  {
   "cell_type": "code",
   "execution_count": 35,
   "id": "c4fe6f8a-4188-4dc7-b7fd-3d1dee18d4a3",
   "metadata": {},
   "outputs": [
    {
     "name": "stdout",
     "output_type": "stream",
     "text": [
      "Q7. How Binomial distribution different from Poisson distribution?\n",
      "\n",
      "Ans.\n",
      "1. **Nature of Events**:\n",
      "   - Binomial distribution: Describes the number of successes in a fixed number of independent trials, where each trial has two possible outcomes (success or failure). \n",
      "    - Poisson distribution: Describes the number of events occurring in a fixed interval of time or space, where the events are rare and independent of each other. \n",
      " \n",
      " 2. **Number of Trials**:\n",
      "   - Binomial distribution: Requires a fixed number of trials  to be specified. \n",
      "    - Poisson distribution: Does not require a fixed number of trials; it deals with events occurring over a continuous interval. \n",
      " \n",
      " 3. **Probability of Success**:\n",
      "   - Binomial distribution: Requires a constant probability of success  for each trial. \n",
      "    - Poisson distribution: Does not have a probability of success parameter; instead, it is characterized by a single parameter , which represents the average rate of event occurrences. \n",
      " \n",
      " 4. **Assumptions**:\n",
      "   - Binomial distribution: Assumes a fixed number of trials with a constant probability of success in each trial. \n",
      "    - Poisson distribution: Assumes events occur randomly and independently, with a constant average rate.\n"
     ]
    }
   ],
   "source": [
    "print(\"Q7. How Binomial distribution different from Poisson distribution?\\n\\nAns.\")\n",
    "print(\"1. **Nature of Events**:\\n   - Binomial distribution: Describes the number of successes in a fixed number of independent trials, where each trial has two possible outcomes (success or failure).\", \"\\n\", \"   - Poisson distribution: Describes the number of events occurring in a fixed interval of time or space, where the events are rare and independent of each other.\", \"\\n\", \"\\n\", \"2. **Number of Trials**:\\n   - Binomial distribution: Requires a fixed number of trials  to be specified.\", \"\\n\", \"   - Poisson distribution: Does not require a fixed number of trials; it deals with events occurring over a continuous interval.\", \"\\n\", \"\\n\", \"3. **Probability of Success**:\\n   - Binomial distribution: Requires a constant probability of success  for each trial.\", \"\\n\", \"   - Poisson distribution: Does not have a probability of success parameter; instead, it is characterized by a single parameter , which represents the average rate of event occurrences.\", \"\\n\", \"\\n\", \"4. **Assumptions**:\\n   - Binomial distribution: Assumes a fixed number of trials with a constant probability of success in each trial.\", \"\\n\", \"   - Poisson distribution: Assumes events occur randomly and independently, with a constant average rate.\")\n"
   ]
  },
  {
   "cell_type": "code",
   "execution_count": 37,
   "id": "742d2d1d-1950-463d-b791-456bac9ad731",
   "metadata": {},
   "outputs": [
    {
     "name": "stdout",
     "output_type": "stream",
     "text": [
      "Q8. Generate a random sample of size 1000 from a Poisson distribution with mean 5 and calculate the sample mean and variance.\n",
      "\n",
      "Ans.\n"
     ]
    }
   ],
   "source": [
    "print(\"Q8. Generate a random sample of size 1000 from a Poisson distribution with mean 5 and calculate the sample mean and variance.\\n\\nAns.\")"
   ]
  },
  {
   "cell_type": "code",
   "execution_count": 42,
   "id": "08b9704b-fb1d-451e-a794-af56c12ceb7e",
   "metadata": {},
   "outputs": [],
   "source": [
    "sample_size = 1000\n",
    "probability_of_success = 0.5\n",
    "mean = 5\n",
    "random_sample = np.random.poisson(mean ,size=sample_size)\n"
   ]
  },
  {
   "cell_type": "code",
   "execution_count": 43,
   "id": "73043d25-3bc9-4de3-b25e-4d0861ea5208",
   "metadata": {},
   "outputs": [
    {
     "data": {
      "text/plain": [
       "4.875"
      ]
     },
     "execution_count": 43,
     "metadata": {},
     "output_type": "execute_result"
    }
   ],
   "source": [
    "#sample mean is\n",
    "np.mean(random_sample)"
   ]
  },
  {
   "cell_type": "code",
   "execution_count": 45,
   "id": "6ab8b6a6-e9c7-4e2e-8ee9-288f9d212f2a",
   "metadata": {},
   "outputs": [
    {
     "data": {
      "text/plain": [
       "4.607375"
      ]
     },
     "execution_count": 45,
     "metadata": {},
     "output_type": "execute_result"
    }
   ],
   "source": [
    "#sample varience is\n",
    "np.var(random_sample)"
   ]
  },
  {
   "cell_type": "code",
   "execution_count": 49,
   "id": "05853767-2167-4d41-aa66-929e820af2e1",
   "metadata": {},
   "outputs": [
    {
     "name": "stdout",
     "output_type": "stream",
     "text": [
      "Q9. How mean and variance are related in Binomial distribution and Poisson distribution?\n",
      "\n",
      "Ans.Binomial Distribution: The variance (σ^2 ) of a Binomial distribution is given by n×p×(1−p), where n is the number of trials and p is the probability of success in each trial. Thus, the variance increases with n and p, indicating greater spread as the number of trials or the probability of success increases.\n",
      "\n",
      "Poisson Distribution: In a Poisson distribution, both the mean (λ) and the variance(λ) are equal. The variance is directly proportional to the mean. As the mean increases, indicating more events occurring on average, the variance also increases, reflecting greater variability around the mean.\n"
     ]
    }
   ],
   "source": [
    "print(\"Q9. How mean and variance are related in Binomial distribution and Poisson distribution?\\n\\nAns.Binomial Distribution: The variance (σ^2 ) of a Binomial distribution is given by n×p×(1−p), where n is the number of trials and p is the probability of success in each trial. Thus, the variance increases with n and p, indicating greater spread as the number of trials or the probability of success increases.\\n\\nPoisson Distribution: In a Poisson distribution, both the mean (λ) and the variance(λ) are equal. The variance is directly proportional to the mean. As the mean increases, indicating more events occurring on average, the variance also increases, reflecting greater variability around the mean.\")"
   ]
  },
  {
   "cell_type": "code",
   "execution_count": 50,
   "id": "e80dad82-e58f-4aa8-b520-fe022aa29446",
   "metadata": {},
   "outputs": [
    {
     "name": "stdout",
     "output_type": "stream",
     "text": [
      "Q10. In normal distribution with respect to mean position, where does the least frequent data appear?\n",
      "\n",
      "Ans.\n"
     ]
    }
   ],
   "source": [
    "print(\"Q10. In normal distribution with respect to mean position, where does the least frequent data appear?\\n\\nAns.\")"
   ]
  },
  {
   "cell_type": "code",
   "execution_count": null,
   "id": "9e82571f-57d9-41b2-8f11-5d022155a8bf",
   "metadata": {},
   "outputs": [],
   "source": []
  }
 ],
 "metadata": {
  "kernelspec": {
   "display_name": "Python 3 (ipykernel)",
   "language": "python",
   "name": "python3"
  },
  "language_info": {
   "codemirror_mode": {
    "name": "ipython",
    "version": 3
   },
   "file_extension": ".py",
   "mimetype": "text/x-python",
   "name": "python",
   "nbconvert_exporter": "python",
   "pygments_lexer": "ipython3",
   "version": "3.10.8"
  }
 },
 "nbformat": 4,
 "nbformat_minor": 5
}

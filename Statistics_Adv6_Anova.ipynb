{
 "cells": [
  {
   "cell_type": "code",
   "execution_count": 3,
   "id": "0f095a7a-af6d-48b1-b9a3-f7cf042e8ae1",
   "metadata": {},
   "outputs": [
    {
     "name": "stdout",
     "output_type": "stream",
     "text": [
      "Q1. Explain the assumptions required to use ANOVA and provide examples of violations that could impact the validity of the results.\n",
      "\n",
      "Ans.\n",
      "i)Sample mean is normally distributed\n",
      "ii)Absence of outliers\n",
      "iii)Same variance of each independent variable\n",
      "iv)Samples are independent and random.\n"
     ]
    }
   ],
   "source": [
    "print(\"Q1. Explain the assumptions required to use ANOVA and provide examples of violations that could impact the validity of the results.\\n\\nAns.\\ni)Sample mean is normally distributed\\nii)Absence of outliers\\niii)Same variance of each independent variable\\niv)Samples are independent and random.\")"
   ]
  },
  {
   "cell_type": "code",
   "execution_count": 4,
   "id": "e47f0af3-e71f-4cbe-acbd-bb03538900de",
   "metadata": {},
   "outputs": [
    {
     "name": "stdout",
     "output_type": "stream",
     "text": [
      "Q2. What are the three types of ANOVA, and in what situations would each be used?\n",
      "\n",
      "Ans.i)one-way Anova: there will one factor and atleast two independent levels.Eg: a medicine factor with three levels 1mg, 2mg and 5mg.\n",
      "ii)Repeated-measure anova: An anova with one factor and atleast two dependent levels.Eg: Running be the factor and day1, day2, day3 and so on be the levels which will depend on each other distance travelled by a person on the basis of the day number.\n",
      "iii)Factorial anova: Combination of the above two anovas i.e, with two or more factors with atlest two levels for each of the factors can be dependent or independent.Eg: Runnind as a fatcor and days are the levels, also gender be another factor whose vlues are independent bu the values under the running factor are dependent.\n"
     ]
    }
   ],
   "source": [
    "print(\"Q2. What are the three types of ANOVA, and in what situations would each be used?\\n\\nAns.i)one-way Anova: there will one factor and atleast two independent levels.Eg: a medicine factor with three levels 1mg, 2mg and 5mg.\\nii)Repeated-measure anova: An anova with one factor and atleast two dependent levels.Eg: Running be the factor and day1, day2, day3 and so on be the levels which will depend on each other distance travelled by a person on the basis of the day number.\\niii)Factorial anova: Combination of the above two anovas i.e, with two or more factors with atlest two levels for each of the factors can be dependent or independent.Eg: Runnind as a fatcor and days are the levels, also gender be another factor whose vlues are independent bu the values under the running factor are dependent.\")"
   ]
  },
  {
   "cell_type": "code",
   "execution_count": 1,
   "id": "6ecabf01-0ecf-4550-9a01-61425e1bf251",
   "metadata": {},
   "outputs": [
    {
     "name": "stdout",
     "output_type": "stream",
     "text": [
      "Q3. What is the partitioning of variance in ANOVA, and why is it important to understand this concept?\n",
      "\n",
      "Ans.In ANOVA, partitioning of variance divides total variability into:\n",
      "1. Between-Group Variance: Differences among group means.\n",
      "2. Within-Group Variance: Differences within each group.\n",
      "This is important for identifying if group differences are statistically significant and understanding how much variance is due to the grouping factor.\n"
     ]
    }
   ],
   "source": [
    "print(\"Q3. What is the partitioning of variance in ANOVA, and why is it important to understand this concept?\\n\\nAns.In ANOVA, partitioning of variance divides total variability into:\\n1. Between-Group Variance: Differences among group means.\\n2. Within-Group Variance: Differences within each group.\\nThis is important for identifying if group differences are statistically significant and understanding how much variance is due to the grouping factor.\")"
   ]
  },
  {
   "cell_type": "code",
   "execution_count": 2,
   "id": "49d1477e-a846-4cdd-b45d-a01023f64d80",
   "metadata": {},
   "outputs": [
    {
     "name": "stdout",
     "output_type": "stream",
     "text": [
      "Q4. How would you calculate the total sum of squares (SST), explained sum of squares (SSE), and residual sum of squares (SSR) in a one-way ANOVA using Python?\n",
      "\n",
      "Ans.\n",
      "SST: 17.5\n",
      "SSE: 0.0\n",
      "SSR: 1.5\n"
     ]
    }
   ],
   "source": [
    "print(\"Q4. How would you calculate the total sum of squares (SST), explained sum of squares (SSE), and residual sum of squares (SSR) in a one-way ANOVA using Python?\\n\\nAns.\")\n",
    "import numpy as np\n",
    "import pandas as pd\n",
    "\n",
    "# Sample data\n",
    "data = {\n",
    "    'group': ['A', 'A', 'B', 'B', 'C', 'C'],\n",
    "    'value': [1, 2, 3, 4, 5, 6]\n",
    "}\n",
    "df = pd.DataFrame(data)\n",
    "\n",
    "# Calculate the overall mean\n",
    "overall_mean = df['value'].mean()\n",
    "\n",
    "# Calculate SST (Total Sum of Squares)\n",
    "sst = np.sum((df['value'] - overall_mean) ** 2)\n",
    "\n",
    "# Calculate SSE (Explained Sum of Squares)\n",
    "group_means = df.groupby('group')['value'].mean()\n",
    "sse = np.sum(df['group'].map(group_means).apply(lambda x: (x - overall_mean) ** 2) * df.groupby('group').size())\n",
    "\n",
    "# Calculate SSR (Residual Sum of Squares)\n",
    "ssr = np.sum((df['value'] - df['group'].map(group_means)) ** 2)\n",
    "\n",
    "print(\"SST:\", sst)\n",
    "print(\"SSE:\", sse)\n",
    "print(\"SSR:\", ssr)"
   ]
  },
  {
   "cell_type": "code",
   "execution_count": 3,
   "id": "0f3f2296-0d4d-493a-80c6-f519d0ebd536",
   "metadata": {},
   "outputs": [
    {
     "name": "stdout",
     "output_type": "stream",
     "text": [
      "Q5. In a two-way ANOVA, how would you calculate the main effects and interaction effects using Python?\n",
      "\n",
      "Ans.\n",
      "FactorA Main Effects:\n",
      "FactorA\n",
      "A1   -6.0\n",
      "A2    6.0\n",
      "Name: Value, dtype: float64\n",
      "FactorB Main Effects:\n",
      "FactorB\n",
      "B1   -2.0\n",
      "B2    0.0\n",
      "B3    2.0\n",
      "Name: Value, dtype: float64\n",
      "Interaction Effects:\n",
      "FactorA  FactorB\n",
      "A1       B1         0.0\n",
      "         B2         0.0\n",
      "         B3         0.0\n",
      "A2       B1         0.0\n",
      "         B2         0.0\n",
      "         B3         0.0\n",
      "Name: Value, dtype: float64\n"
     ]
    }
   ],
   "source": [
    "print(\"Q5. In a two-way ANOVA, how would you calculate the main effects and interaction effects using Python?\\n\\nAns.\")\n",
    "import numpy as np\n",
    "import pandas as pd\n",
    "\n",
    "# Sample data\n",
    "data = {\n",
    "    'FactorA': ['A1', 'A1', 'A1', 'A2', 'A2', 'A2'],\n",
    "    'FactorB': ['B1', 'B2', 'B3', 'B1', 'B2', 'B3'],\n",
    "    'Value': [10, 12, 14, 22, 24, 26]\n",
    "}\n",
    "df = pd.DataFrame(data)\n",
    "\n",
    "# Calculate overall mean\n",
    "overall_mean = df['Value'].mean()\n",
    "\n",
    "# Calculate means for each level of FactorA\n",
    "factorA_means = df.groupby('FactorA')['Value'].mean()\n",
    "\n",
    "# Calculate means for each level of FactorB\n",
    "factorB_means = df.groupby('FactorB')['Value'].mean()\n",
    "\n",
    "# Calculate interaction means\n",
    "interaction_means = df.groupby(['FactorA', 'FactorB'])['Value'].mean()\n",
    "\n",
    "# Calculate main effect for FactorA\n",
    "factorA_effects = factorA_means - overall_mean\n",
    "\n",
    "# Calculate main effect for FactorB\n",
    "factorB_effects = factorB_means - overall_mean\n",
    "\n",
    "# Calculate interaction effects\n",
    "interaction_effects = interaction_means - factorA_means[df['FactorA']].values - factorB_means[df['FactorB']].values + overall_mean\n",
    "\n",
    "print(\"FactorA Main Effects:\")\n",
    "print(factorA_effects)\n",
    "print(\"FactorB Main Effects:\")\n",
    "print(factorB_effects)\n",
    "print(\"Interaction Effects:\")\n",
    "print(interaction_effects)"
   ]
  },
  {
   "cell_type": "code",
   "execution_count": 6,
   "id": "c08d87a7-ece0-4aed-9c5e-0c099853e669",
   "metadata": {},
   "outputs": [
    {
     "name": "stdout",
     "output_type": "stream",
     "text": [
      "Q6. Suppose you conducted a one-way ANOVA and obtained an F-statistic of 5.23 and a p-value of 0.02. What can you conclude about the differences between the groups, and how would you interpret these results?\n",
      "\n",
      "Ans.With an F-statistic of 5.23 and a p-value of 0.02 in a one-way ANOVA, you can conclude that there are statistically significant differences between the groups. Here's how to interpret these results:\n",
      "- F-statistic (5.23): Indicates the ratio of the variance explained by the group differences to the variance within the groups.\n",
      "- p-value (0.02): Since this p-value is less than the common significance level of 0.05, it suggests that the observed differences between the group means are unlikely to have occurred by chanc\n",
      "\n",
      "Conclusion: The null hypothesis, which states that there are no differences between the group means, can be rejected. Therefore, you can conclude that at least one group mean is significantly different from the others.\n"
     ]
    }
   ],
   "source": [
    "print(\"Q6. Suppose you conducted a one-way ANOVA and obtained an F-statistic of 5.23 and a p-value of 0.02. What can you conclude about the differences between the groups, and how would you interpret these results?\\n\\nAns.With an F-statistic of 5.23 and a p-value of 0.02 in a one-way ANOVA, you can conclude that there are statistically significant differences between the groups. Here's how to interpret these results:\\n- F-statistic (5.23): Indicates the ratio of the variance explained by the group differences to the variance within the groups.\\n- p-value (0.02): Since this p-value is less than the common significance level of 0.05, it suggests that the observed differences between the group means are unlikely to have occurred by chanc\\n\\nConclusion: The null hypothesis, which states that there are no differences between the group means, can be rejected. Therefore, you can conclude that at least one group mean is significantly different from the others.\")"
   ]
  },
  {
   "cell_type": "code",
   "execution_count": 1,
   "id": "cd6d3f02-7cc1-4b0f-8dcf-9aace870d2f2",
   "metadata": {},
   "outputs": [
    {
     "name": "stdout",
     "output_type": "stream",
     "text": [
      "Q7. In a repeated measures ANOVA, how would you handle missing data, and what are the potential consequences of using different methods to handle missing data?\n",
      "\n",
      "Ans.Handling missing data in repeated measures ANOVA involves either deleting cases with missing data (listwise or pairwise deletion) or imputing missing values. Listwise deletion reduces sample size and can bias results. Pairwise deletion retains more data but may lead to biased estimates. Imputation preserves sample size and power but depends on the chosen method and assumptions, potentially introducing bias or underestimating errors.\n"
     ]
    }
   ],
   "source": [
    "print(\"Q7. In a repeated measures ANOVA, how would you handle missing data, and what are the potential consequences of using different methods to handle missing data?\\n\\nAns.Handling missing data in repeated measures ANOVA involves either deleting cases with missing data (listwise or pairwise deletion) or imputing missing values. Listwise deletion reduces sample size and can bias results. Pairwise deletion retains more data but may lead to biased estimates. Imputation preserves sample size and power but depends on the chosen method and assumptions, potentially introducing bias or underestimating errors.\")"
   ]
  },
  {
   "cell_type": "code",
   "execution_count": 2,
   "id": "e3dd2cbe-076a-4db1-9210-2ca615a56fc8",
   "metadata": {},
   "outputs": [
    {
     "name": "stdout",
     "output_type": "stream",
     "text": [
      "Q8. What are some common post-hoc tests used after ANOVA, and when would you use each one? Provide an example of a situation where a post-hoc test might be necessary.\n",
      "\n",
      "Ans.\n",
      "Common post-hoc tests used after ANOVA include:\n",
      "\n",
      "1. Tukey's Honestly Significant Difference (HSD) Test:\n",
      "   - Used to compare all possible pairs of means.\n",
      "   - Example: Used when comparing the effectiveness of three different teaching methods to find out which pairs differ significantly.\n",
      "\n",
      "2. Bonferroni Correction:\n",
      "   - Adjusts the significance level to control for Type I error when multiple comparisons are made.\n",
      "   - Example: Used in clinical trials comparing several drugs to ensure the overall error rate remains low.\n",
      "\n",
      "3. Scheffé's Test:\n",
      "   - More conservative, used when comparing complex contrasts or many group comparisons.\n",
      "   - Example: Used in economic studies comparing various combinations of market strategies.\n",
      "\n",
      "4. Dunnett's Test:\n",
      "   - Compares each treatment group to a single control group.\n",
      "   - Example: Used in agricultural studies to compare different fertilizers against a control plot.\n",
      "\n",
      "A post-hoc test is necessary when an ANOVA shows significant differences, but you need to identify specifically which groups differ from each other. For example, if ANOVA indicates significant differences in test scores among students using different study techniques, a post-hoc test like Tukey's HSD can pinpoint which techniques vary significantly.\n"
     ]
    }
   ],
   "source": [
    "print(\"Q8. What are some common post-hoc tests used after ANOVA, and when would you use each one? Provide an example of a situation where a post-hoc test might be necessary.\\n\\nAns.\")\n",
    "print(\"\"\"Common post-hoc tests used after ANOVA include:\n",
    "\n",
    "1. Tukey's Honestly Significant Difference (HSD) Test:\n",
    "   - Used to compare all possible pairs of means.\n",
    "   - Example: Used when comparing the effectiveness of three different teaching methods to find out which pairs differ significantly.\n",
    "\n",
    "2. Bonferroni Correction:\n",
    "   - Adjusts the significance level to control for Type I error when multiple comparisons are made.\n",
    "   - Example: Used in clinical trials comparing several drugs to ensure the overall error rate remains low.\n",
    "\n",
    "3. Scheffé's Test:\n",
    "   - More conservative, used when comparing complex contrasts or many group comparisons.\n",
    "   - Example: Used in economic studies comparing various combinations of market strategies.\n",
    "\n",
    "4. Dunnett's Test:\n",
    "   - Compares each treatment group to a single control group.\n",
    "   - Example: Used in agricultural studies to compare different fertilizers against a control plot.\n",
    "\n",
    "A post-hoc test is necessary when an ANOVA shows significant differences, but you need to identify specifically which groups differ from each other. For example, if ANOVA indicates significant differences in test scores among students using different study techniques, a post-hoc test like Tukey's HSD can pinpoint which techniques vary significantly.\"\"\")\n"
   ]
  },
  {
   "cell_type": "code",
   "execution_count": 3,
   "id": "eb49b98e-31b0-4d98-a7f8-6f8a89b5ba20",
   "metadata": {},
   "outputs": [
    {
     "name": "stdout",
     "output_type": "stream",
     "text": [
      "Q9. A researcher wants to compare the mean weight loss of three diets: A, B, and C. They collect data from 50 participants who were randomly assigned to one of the diets. Conduct a one-way ANOVA using Python to determine if there are any significant differences between the mean weight loss of the three diets. Report the F-statistic and p-value, and interpret the results./n/nAns.\n"
     ]
    }
   ],
   "source": [
    "print(\"Q9. A researcher wants to compare the mean weight loss of three diets: A, B, and C. They collect data from 50 participants who were randomly assigned to one of the diets. Conduct a one-way ANOVA using Python to determine if there are any significant differences between the mean weight loss of the three diets. Report the F-statistic and p-value, and interpret the results./n/nAns.\")"
   ]
  },
  {
   "cell_type": "code",
   "execution_count": 4,
   "id": "98d38fae-ba3e-4cb2-9b4f-bc7724bc797f",
   "metadata": {},
   "outputs": [
    {
     "name": "stdout",
     "output_type": "stream",
     "text": [
      "F-statistic: 10.19\n",
      "P-value: 0.0002\n",
      "There are significant differences between the mean weight loss of the three diets.\n"
     ]
    }
   ],
   "source": [
    "import numpy as np\n",
    "from scipy.stats import f_oneway\n",
    "\n",
    "# Example weight loss data for 50 participants across three diets\n",
    "# Assume these are the weight loss values in pounds\n",
    "np.random.seed(0)  # For reproducibility\n",
    "\n",
    "diet_A = np.random.normal(loc=5, scale=2, size=50 // 3)\n",
    "diet_B = np.random.normal(loc=6, scale=2, size=50 // 3)\n",
    "diet_C = np.random.normal(loc=4, scale=2, size=50 // 3)\n",
    "\n",
    "# Perform one-way ANOVA\n",
    "f_statistic, p_value = f_oneway(diet_A, diet_B, diet_C)\n",
    "\n",
    "# Print the results\n",
    "print(f\"F-statistic: {f_statistic:.2f}\")\n",
    "print(f\"P-value: {p_value:.4f}\")\n",
    "\n",
    "# Interpretation\n",
    "if p_value < 0.05:\n",
    "    print(\"There are significant differences between the mean weight loss of the three diets.\")\n",
    "else:\n",
    "    print(\"There are no significant differences between the mean weight loss of the three diets.\")"
   ]
  },
  {
   "cell_type": "code",
   "execution_count": 5,
   "id": "b80d455c-be90-42b7-9f65-4f548cc1ad74",
   "metadata": {},
   "outputs": [
    {
     "name": "stdout",
     "output_type": "stream",
     "text": [
      "Q10. A company wants to know if there are any significant differences in the average time it takes to complete a task using three different software programs: Program A, Program B, and Program C. They randomly assign 30 employees to one of the programs and record the time it takes each employee to complete the task. Conduct a two-way ANOVA using Python to determine if there are any main effects or interaction effects between the software programs and employee experience level (novice vs. experienced). Report the F-statistics and p-values, and interpret the results.\n",
      "\n",
      "Ans.\n"
     ]
    }
   ],
   "source": [
    "print(\"Q10. A company wants to know if there are any significant differences in the average time it takes to complete a task using three different software programs: Program A, Program B, and Program C. They randomly assign 30 employees to one of the programs and record the time it takes each employee to complete the task. Conduct a two-way ANOVA using Python to determine if there are any main effects or interaction effects between the software programs and employee experience level (novice vs. experienced). Report the F-statistics and p-values, and interpret the results.\\n\\nAns.\")"
   ]
  },
  {
   "cell_type": "code",
   "execution_count": 8,
   "id": "f35efabb-d62d-4c3b-9939-c71daebff1c9",
   "metadata": {},
   "outputs": [
    {
     "name": "stdout",
     "output_type": "stream",
     "text": [
      "                               sum_sq    df         F    PR(>F)\n",
      "C(Software)                432.850071   2.0  6.655932  0.005016\n",
      "C(Experience)               56.861874   1.0  1.748729  0.198501\n",
      "C(Software):C(Experience)    2.302272   2.0  0.035402  0.965268\n",
      "Residual                   780.386758  24.0       NaN       NaN\n",
      "The effect of C(Software) is significant (p-value = 0.0050).\n",
      "The effect of C(Experience) is not significant (p-value = 0.1985).\n",
      "The effect of C(Software):C(Experience) is not significant (p-value = 0.9653).\n",
      "The effect of Residual is not significant (p-value = nan).\n"
     ]
    }
   ],
   "source": [
    "import numpy as np\n",
    "import pandas as pd\n",
    "import statsmodels.api as sm\n",
    "from statsmodels.formula.api import ols\n",
    "\n",
    "# Generate sample data\n",
    "np.random.seed(0)  # For reproducibility\n",
    "\n",
    "# Factors\n",
    "software = np.repeat(['A', 'B', 'C'], 30 // 3)\n",
    "experience = np.tile(['Novice', 'Experienced'], 15)\n",
    "\n",
    "# Task completion times (in minutes)\n",
    "# Assume these are the recorded times with some random variation\n",
    "time_A = np.random.normal(loc=30, scale=5, size=10)\n",
    "time_B = np.random.normal(loc=25, scale=5, size=10)\n",
    "time_C = np.random.normal(loc=35, scale=5, size=10)\n",
    "times = np.concatenate([time_A, time_B, time_C])\n",
    "\n",
    "# Create a DataFrame\n",
    "data = pd.DataFrame({\n",
    "    'Software': software,\n",
    "    'Experience': experience,\n",
    "    'Time': times\n",
    "})\n",
    "\n",
    "# Perform two-way ANOVA\n",
    "model = ols('Time ~ C(Software) * C(Experience)', data=data).fit()\n",
    "anova_table = sm.stats.anova_lm(model, typ=2)\n",
    "\n",
    "# Print the ANOVA table\n",
    "print(anova_table)\n",
    "\n",
    "# Interpretation\n",
    "for effect in anova_table.index:\n",
    "    p_value = anova_table.loc[effect, 'PR(>F)']\n",
    "    if p_value < 0.05:\n",
    "        print(f\"The effect of {effect} is significant (p-value = {p_value:.4f}).\")\n",
    "    else:\n",
    "        print(f\"The effect of {effect} is not significant (p-value = {p_value:.4f}).\")"
   ]
  },
  {
   "cell_type": "code",
   "execution_count": 9,
   "id": "4ebd69f7-1087-43b6-a458-94370b2f9f5b",
   "metadata": {},
   "outputs": [
    {
     "name": "stdout",
     "output_type": "stream",
     "text": [
      "Q11. An educational researcher is interested in whether a new teaching method improves student test scores. They randomly assign 100 students to either the control group (traditional teaching method) or the experimental group (new teaching method) and administer a test at the end of the semester. Conduct a two-sample t-test using Python to determine if there are any significant differences in test scores between the two groups. If the results are significant, follow up with a post-hoc test to determine which group(s) differ significantly from each other.\n",
      "\n",
      "Ans.\n"
     ]
    }
   ],
   "source": [
    "print(\"Q11. An educational researcher is interested in whether a new teaching method improves student test scores. They randomly assign 100 students to either the control group (traditional teaching method) or the experimental group (new teaching method) and administer a test at the end of the semester. Conduct a two-sample t-test using Python to determine if there are any significant differences in test scores between the two groups. If the results are significant, follow up with a post-hoc test to determine which group(s) differ significantly from each other.\\n\\nAns.\")"
   ]
  },
  {
   "cell_type": "code",
   "execution_count": 13,
   "id": "7108141c-80fd-4729-a0f5-407641bfea56",
   "metadata": {},
   "outputs": [
    {
     "name": "stdout",
     "output_type": "stream",
     "text": [
      "T-statistic: -1.67\n",
      "P-value: 0.0986\n",
      "There is no significant difference in test scores between the control and experimental groups.\n"
     ]
    }
   ],
   "source": [
    "import numpy as np\n",
    "from scipy.stats import ttest_ind\n",
    "\n",
    "# Generate sample data\n",
    "np.random.seed(0)  # For reproducibility\n",
    "\n",
    "# Test scores\n",
    "control_group = np.random.normal(loc=75, scale=10, size=50)  # Traditional teaching method\n",
    "experimental_group = np.random.normal(loc=80, scale=10, size=50)  # New teaching method\n",
    "\n",
    "# Perform two-sample t-test\n",
    "t_statistic, p_value = ttest_ind(control_group, experimental_group)\n",
    "\n",
    "# Print the results\n",
    "print(f\"T-statistic: {t_statistic:.2f}\")\n",
    "print(f\"P-value: {p_value:.4f}\")\n",
    "\n",
    "# Interpretation\n",
    "if p_value < 0.05:\n",
    "    print(\"There is a significant difference in test scores between the control and experimental groups.\")\n",
    "else:\n",
    "    print(\"There is no significant difference in test scores between the control and experimental groups.\")\n"
   ]
  },
  {
   "cell_type": "code",
   "execution_count": 14,
   "id": "bfff5783-ac11-4621-ae56-0d9f82fd9821",
   "metadata": {},
   "outputs": [
    {
     "name": "stdout",
     "output_type": "stream",
     "text": [
      "Q12. A researcher wants to know if there are any significant differences in the average daily sales of three retail stores: Store A, Store B, and Store C. They randomly select 30 days and record the sales for each store on those days. Conduct a repeated measures ANOVA using Python to determine if there are any significant differences in sales between the three stores. If the results are significant, follow up with a post-hoc test to determine which store(s) differ significantly from each other.\n",
      "\n",
      "Ans.\n"
     ]
    }
   ],
   "source": [
    "print(\"Q12. A researcher wants to know if there are any significant differences in the average daily sales of three retail stores: Store A, Store B, and Store C. They randomly select 30 days and record the sales for each store on those days. Conduct a repeated measures ANOVA using Python to determine if there are any significant differences in sales between the three stores. If the results are significant, follow up with a post-hoc test to determine which store(s) differ significantly from each other.\\n\\nAns.\")"
   ]
  },
  {
   "cell_type": "code",
   "execution_count": null,
   "id": "10432be4-054b-4741-9199-1c90ccd0ae1b",
   "metadata": {},
   "outputs": [],
   "source": []
  }
 ],
 "metadata": {
  "kernelspec": {
   "display_name": "Python 3 (ipykernel)",
   "language": "python",
   "name": "python3"
  },
  "language_info": {
   "codemirror_mode": {
    "name": "ipython",
    "version": 3
   },
   "file_extension": ".py",
   "mimetype": "text/x-python",
   "name": "python",
   "nbconvert_exporter": "python",
   "pygments_lexer": "ipython3",
   "version": "3.10.8"
  }
 },
 "nbformat": 4,
 "nbformat_minor": 5
}

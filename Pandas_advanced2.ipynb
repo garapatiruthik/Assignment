{
 "cells": [
  {
   "cell_type": "code",
   "execution_count": 2,
   "id": "55555d3d-63e3-4664-92ed-d4fb1d54ecea",
   "metadata": {},
   "outputs": [],
   "source": [
    "import pandas as pd\n",
    "course_name = ['Data Science', 'Machine Learning', 'Big Data', 'Data Engineer']\n",
    "duration = [2,3,6,4]\n",
    "df = pd.DataFrame(data = {'course_name' : course_name, 'duration' : duration})"
   ]
  },
  {
   "cell_type": "code",
   "execution_count": 2,
   "id": "ec2a86e0-7f3d-4d68-b1de-a2420b87bf19",
   "metadata": {},
   "outputs": [
    {
     "data": {
      "text/html": [
       "<div>\n",
       "<style scoped>\n",
       "    .dataframe tbody tr th:only-of-type {\n",
       "        vertical-align: middle;\n",
       "    }\n",
       "\n",
       "    .dataframe tbody tr th {\n",
       "        vertical-align: top;\n",
       "    }\n",
       "\n",
       "    .dataframe thead th {\n",
       "        text-align: right;\n",
       "    }\n",
       "</style>\n",
       "<table border=\"1\" class=\"dataframe\">\n",
       "  <thead>\n",
       "    <tr style=\"text-align: right;\">\n",
       "      <th></th>\n",
       "      <th>course_name</th>\n",
       "      <th>duration</th>\n",
       "    </tr>\n",
       "  </thead>\n",
       "  <tbody>\n",
       "    <tr>\n",
       "      <th>0</th>\n",
       "      <td>Data Science</td>\n",
       "      <td>2</td>\n",
       "    </tr>\n",
       "    <tr>\n",
       "      <th>1</th>\n",
       "      <td>Machine Learning</td>\n",
       "      <td>3</td>\n",
       "    </tr>\n",
       "    <tr>\n",
       "      <th>2</th>\n",
       "      <td>Big Data</td>\n",
       "      <td>6</td>\n",
       "    </tr>\n",
       "    <tr>\n",
       "      <th>3</th>\n",
       "      <td>Data Engineer</td>\n",
       "      <td>4</td>\n",
       "    </tr>\n",
       "  </tbody>\n",
       "</table>\n",
       "</div>"
      ],
      "text/plain": [
       "        course_name  duration\n",
       "0      Data Science         2\n",
       "1  Machine Learning         3\n",
       "2          Big Data         6\n",
       "3     Data Engineer         4"
      ]
     },
     "execution_count": 2,
     "metadata": {},
     "output_type": "execute_result"
    }
   ],
   "source": [
    "df"
   ]
  },
  {
   "cell_type": "code",
   "execution_count": 3,
   "id": "e15e709a-41f9-4560-b79b-c85e55d16660",
   "metadata": {},
   "outputs": [
    {
     "name": "stdout",
     "output_type": "stream",
     "text": [
      "Q1. Write a code to print the data present in the second row of the dataframe, df.\n",
      "\n",
      "Ans.\n"
     ]
    }
   ],
   "source": [
    "print(\"Q1. Write a code to print the data present in the second row of the dataframe, df.\\n\\nAns.\")"
   ]
  },
  {
   "cell_type": "code",
   "execution_count": 4,
   "id": "f0f07b15-be0a-45da-b615-60e8b70e295a",
   "metadata": {},
   "outputs": [
    {
     "data": {
      "text/html": [
       "<div>\n",
       "<style scoped>\n",
       "    .dataframe tbody tr th:only-of-type {\n",
       "        vertical-align: middle;\n",
       "    }\n",
       "\n",
       "    .dataframe tbody tr th {\n",
       "        vertical-align: top;\n",
       "    }\n",
       "\n",
       "    .dataframe thead th {\n",
       "        text-align: right;\n",
       "    }\n",
       "</style>\n",
       "<table border=\"1\" class=\"dataframe\">\n",
       "  <thead>\n",
       "    <tr style=\"text-align: right;\">\n",
       "      <th></th>\n",
       "      <th>course_name</th>\n",
       "      <th>duration</th>\n",
       "    </tr>\n",
       "  </thead>\n",
       "  <tbody>\n",
       "    <tr>\n",
       "      <th>1</th>\n",
       "      <td>Machine Learning</td>\n",
       "      <td>3</td>\n",
       "    </tr>\n",
       "  </tbody>\n",
       "</table>\n",
       "</div>"
      ],
      "text/plain": [
       "        course_name  duration\n",
       "1  Machine Learning         3"
      ]
     },
     "execution_count": 4,
     "metadata": {},
     "output_type": "execute_result"
    }
   ],
   "source": [
    "df.iloc[1:2,[0,1]]"
   ]
  },
  {
   "cell_type": "code",
   "execution_count": 5,
   "id": "b6bf0973-01c3-4836-a5b8-be66bf7e9232",
   "metadata": {},
   "outputs": [
    {
     "name": "stdout",
     "output_type": "stream",
     "text": [
      "Q2. What is the difference between the functions loc and iloc in pandas.DataFrame?\n",
      "\n",
      "Ans.loc is label-based indexing, where you use actual row and column labels. iloc is integer-based indexing, where you use numerical row and column indices.\n",
      "Example:\n"
     ]
    }
   ],
   "source": [
    "print(\"Q2. What is the difference between the functions loc and iloc in pandas.DataFrame?\\n\\nAns.loc is label-based indexing, where you use actual row and column labels. iloc is integer-based indexing, where you use numerical row and column indices.\\nExample:\")"
   ]
  },
  {
   "cell_type": "code",
   "execution_count": 6,
   "id": "e5dc06e8-8687-44f1-90fc-b8ca6b4f538b",
   "metadata": {},
   "outputs": [
    {
     "data": {
      "text/html": [
       "<div>\n",
       "<style scoped>\n",
       "    .dataframe tbody tr th:only-of-type {\n",
       "        vertical-align: middle;\n",
       "    }\n",
       "\n",
       "    .dataframe tbody tr th {\n",
       "        vertical-align: top;\n",
       "    }\n",
       "\n",
       "    .dataframe thead th {\n",
       "        text-align: right;\n",
       "    }\n",
       "</style>\n",
       "<table border=\"1\" class=\"dataframe\">\n",
       "  <thead>\n",
       "    <tr style=\"text-align: right;\">\n",
       "      <th></th>\n",
       "      <th>course_name</th>\n",
       "      <th>duration</th>\n",
       "    </tr>\n",
       "  </thead>\n",
       "  <tbody>\n",
       "    <tr>\n",
       "      <th>0</th>\n",
       "      <td>Data Science</td>\n",
       "      <td>2</td>\n",
       "    </tr>\n",
       "    <tr>\n",
       "      <th>1</th>\n",
       "      <td>Machine Learning</td>\n",
       "      <td>3</td>\n",
       "    </tr>\n",
       "    <tr>\n",
       "      <th>2</th>\n",
       "      <td>Big Data</td>\n",
       "      <td>6</td>\n",
       "    </tr>\n",
       "  </tbody>\n",
       "</table>\n",
       "</div>"
      ],
      "text/plain": [
       "        course_name  duration\n",
       "0      Data Science         2\n",
       "1  Machine Learning         3\n",
       "2          Big Data         6"
      ]
     },
     "execution_count": 6,
     "metadata": {},
     "output_type": "execute_result"
    }
   ],
   "source": [
    "df.iloc[0:3,[0,1]]"
   ]
  },
  {
   "cell_type": "code",
   "execution_count": 7,
   "id": "40f7f029-f2e5-480e-8f9f-c0c4089162d0",
   "metadata": {},
   "outputs": [
    {
     "data": {
      "text/html": [
       "<div>\n",
       "<style scoped>\n",
       "    .dataframe tbody tr th:only-of-type {\n",
       "        vertical-align: middle;\n",
       "    }\n",
       "\n",
       "    .dataframe tbody tr th {\n",
       "        vertical-align: top;\n",
       "    }\n",
       "\n",
       "    .dataframe thead th {\n",
       "        text-align: right;\n",
       "    }\n",
       "</style>\n",
       "<table border=\"1\" class=\"dataframe\">\n",
       "  <thead>\n",
       "    <tr style=\"text-align: right;\">\n",
       "      <th></th>\n",
       "      <th>course_name</th>\n",
       "      <th>duration</th>\n",
       "    </tr>\n",
       "  </thead>\n",
       "  <tbody>\n",
       "    <tr>\n",
       "      <th>1</th>\n",
       "      <td>Machine Learning</td>\n",
       "      <td>3</td>\n",
       "    </tr>\n",
       "    <tr>\n",
       "      <th>2</th>\n",
       "      <td>Big Data</td>\n",
       "      <td>6</td>\n",
       "    </tr>\n",
       "    <tr>\n",
       "      <th>3</th>\n",
       "      <td>Data Engineer</td>\n",
       "      <td>4</td>\n",
       "    </tr>\n",
       "  </tbody>\n",
       "</table>\n",
       "</div>"
      ],
      "text/plain": [
       "        course_name  duration\n",
       "1  Machine Learning         3\n",
       "2          Big Data         6\n",
       "3     Data Engineer         4"
      ]
     },
     "execution_count": 7,
     "metadata": {},
     "output_type": "execute_result"
    }
   ],
   "source": [
    "df.loc[1:3,['course_name','duration']]"
   ]
  },
  {
   "cell_type": "code",
   "execution_count": 8,
   "id": "7ad90c95-a158-4e8c-ab4b-775e5097fce9",
   "metadata": {},
   "outputs": [
    {
     "name": "stdout",
     "output_type": "stream",
     "text": [
      "Q3. Reindex the given dataframe using a variable, reindex = [3,0,1,2] and store it in the variable, new_df then find the output for both new_df.loc[2] and new_df.iloc[2].\n",
      "Ans.\n"
     ]
    }
   ],
   "source": [
    "print(\"Q3. Reindex the given dataframe using a variable, reindex = [3,0,1,2] and store it in the variable, new_df then find the output for both new_df.loc[2] and new_df.iloc[2].\\nAns.\")"
   ]
  },
  {
   "cell_type": "code",
   "execution_count": 9,
   "id": "7ff211a3-1ba3-4f6f-b264-e3fd51cb57c3",
   "metadata": {},
   "outputs": [],
   "source": [
    "new_index = [3,0,1,2]\n",
    "new_df = df.reindex(new_index)"
   ]
  },
  {
   "cell_type": "code",
   "execution_count": 10,
   "id": "a414c20f-d2a6-4a2a-a5c9-33597679c5eb",
   "metadata": {},
   "outputs": [
    {
     "data": {
      "text/plain": [
       "course_name    Big Data\n",
       "duration              6\n",
       "Name: 2, dtype: object"
      ]
     },
     "execution_count": 10,
     "metadata": {},
     "output_type": "execute_result"
    }
   ],
   "source": [
    "new_df.loc[2]"
   ]
  },
  {
   "cell_type": "code",
   "execution_count": 11,
   "id": "c5a48f50-48a4-4493-b9e1-747083d218f5",
   "metadata": {},
   "outputs": [
    {
     "data": {
      "text/plain": [
       "course_name    Machine Learning\n",
       "duration                      3\n",
       "Name: 1, dtype: object"
      ]
     },
     "execution_count": 11,
     "metadata": {},
     "output_type": "execute_result"
    }
   ],
   "source": [
    "new_df.iloc[2]"
   ]
  },
  {
   "cell_type": "code",
   "execution_count": 12,
   "id": "09416932-5910-4f39-bb13-a19e2dfb29ad",
   "metadata": {},
   "outputs": [
    {
     "name": "stdout",
     "output_type": "stream",
     "text": [
      "Did you observe any difference in both the outputs? If so then explain it.\n",
      "Ans.new_df.loc[2] retrieves the row with label 2 in the DataFrame based on the index labels after reindexing. new_df.iloc[2] retrieves the row at the third position in the DataFrame based on its positional index after reindexing\n"
     ]
    }
   ],
   "source": [
    "print(\"Did you observe any difference in both the outputs? If so then explain it.\\nAns.new_df.loc[2] retrieves the row with label 2 in the DataFrame based on the index labels after reindexing. new_df.iloc[2] retrieves the row at the third position in the DataFrame based on its positional index after reindexing\")"
   ]
  },
  {
   "cell_type": "code",
   "execution_count": 13,
   "id": "4b9de4dc-ed9c-4394-98ea-aded18f13cb5",
   "metadata": {},
   "outputs": [],
   "source": [
    "import pandas as pd\n",
    "import numpy as np\n",
    "columns = ['column_1', 'column_2', 'column_3', 'column_4', 'column_5', 'column_6']\n",
    "indices = [1,2,3,4,5,6]\n",
    "#Creating a dataframe:\n",
    "df1 = pd.DataFrame(np.random.rand(6,6), columns = columns, index = indices)"
   ]
  },
  {
   "cell_type": "code",
   "execution_count": 14,
   "id": "9df7042c-5c59-49c5-bfbc-ef718cdb5f69",
   "metadata": {},
   "outputs": [
    {
     "name": "stdout",
     "output_type": "stream",
     "text": [
      "Q4. Write a code to find the following statistical measurements for the above dataframe df1:\n",
      "(i) mean of each and every column present in the dataframe.\n",
      "(ii) standard deviation of column, ‘column_2’\n",
      "Ans.\n"
     ]
    }
   ],
   "source": [
    "print(\"Q4. Write a code to find the following statistical measurements for the above dataframe df1:\\n(i) mean of each and every column present in the dataframe.\\n(ii) standard deviation of column, ‘column_2’\\nAns.\")"
   ]
  },
  {
   "cell_type": "code",
   "execution_count": 15,
   "id": "458c6257-9487-4095-bd8b-2fe1040212f6",
   "metadata": {},
   "outputs": [
    {
     "data": {
      "text/plain": [
       "column_1    0.362706\n",
       "column_2    0.482764\n",
       "column_3    0.438239\n",
       "column_4    0.358441\n",
       "column_5    0.488993\n",
       "column_6    0.444608\n",
       "dtype: float64"
      ]
     },
     "execution_count": 15,
     "metadata": {},
     "output_type": "execute_result"
    }
   ],
   "source": [
    "df1.mean()"
   ]
  },
  {
   "cell_type": "code",
   "execution_count": 16,
   "id": "067af9f6-c15d-447a-a78c-09631c22760e",
   "metadata": {},
   "outputs": [
    {
     "data": {
      "text/plain": [
       "1    0.293976\n",
       "2    0.270591\n",
       "3    0.234658\n",
       "4    0.241437\n",
       "5    0.330038\n",
       "6    0.277887\n",
       "dtype: float64"
      ]
     },
     "execution_count": 16,
     "metadata": {},
     "output_type": "execute_result"
    }
   ],
   "source": [
    "df1.std(1)"
   ]
  },
  {
   "cell_type": "code",
   "execution_count": 17,
   "id": "4c16c975-67da-4852-9256-50b059aa3b92",
   "metadata": {},
   "outputs": [
    {
     "name": "stdout",
     "output_type": "stream",
     "text": [
      "Q5. Replace the data present in the second row of column, ‘column_2’ by a string variable then find the\n",
      "mean of column, column_2.\n",
      "If you are getting errors in executing it then explain why.\n",
      "[Hint: To replace the data use df1.loc[] and equate this to string data of your choice.]\n"
     ]
    }
   ],
   "source": [
    "print(\"Q5. Replace the data present in the second row of column, ‘column_2’ by a string variable then find the\\nmean of column, column_2.\\nIf you are getting errors in executing it then explain why.\\n[Hint: To replace the data use df1.loc[] and equate this to string data of your choice.]\")"
   ]
  },
  {
   "cell_type": "code",
   "execution_count": 18,
   "id": "808bd697-cd0e-40c2-90b9-7eae583f8fc4",
   "metadata": {},
   "outputs": [
    {
     "data": {
      "text/html": [
       "<div>\n",
       "<style scoped>\n",
       "    .dataframe tbody tr th:only-of-type {\n",
       "        vertical-align: middle;\n",
       "    }\n",
       "\n",
       "    .dataframe tbody tr th {\n",
       "        vertical-align: top;\n",
       "    }\n",
       "\n",
       "    .dataframe thead th {\n",
       "        text-align: right;\n",
       "    }\n",
       "</style>\n",
       "<table border=\"1\" class=\"dataframe\">\n",
       "  <thead>\n",
       "    <tr style=\"text-align: right;\">\n",
       "      <th></th>\n",
       "      <th>column_1</th>\n",
       "      <th>column_2</th>\n",
       "      <th>column_3</th>\n",
       "      <th>column_4</th>\n",
       "      <th>column_5</th>\n",
       "      <th>column_6</th>\n",
       "    </tr>\n",
       "  </thead>\n",
       "  <tbody>\n",
       "    <tr>\n",
       "      <th>1</th>\n",
       "      <td>0.476475</td>\n",
       "      <td>0.261930</td>\n",
       "      <td>0.243021</td>\n",
       "      <td>0.065606</td>\n",
       "      <td>0.177510</td>\n",
       "      <td>0.885065</td>\n",
       "    </tr>\n",
       "    <tr>\n",
       "      <th>2</th>\n",
       "      <td>0.680106</td>\n",
       "      <td>0.812489</td>\n",
       "      <td>0.066537</td>\n",
       "      <td>0.302422</td>\n",
       "      <td>0.496015</td>\n",
       "      <td>0.346024</td>\n",
       "    </tr>\n",
       "    <tr>\n",
       "      <th>3</th>\n",
       "      <td>0.482828</td>\n",
       "      <td>0.603579</td>\n",
       "      <td>0.845951</td>\n",
       "      <td>0.245048</td>\n",
       "      <td>0.852575</td>\n",
       "      <td>0.723378</td>\n",
       "    </tr>\n",
       "    <tr>\n",
       "      <th>4</th>\n",
       "      <td>0.131804</td>\n",
       "      <td>0.325258</td>\n",
       "      <td>0.638116</td>\n",
       "      <td>0.269222</td>\n",
       "      <td>0.738403</td>\n",
       "      <td>0.603004</td>\n",
       "    </tr>\n",
       "    <tr>\n",
       "      <th>5</th>\n",
       "      <td>0.199699</td>\n",
       "      <td>0.837978</td>\n",
       "      <td>0.354367</td>\n",
       "      <td>0.599443</td>\n",
       "      <td>0.014192</td>\n",
       "      <td>0.018547</td>\n",
       "    </tr>\n",
       "    <tr>\n",
       "      <th>6</th>\n",
       "      <td>0.205323</td>\n",
       "      <td>0.055350</td>\n",
       "      <td>0.481442</td>\n",
       "      <td>0.668905</td>\n",
       "      <td>0.655260</td>\n",
       "      <td>0.091631</td>\n",
       "    </tr>\n",
       "  </tbody>\n",
       "</table>\n",
       "</div>"
      ],
      "text/plain": [
       "   column_1  column_2  column_3  column_4  column_5  column_6\n",
       "1  0.476475  0.261930  0.243021  0.065606  0.177510  0.885065\n",
       "2  0.680106  0.812489  0.066537  0.302422  0.496015  0.346024\n",
       "3  0.482828  0.603579  0.845951  0.245048  0.852575  0.723378\n",
       "4  0.131804  0.325258  0.638116  0.269222  0.738403  0.603004\n",
       "5  0.199699  0.837978  0.354367  0.599443  0.014192  0.018547\n",
       "6  0.205323  0.055350  0.481442  0.668905  0.655260  0.091631"
      ]
     },
     "execution_count": 18,
     "metadata": {},
     "output_type": "execute_result"
    }
   ],
   "source": [
    "df1"
   ]
  },
  {
   "cell_type": "code",
   "execution_count": 19,
   "id": "6ebc3c6c-488e-429b-a9c4-3d39c3e5547d",
   "metadata": {},
   "outputs": [],
   "source": [
    "df1.loc[1,'column_2'] = \"Ruthik\""
   ]
  },
  {
   "cell_type": "code",
   "execution_count": 20,
   "id": "df4cfd37-054d-42ec-a01d-2475e7900dad",
   "metadata": {},
   "outputs": [
    {
     "data": {
      "text/html": [
       "<div>\n",
       "<style scoped>\n",
       "    .dataframe tbody tr th:only-of-type {\n",
       "        vertical-align: middle;\n",
       "    }\n",
       "\n",
       "    .dataframe tbody tr th {\n",
       "        vertical-align: top;\n",
       "    }\n",
       "\n",
       "    .dataframe thead th {\n",
       "        text-align: right;\n",
       "    }\n",
       "</style>\n",
       "<table border=\"1\" class=\"dataframe\">\n",
       "  <thead>\n",
       "    <tr style=\"text-align: right;\">\n",
       "      <th></th>\n",
       "      <th>column_1</th>\n",
       "      <th>column_2</th>\n",
       "      <th>column_3</th>\n",
       "      <th>column_4</th>\n",
       "      <th>column_5</th>\n",
       "      <th>column_6</th>\n",
       "    </tr>\n",
       "  </thead>\n",
       "  <tbody>\n",
       "    <tr>\n",
       "      <th>1</th>\n",
       "      <td>0.476475</td>\n",
       "      <td>Ruthik</td>\n",
       "      <td>0.243021</td>\n",
       "      <td>0.065606</td>\n",
       "      <td>0.177510</td>\n",
       "      <td>0.885065</td>\n",
       "    </tr>\n",
       "    <tr>\n",
       "      <th>2</th>\n",
       "      <td>0.680106</td>\n",
       "      <td>0.812489</td>\n",
       "      <td>0.066537</td>\n",
       "      <td>0.302422</td>\n",
       "      <td>0.496015</td>\n",
       "      <td>0.346024</td>\n",
       "    </tr>\n",
       "    <tr>\n",
       "      <th>3</th>\n",
       "      <td>0.482828</td>\n",
       "      <td>0.603579</td>\n",
       "      <td>0.845951</td>\n",
       "      <td>0.245048</td>\n",
       "      <td>0.852575</td>\n",
       "      <td>0.723378</td>\n",
       "    </tr>\n",
       "    <tr>\n",
       "      <th>4</th>\n",
       "      <td>0.131804</td>\n",
       "      <td>0.325258</td>\n",
       "      <td>0.638116</td>\n",
       "      <td>0.269222</td>\n",
       "      <td>0.738403</td>\n",
       "      <td>0.603004</td>\n",
       "    </tr>\n",
       "    <tr>\n",
       "      <th>5</th>\n",
       "      <td>0.199699</td>\n",
       "      <td>0.837978</td>\n",
       "      <td>0.354367</td>\n",
       "      <td>0.599443</td>\n",
       "      <td>0.014192</td>\n",
       "      <td>0.018547</td>\n",
       "    </tr>\n",
       "    <tr>\n",
       "      <th>6</th>\n",
       "      <td>0.205323</td>\n",
       "      <td>0.05535</td>\n",
       "      <td>0.481442</td>\n",
       "      <td>0.668905</td>\n",
       "      <td>0.655260</td>\n",
       "      <td>0.091631</td>\n",
       "    </tr>\n",
       "  </tbody>\n",
       "</table>\n",
       "</div>"
      ],
      "text/plain": [
       "   column_1  column_2  column_3  column_4  column_5  column_6\n",
       "1  0.476475    Ruthik  0.243021  0.065606  0.177510  0.885065\n",
       "2  0.680106  0.812489  0.066537  0.302422  0.496015  0.346024\n",
       "3  0.482828  0.603579  0.845951  0.245048  0.852575  0.723378\n",
       "4  0.131804  0.325258  0.638116  0.269222  0.738403  0.603004\n",
       "5  0.199699  0.837978  0.354367  0.599443  0.014192  0.018547\n",
       "6  0.205323   0.05535  0.481442  0.668905  0.655260  0.091631"
      ]
     },
     "execution_count": 20,
     "metadata": {},
     "output_type": "execute_result"
    }
   ],
   "source": [
    "df1"
   ]
  },
  {
   "cell_type": "code",
   "execution_count": 21,
   "id": "041b3c5e-0147-4f95-91f5-014f4214ac1b",
   "metadata": {},
   "outputs": [
    {
     "name": "stderr",
     "output_type": "stream",
     "text": [
      "/tmp/ipykernel_208/2053335143.py:1: FutureWarning: The default value of numeric_only in DataFrame.mean is deprecated. In a future version, it will default to False. In addition, specifying 'numeric_only=None' is deprecated. Select only valid columns or specify the value of numeric_only to silence this warning.\n",
      "  df1.mean()\n"
     ]
    },
    {
     "data": {
      "text/plain": [
       "column_1    0.362706\n",
       "column_3    0.438239\n",
       "column_4    0.358441\n",
       "column_5    0.488993\n",
       "column_6    0.444608\n",
       "dtype: float64"
      ]
     },
     "execution_count": 21,
     "metadata": {},
     "output_type": "execute_result"
    }
   ],
   "source": [
    "df1.mean()"
   ]
  },
  {
   "cell_type": "code",
   "execution_count": 22,
   "id": "5e083657-7d18-46ff-afea-84b31e7a4fea",
   "metadata": {},
   "outputs": [
    {
     "name": "stdout",
     "output_type": "stream",
     "text": [
      "Q6. What do you understand about the windows function in pandas and list the types of windows functions?\n",
      "\n",
      "Ans.\n",
      "Types of window functions in pandas:\n",
      "1. Rolling Window Functions:\n",
      "   - These functions operate over a fixed-size window of consecutive data points.\n",
      "   - Common rolling window functions include:\n",
      "     - Mean: Calculates the mean of the values in the window.\n",
      "     - Sum: Calculates the sum of the values in the window.\n",
      "     - Median: Calculates the median of the values in the window.\n",
      "     - Standard deviation: Calculates the standard deviation of the values in the window.\n",
      "     - Min: Calculates the minimum value in the window.\n",
      "     - Max: Calculates the maximum value in the window.\n",
      "     - Count: Counts the number of non-null values in the window.\n",
      "2. Expanding Window Functions:\n",
      "   - These functions operate over an expanding window that grows with each new data point.\n",
      "   - Expanding window functions typically aggregate data cumulatively.\n",
      "   - Common expanding window functions include:\n",
      "     - Cumulative sum: Calculates the sum of all values seen up to the current point.\n",
      "     - Cumulative mean: Calculates the mean of all values seen up to the current point.\n",
      "     - Cumulative min: Calculates the minimum value seen up to the current point.\n",
      "     - Cumulative max: Calculates the maximum value seen up to the current point.\n"
     ]
    }
   ],
   "source": [
    "print(\"Q6. What do you understand about the windows function in pandas and list the types of windows functions?\\n\\nAns.\")\n",
    "print(\"Types of window functions in pandas:\\n\"\n",
    "      \"1. Rolling Window Functions:\\n\"\n",
    "      \"   - These functions operate over a fixed-size window of consecutive data points.\\n\"\n",
    "      \"   - Common rolling window functions include:\\n\"\n",
    "      \"     - Mean: Calculates the mean of the values in the window.\\n\"\n",
    "      \"     - Sum: Calculates the sum of the values in the window.\\n\"\n",
    "      \"     - Median: Calculates the median of the values in the window.\\n\"\n",
    "      \"     - Standard deviation: Calculates the standard deviation of the values in the window.\\n\"\n",
    "      \"     - Min: Calculates the minimum value in the window.\\n\"\n",
    "      \"     - Max: Calculates the maximum value in the window.\\n\"\n",
    "      \"     - Count: Counts the number of non-null values in the window.\\n\"\n",
    "      \"2. Expanding Window Functions:\\n\"\n",
    "      \"   - These functions operate over an expanding window that grows with each new data point.\\n\"\n",
    "      \"   - Expanding window functions typically aggregate data cumulatively.\\n\"\n",
    "      \"   - Common expanding window functions include:\\n\"\n",
    "      \"     - Cumulative sum: Calculates the sum of all values seen up to the current point.\\n\"\n",
    "      \"     - Cumulative mean: Calculates the mean of all values seen up to the current point.\\n\"\n",
    "      \"     - Cumulative min: Calculates the minimum value seen up to the current point.\\n\"\n",
    "      \"     - Cumulative max: Calculates the maximum value seen up to the current point.\")\n"
   ]
  },
  {
   "cell_type": "code",
   "execution_count": 23,
   "id": "485f9a56-7e9f-4f06-af30-a35ea98b54d4",
   "metadata": {},
   "outputs": [
    {
     "name": "stdout",
     "output_type": "stream",
     "text": [
      "Q7. Write a code to print only the current month and year at the time of answering this question.[Hint: Use pandas.datetime function]\n"
     ]
    }
   ],
   "source": [
    "print(\"Q7. Write a code to print only the current month and year at the time of answering this question.[Hint: Use pandas.datetime function]\")"
   ]
  },
  {
   "cell_type": "code",
   "execution_count": 24,
   "id": "e76b8f16-bd6d-427e-8f9f-2e82322b20fd",
   "metadata": {},
   "outputs": [],
   "source": [
    "current_date = pd.Timestamp.now()\n",
    "\n",
    "# Extract the month and year from the current date\n",
    "current_month = current_date.month\n",
    "current_year = current_date.year"
   ]
  },
  {
   "cell_type": "code",
   "execution_count": 32,
   "id": "bc0b0214-c287-404d-90ad-7aea9d6b0ea4",
   "metadata": {},
   "outputs": [
    {
     "name": "stdout",
     "output_type": "stream",
     "text": [
      "month: 3\n",
      "year: 2024\n"
     ]
    }
   ],
   "source": [
    "print(f\"month: {current_month}\")\n",
    "print(f\"year: {current_year}\")"
   ]
  },
  {
   "cell_type": "code",
   "execution_count": 1,
   "id": "52eb61a7-fe3a-42e3-b398-4ac45414e231",
   "metadata": {},
   "outputs": [
    {
     "name": "stdout",
     "output_type": "stream",
     "text": [
      "Q8. Write a Python program that takes in two dates as input (in the format YYYY-MM-DD) and calculates the difference between them in days, hours, and minutes using Pandas time delta. The program should prompt the user to enter the dates and display the result.\n"
     ]
    }
   ],
   "source": [
    "print(\"Q8. Write a Python program that takes in two dates as input (in the format YYYY-MM-DD) and calculates the difference between them in days, hours, and minutes using Pandas time delta. The program should prompt the user to enter the dates and display the result.\")"
   ]
  },
  {
   "cell_type": "code",
   "execution_count": 10,
   "id": "ecd6cbf9-429a-4302-b53f-2e186f7a53f0",
   "metadata": {},
   "outputs": [],
   "source": [
    "def calculate_time_difference(start_date, end_date):\n",
    "    start = pd.to_datetime(start_date)\n",
    "    end = pd.to_datetime(end_date)\n",
    "    diff = start - end\n",
    "    days = diff.days\n",
    "    \n",
    "    minutes = (diff.seconds % 3600) // 60\n",
    "    hours = diff.seconds // 3600\n",
    "    minutes = (diff.seconds % 3600) // 60\n",
    "    return days, hours, minutes"
   ]
  },
  {
   "cell_type": "code",
   "execution_count": 11,
   "id": "fc7e2a6a-d178-4acf-a604-755bc0197a3b",
   "metadata": {},
   "outputs": [
    {
     "name": "stdout",
     "output_type": "stream",
     "text": [
      "Days: -63\n",
      "Hours: 0\n",
      "Minutes: 0\n"
     ]
    }
   ],
   "source": [
    "days, hours, minutes = calculate_time_difference('2024-10-10', '2024-12-12')\n",
    "print(\"Days:\", days)\n",
    "print(\"Hours:\", hours)\n",
    "print(\"Minutes:\", minutes)"
   ]
  },
  {
   "cell_type": "code",
   "execution_count": 12,
   "id": "a976dcf5-80c5-4641-b434-15d7516c33d0",
   "metadata": {},
   "outputs": [
    {
     "name": "stdout",
     "output_type": "stream",
     "text": [
      "Q9. Write a Python program that reads a CSV file containing categorical data and converts a specified column to a categorical data type. The program should prompt the user to enter the file path, column name, and category order, and then display the sorted data.\n",
      "Ans.\n"
     ]
    }
   ],
   "source": [
    "print(\"Q9. Write a Python program that reads a CSV file containing categorical data and converts a specified column to a categorical data type. The program should prompt the user to enter the file path, column name, and category order, and then display the sorted data.\\nAns.\")"
   ]
  },
  {
   "cell_type": "code",
   "execution_count": 23,
   "id": "3a6a57b9-8a81-4e35-b816-eb07a0f2b96e",
   "metadata": {},
   "outputs": [],
   "source": [
    "data = {\n",
    "    'Name': ['Donald', 'Singh', 'Rishi', 'Rani', 'kamala', 'devi', 'Catheriene', 'divi', 'Hamida'],\n",
    "    'Degree': ['M', 'B', 'M','M','M','B','M','Phd','Phd'],\n",
    "    'Country': ['USA', 'Canada', 'UK','India','USA','India','UK','USA','India']\n",
    "}\n",
    "file_path = \"jan.csv\"\n",
    "df = pd.DataFrame(data)\n",
    "df.to_csv(file_path, index=False)"
   ]
  },
  {
   "cell_type": "code",
   "execution_count": 27,
   "id": "58b02472-82e3-4d99-8839-e6fc617a2966",
   "metadata": {},
   "outputs": [
    {
     "name": "stdin",
     "output_type": "stream",
     "text": [
      "Enter the file path of the CSV file:  jan.csv\n",
      "Enter the column name to convert to categorical data type:  Degree\n",
      "Enter the category order (comma-separated):  Phd,M,B\n"
     ]
    },
    {
     "name": "stdout",
     "output_type": "stream",
     "text": [
      "      divi Phd    USA\n",
      "    Hamida Phd  India\n",
      "    Donald   M    USA\n",
      "     Rishi   M     UK\n",
      "      Rani   M  India\n",
      "    kamala   M    USA\n",
      "Catheriene   M     UK\n",
      "     Singh   B Canada\n",
      "      devi   B  India\n"
     ]
    }
   ],
   "source": [
    "import pandas as pd\n",
    "\n",
    "def convert_to_categorical(df, column_name, category_order):\n",
    "    \n",
    "    df[column_name] = pd.Categorical(df[column_name], categories=category_order, ordered=True)\n",
    "    return df\n",
    "\n",
    "file_path = input(\"Enter the file path of the CSV file: \")\n",
    "\n",
    "df = pd.read_csv(file_path)\n",
    "column_name = input(\"Enter the column name to convert to categorical data type: \")\n",
    "category_order_input = input(\"Enter the category order (comma-separated): \")\n",
    "category_order = [category.strip() for category in category_order_input.split(',')]\n",
    "df = convert_to_categorical(df, column_name, category_order)\n",
    "sorted_df = df.sort_values(by=column_name)\n",
    "print(sorted_df.to_string(index=False, header=False))\n"
   ]
  },
  {
   "cell_type": "code",
   "execution_count": 28,
   "id": "2f98d659-7a7b-477c-9e34-12b5e353226e",
   "metadata": {},
   "outputs": [
    {
     "name": "stdout",
     "output_type": "stream",
     "text": [
      "Q10. Write a Python program that reads a CSV file containing sales data for different products and visualizes the data using a stacked bar chart to show the sales of each product category over time. The program should prompt the user to enter the file path and display the chart\n"
     ]
    }
   ],
   "source": [
    "print(\"Q10. Write a Python program that reads a CSV file containing sales data for different products and visualizes the data using a stacked bar chart to show the sales of each product category over time. The program should prompt the user to enter the file path and display the chart\")"
   ]
  },
  {
   "cell_type": "code",
   "execution_count": 14,
   "id": "dac818a8-f827-4e9a-9873-39e90fa127ac",
   "metadata": {},
   "outputs": [],
   "source": [
    "sales_data = [\n",
    "    ['2023-01-01', 'A', 100],\n",
    "    ['2023-01-01', 'B', 150],\n",
    "    ['2023-01-01', 'C', 200],\n",
    "    ['2023-01-02', 'A', 120],\n",
    "    ['2023-01-02', 'B', 160],\n",
    "    ['2023-01-02', 'C', 180],\n",
    "    ['2023-01-03', 'A', 130],\n",
    "    ['2023-01-03', 'B', 170],\n",
    "    ['2023-01-03', 'C', 190]\n",
    "]\n",
    "\n",
    "file_path = \"sales_new.csv\"\n",
    "df = pd.DataFrame(sales_data)\n",
    "df.to_csv(file_path, index=False)"
   ]
  },
  {
   "cell_type": "code",
   "execution_count": 17,
   "id": "2fdbea92-b7e7-4aec-96ec-1224c622db58",
   "metadata": {},
   "outputs": [
    {
     "name": "stdin",
     "output_type": "stream",
     "text": [
      "Enter the file path of the CSV file containing sales data:  sales_new.csv\n"
     ]
    },
    {
     "data": {
      "image/png": "[encoded data removed]",
      "text/plain": [
       "<Figure size 1000x600 with 1 Axes>"
      ]
     },
     "metadata": {},
     "output_type": "display_data"
    }
   ],
   "source": [
    "import matplotlib.pyplot as plt\n",
    "\n",
    "def visualize_sales_data(file_path):\n",
    "\n",
    "    try:\n",
    "        df = pd.read_csv(file_path)\n",
    "    except FileNotFoundError:\n",
    "        print(\"File not found.\")\n",
    "        return\n",
    "    except Exception as e:\n",
    "        print(\"An error occurred:\", e)\n",
    "        return\n",
    "    \n",
    "\n",
    "    if 'Date' not in df.columns:\n",
    "        print(\"Error: 'Date' column not found in the CSV file.\")\n",
    "        return\n",
    "    \n",
    "    \n",
    "    df['Date'] = pd.to_datetime(df['Date'])\n",
    "    \n",
    "    df_grouped = df.groupby(['Category', 'Date']).sum().reset_index()\n",
    "    df_pivot = df_grouped.pivot(index='Date', columns='Category', values='Sales').fillna(0)\n",
    "    \n",
    "    df_pivot.plot(kind='bar', stacked=True, figsize=(10, 6))\n",
    "    plt.title('Stacked Bar Chart of Sales by Product Category Over Time')\n",
    "    plt.xlabel('Date')\n",
    "    plt.ylabel('Sales')\n",
    "    plt.xticks(rotation=45)\n",
    "    plt.legend(title='Product Category')\n",
    "    plt.tight_layout()\n",
    "    plt.show()\n",
    "file_path = input(\"Enter the file path of the CSV file containing sales data: \")\n",
    "visualize_sales_data(file_path)\n"
   ]
  },
  {
   "cell_type": "code",
   "execution_count": 4,
   "id": "36c8b1b8-5735-4a8c-9a32-610f84d2424f",
   "metadata": {},
   "outputs": [],
   "source": [
    "import csv\n",
    "\n",
    "data = [\n",
    "    {'Student ID': 1, 'Test Score': 85},\n",
    "    {'Student ID': 2, 'Test Score': 90},\n",
    "    {'Student ID': 3, 'Test Score': 80},\n",
    "    {'Student ID': 4, 'Test Score': 75},\n",
    "    {'Student ID': 5, 'Test Score': 85},\n",
    "    {'Student ID': 6, 'Test Score': 82},\n",
    "    {'Student ID': 7, 'Test Score': 78},\n",
    "    {'Student ID': 8, 'Test Score': 85},\n",
    "    {'Student ID': 9, 'Test Score': 90},\n",
    "    {'Student ID': 10, 'Test Score': 85}\n",
    "]\n",
    "\n",
    "\n",
    "file_path = \"student.csv\"\n",
    "df = pd.DataFrame(data)\n",
    "df.to_csv(file_path, index=False)\n",
    "\n"
   ]
  },
  {
   "cell_type": "code",
   "execution_count": 1,
   "id": "68a519fe-e1b4-4c1b-86a3-92004a5a374e",
   "metadata": {},
   "outputs": [
    {
     "name": "stdout",
     "output_type": "stream",
     "text": [
      "Q11. You are given a CSV file containing student data that includes the student ID and their test score. Write a Python program that reads the CSV file, calculates the mean, median, and mode of the test scores, and displays the results in a table.\n"
     ]
    }
   ],
   "source": [
    "print(\"Q11. You are given a CSV file containing student data that includes the student ID and their test score. Write a Python program that reads the CSV file, calculates the mean, median, and mode of the test scores, and displays the results in a table.\")"
   ]
  },
  {
   "cell_type": "code",
   "execution_count": 6,
   "id": "a2b7101d-3812-4ab0-934d-3bce8a25ae14",
   "metadata": {},
   "outputs": [
    {
     "name": "stdin",
     "output_type": "stream",
     "text": [
      "Enter the file path of the CSV file containing the student data:  student.csv\n"
     ]
    },
    {
     "name": "stdout",
     "output_type": "stream",
     "text": [
      "+-----------+--------+\n",
      "| Statistic | Value  |\n",
      "+-----------+--------+\n",
      "| Mean      | 83.5   |\n",
      "| Median    | 85   |\n",
      "| Mode      | 85  |\n",
      "+-----------+--------+\n"
     ]
    }
   ],
   "source": [
    "import pandas as pd\n",
    "\n",
    "def main():\n",
    "\n",
    "    file_path = input(\"Enter the file path of the CSV file containing the student data: \")\n",
    "\n",
    "    try:\n",
    "        df = pd.read_csv(file_path)\n",
    "    except FileNotFoundError:\n",
    "        print(\"File not found.\")\n",
    "        return\n",
    "    except Exception as e:\n",
    "        print(\"An error occurred:\", e)\n",
    "        return\n",
    "\n",
    "    mean = df['Test Score'].mean()\n",
    "    median = df['Test Score'].median()\n",
    "    mode = df['Test Score'].mode()\n",
    "\n",
    "    print(\"+-----------+--------+\")\n",
    "    print(\"| Statistic | Value  |\")\n",
    "    print(\"+-----------+--------+\")\n",
    "    print(\"| Mean      | {:.1f}   |\".format(mean))\n",
    "    print(\"| Median    | {}   |\".format(int(median)))\n",
    "    print(\"| Mode      | {}  |\".format(', '.join(map(str, mode))))\n",
    "    print(\"+-----------+--------+\")\n",
    "\n",
    "if __name__ == \"__main__\":\n",
    "    main()\n"
   ]
  }
 ],
 "metadata": {
  "kernelspec": {
   "display_name": "Python 3 (ipykernel)",
   "language": "python",
   "name": "python3"
  },
  "language_info": {
   "codemirror_mode": {
    "name": "ipython",
    "version": 3
   },
   "file_extension": ".py",
   "mimetype": "text/x-python",
   "name": "python",
   "nbconvert_exporter": "python",
   "pygments_lexer": "ipython3",
   "version": "3.10.8"
  }
 },
 "nbformat": 4,
 "nbformat_minor": 5
}

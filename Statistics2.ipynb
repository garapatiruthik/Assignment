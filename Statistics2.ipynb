{
 "cells": [
  {
   "cell_type": "code",
   "execution_count": 2,
   "id": "285f998d-82d1-4704-87bc-e061d7fc6870",
   "metadata": {},
   "outputs": [
    {
     "name": "stdout",
     "output_type": "stream",
     "text": [
      "Q1. What are the three measures of central tendency?\n",
      "\n",
      "Ans.The three measures of central tendency are:\n",
      "1. Mean\n",
      "2. Median\n",
      "3. Mode.\n"
     ]
    }
   ],
   "source": [
    "print(\"Q1. What are the three measures of central tendency?\\n\\nAns.The three measures of central tendency are:\\n1. Mean\\n2. Median\\n3. Mode.\")"
   ]
  },
  {
   "cell_type": "code",
   "execution_count": 5,
   "id": "39ef9251-1244-46a6-8ae0-7f2f4748669b",
   "metadata": {},
   "outputs": [
    {
     "name": "stdout",
     "output_type": "stream",
     "text": [
      "Q2. What is the difference between the mean, median, and mode? How are they used to measure the central tendency of a dataset?\n",
      "Ans: The mean, median, and mode are measures of central tendency used to describe the 'center' or typical value of a dataset.\n",
      "- Mean: The mean is the average of all the values in the dataset. It is calculated by adding up all the values and then dividing by the total number of values. The mean is sensitive to outliers because it takes into account every value in the dataset.\n",
      "- Median: The median is the middle value when the dataset is arranged in ascending or descending order. If there is an even number of values, the median is the average of the two middle values. The median is less affected by outliers compared to the mean, making it a more robust measure of central tendency in skewed datasets.\n",
      "- Mode: The mode is the value that appears most frequently in the dataset. A dataset can have one mode, more than one mode (multimodal), or no mode if all values occur with the same frequency. The mode can be useful for categorical or discrete data, but it may not exist or be meaningful for continuous data.\n",
      "These measures provide different perspectives on the central tendency of a dataset. The mean gives an overall average, the median represents the middle value, and the mode identifies the most common value. Depending on the distribution and characteristics of the data, one measure may be more appropriate to use than the others.\n"
     ]
    }
   ],
   "source": [
    "print(\"Q2. What is the difference between the mean, median, and mode? How are they used to measure the central tendency of a dataset?\\nAns: The mean, median, and mode are measures of central tendency used to describe the 'center' or typical value of a dataset.\\n- Mean: The mean is the average of all the values in the dataset. It is calculated by adding up all the values and then dividing by the total number of values. The mean is sensitive to outliers because it takes into account every value in the dataset.\\n- Median: The median is the middle value when the dataset is arranged in ascending or descending order. If there is an even number of values, the median is the average of the two middle values. The median is less affected by outliers compared to the mean, making it a more robust measure of central tendency in skewed datasets.\\n- Mode: The mode is the value that appears most frequently in the dataset. A dataset can have one mode, more than one mode (multimodal), or no mode if all values occur with the same frequency. The mode can be useful for categorical or discrete data, but it may not exist or be meaningful for continuous data.\\nThese measures provide different perspectives on the central tendency of a dataset. The mean gives an overall average, the median represents the middle value, and the mode identifies the most common value. Depending on the distribution and characteristics of the data, one measure may be more appropriate to use than the others.\")"
   ]
  },
  {
   "cell_type": "code",
   "execution_count": 7,
   "id": "0f871687-936c-470a-a490-5fe734e8e020",
   "metadata": {},
   "outputs": [
    {
     "name": "stdout",
     "output_type": "stream",
     "text": [
      "Q3. Measure the three measures of central tendency for the given height data: [178,177,176,177,178.2,178,175,179,180,175,178.9,176.2,177,172.5,178,176.5]\n",
      "\n",
      "Ans.\n"
     ]
    }
   ],
   "source": [
    "print(\"Q3. Measure the three measures of central tendency for the given height data: [178,177,176,177,178.2,178,175,179,180,175,178.9,176.2,177,172.5,178,176.5]\\n\\nAns.\")"
   ]
  },
  {
   "cell_type": "code",
   "execution_count": 8,
   "id": "ac3fd91b-2666-434c-a289-54211d00be2d",
   "metadata": {},
   "outputs": [],
   "source": [
    "list = [178,177,176,177,178.2,178,175,179,180,175,178.9,176.2,177,172.5,178,176.5]"
   ]
  },
  {
   "cell_type": "code",
   "execution_count": null,
   "id": "12f889bb-882b-49ba-8b82-d94884387753",
   "metadata": {},
   "outputs": [],
   "source": [
    "import numpy as np"
   ]
  },
  {
   "cell_type": "code",
   "execution_count": 11,
   "id": "db0a84ec-664f-4cba-9d35-41577fa862be",
   "metadata": {},
   "outputs": [
    {
     "data": {
      "text/plain": [
       "177.01875"
      ]
     },
     "execution_count": 11,
     "metadata": {},
     "output_type": "execute_result"
    }
   ],
   "source": [
    "np.mean(list)"
   ]
  },
  {
   "cell_type": "code",
   "execution_count": 12,
   "id": "04ef0a5b-b739-4849-8a63-2b86cb1804c3",
   "metadata": {},
   "outputs": [
    {
     "data": {
      "text/plain": [
       "177.0"
      ]
     },
     "execution_count": 12,
     "metadata": {},
     "output_type": "execute_result"
    }
   ],
   "source": [
    "np.median(list)"
   ]
  },
  {
   "cell_type": "code",
   "execution_count": 14,
   "id": "b105e571-64c9-4688-ad59-193f98d5c618",
   "metadata": {},
   "outputs": [
    {
     "name": "stdout",
     "output_type": "stream",
     "text": [
      "Mode: 177.0\n"
     ]
    },
    {
     "name": "stderr",
     "output_type": "stream",
     "text": [
      "/tmp/ipykernel_77/562292226.py:2: FutureWarning: Unlike other reduction functions (e.g. `skew`, `kurtosis`), the default behavior of `mode` typically preserves the axis it acts along. In SciPy 1.11.0, this behavior will change: the default value of `keepdims` will become False, the `axis` over which the statistic is taken will be eliminated, and the value None will no longer be accepted. Set `keepdims` to True or False to avoid this warning.\n",
      "  mode = stats.mode(list)\n"
     ]
    }
   ],
   "source": [
    "from scipy import stats\n",
    "mode = stats.mode(list)\n",
    "print(\"Mode:\", mode.mode[0])"
   ]
  },
  {
   "cell_type": "code",
   "execution_count": 15,
   "id": "10627290-1bae-45a7-8f80-e0daaa154bd2",
   "metadata": {},
   "outputs": [
    {
     "name": "stdout",
     "output_type": "stream",
     "text": [
      "Q4. Find the standard deviation for the given data: [178,177,176,177,178.2,178,175,179,180,175,178.9,176.2,177,172.5,178,176.5]\n"
     ]
    }
   ],
   "source": [
    "print(\"Q4. Find the standard deviation for the given data: [178,177,176,177,178.2,178,175,179,180,175,178.9,176.2,177,172.5,178,176.5]\")"
   ]
  },
  {
   "cell_type": "code",
   "execution_count": 16,
   "id": "0125d1f4-ab10-40ae-9b59-8b8daa35278d",
   "metadata": {},
   "outputs": [
    {
     "data": {
      "text/plain": [
       "1.7885814036548633"
      ]
     },
     "execution_count": 16,
     "metadata": {},
     "output_type": "execute_result"
    }
   ],
   "source": [
    "nums = [178,177,176,177,178.2,178,175,179,180,175,178.9,176.2,177,172.5,178,176.5]\n",
    "np.std(nums)"
   ]
  },
  {
   "cell_type": "code",
   "execution_count": 19,
   "id": "cbc2846c-ba54-475f-ad9d-d2844de20a5c",
   "metadata": {},
   "outputs": [
    {
     "name": "stdout",
     "output_type": "stream",
     "text": [
      "Q5. How are measures of dispersion such as range, variance, and standard deviation used to describe the spread of a dataset? Provide an example.\n",
      "\n",
      "Ans.Measures of dispersion, including range, variance, and standard deviation, describe how spread out the values in a dataset are from the central tendency measures like mean, median, or mode.\n",
      "\n",
      "- Range: It's the simplest measure, representing the difference between the highest and lowest values in a dataset. It gives a rough idea of how widely the values vary.\n",
      "- Variance: It measures the average squared deviation of each value from the mean of the dataset. It provides a more precise understanding of how much individual values deviate from the mean.\n",
      "- Standard Deviation: It's the square root of the variance and is often used because it's in the same units as the original data. It indicates the average deviation of values from the mean. A larger standard deviation implies greater variability.\n",
      "Example:\n"
     ]
    }
   ],
   "source": [
    "print(\"Q5. How are measures of dispersion such as range, variance, and standard deviation used to describe the spread of a dataset? Provide an example.\\n\\nAns.Measures of dispersion, including range, variance, and standard deviation, describe how spread out the values in a dataset are from the central tendency measures like mean, median, or mode.\\n\\n- Range: It's the simplest measure, representing the difference between the highest and lowest values in a dataset. It gives a rough idea of how widely the values vary.\\n- Variance: It measures the average squared deviation of each value from the mean of the dataset. It provides a more precise understanding of how much individual values deviate from the mean.\\n- Standard Deviation: It's the square root of the variance and is often used because it's in the same units as the original data. It indicates the average deviation of values from the mean. A larger standard deviation implies greater variability.\\nExample:\")"
   ]
  },
  {
   "cell_type": "code",
   "execution_count": 18,
   "id": "c4f0dcfb-d234-417b-a09a-3c3f68f126c1",
   "metadata": {},
   "outputs": [],
   "source": [
    "num = [70, 75, 80, 85, 90]"
   ]
  },
  {
   "cell_type": "code",
   "execution_count": 20,
   "id": "43c0a35c-d72e-46d4-a202-ab1877ee1839",
   "metadata": {},
   "outputs": [
    {
     "data": {
      "text/plain": [
       "50.0"
      ]
     },
     "execution_count": 20,
     "metadata": {},
     "output_type": "execute_result"
    }
   ],
   "source": [
    "np.var(num)"
   ]
  },
  {
   "cell_type": "code",
   "execution_count": 21,
   "id": "c3b135f2-c8e7-4813-ad29-5395c83077f2",
   "metadata": {},
   "outputs": [
    {
     "data": {
      "text/plain": [
       "20"
      ]
     },
     "execution_count": 21,
     "metadata": {},
     "output_type": "execute_result"
    }
   ],
   "source": [
    "#range peak to peak value\n",
    "np.ptp(num)"
   ]
  },
  {
   "cell_type": "code",
   "execution_count": 22,
   "id": "d9cc2375-6df9-46a5-acd5-1e40c7c9fdd0",
   "metadata": {},
   "outputs": [
    {
     "data": {
      "text/plain": [
       "7.0710678118654755"
      ]
     },
     "execution_count": 22,
     "metadata": {},
     "output_type": "execute_result"
    }
   ],
   "source": [
    "np.std(num)"
   ]
  },
  {
   "cell_type": "code",
   "execution_count": 23,
   "id": "e4c590be-21c2-49f6-9491-5e5bab4feff9",
   "metadata": {},
   "outputs": [
    {
     "name": "stdout",
     "output_type": "stream",
     "text": [
      "Q6. What is a Venn diagram?\n",
      "\n",
      "Ans.A Venn diagram is a visual representation of the relationships between different sets of data. It consists of overlapping circles or other shapes, each representing a set. The overlapping regions represent the intersections or common elements between the sets. Venn diagrams are commonly used to illustrate logical relationships and similarities/differences between different groups or categories of data. They provide a clear and intuitive way to visualize complex relationships and are widely used in various fields such as mathematics, logic, statistics, and data analysis.\n"
     ]
    }
   ],
   "source": [
    "print(\"Q6. What is a Venn diagram?\\n\\nAns.A Venn diagram is a visual representation of the relationships between different sets of data. It consists of overlapping circles or other shapes, each representing a set. The overlapping regions represent the intersections or common elements between the sets. Venn diagrams are commonly used to illustrate logical relationships and similarities/differences between different groups or categories of data. They provide a clear and intuitive way to visualize complex relationships and are widely used in various fields such as mathematics, logic, statistics, and data analysis.\")"
   ]
  },
  {
   "cell_type": "code",
   "execution_count": 27,
   "id": "815540ff-ac75-4202-a30e-3f64c7aa7e9d",
   "metadata": {},
   "outputs": [
    {
     "name": "stdout",
     "output_type": "stream",
     "text": [
      "Q7. For the two given sets A = (2,3,4,5,6,7) & B = (0,2,6,8,10). Find:\n",
      "(i) A intersection B\n",
      "(ii) A ⋃ B\n",
      "\n",
      "Ans.i {2,6}\n",
      "    ii {0,2,3,4,5,6,7,8,10}\n"
     ]
    }
   ],
   "source": [
    "print(\"Q7. For the two given sets A = (2,3,4,5,6,7) & B = (0,2,6,8,10). Find:\\n(i) A intersection B\\n(ii) A ⋃ B\\n\\nAns.i {2,6}\\n    ii {0,2,3,4,5,6,7,8,10}\")"
   ]
  },
  {
   "cell_type": "code",
   "execution_count": 28,
   "id": "f796075f-4577-4239-9834-955239c9928b",
   "metadata": {},
   "outputs": [
    {
     "name": "stdout",
     "output_type": "stream",
     "text": [
      "Q8.What do you understand by skewness in data.\n",
      "\n",
      "Ans.Skewness in data refers to its asymmetry. A positive skew means the data is stretched towards higher values, while a negative skew indicates stretching towards lower values. It helps understand the shape of a dataset and whether it's symmetrical or skewed.\n"
     ]
    }
   ],
   "source": [
    "print(\"Q8.What do you understand by skewness in data.\\n\\nAns.Skewness in data refers to its asymmetry. A positive skew means the data is stretched towards higher values, while a negative skew indicates stretching towards lower values. It helps understand the shape of a dataset and whether it's symmetrical or skewed.\")"
   ]
  },
  {
   "cell_type": "code",
   "execution_count": 1,
   "id": "08b6cdec-9474-453d-b4ae-e42cf636a95d",
   "metadata": {},
   "outputs": [
    {
     "name": "stdout",
     "output_type": "stream",
     "text": [
      "Q9. If a data is right skewed then what will be the position of median with respect to mean?\n",
      "\n",
      "Ans.Covariance measures how two variables change together, while correlation measures the strength and direction of their linear relationship. Covariance is not standardized and its magnitude is hard to interpret, whereas correlation ranges from -1 to 1, making it easier to understand. Both are used in statistical analysis to assess relationships between variables, but correlation provides a more standardized measure suitable for comparison across different datasets.\n"
     ]
    }
   ],
   "source": [
    "print(\"Q9. If a data is right skewed then what will be the position of median with respect to mean?\\n\\nAns.Covariance measures how two variables change together, while correlation measures the strength and direction of their linear relationship. Covariance is not standardized and its magnitude is hard to interpret, whereas correlation ranges from -1 to 1, making it easier to understand. Both are used in statistical analysis to assess relationships between variables, but correlation provides a more standardized measure suitable for comparison across different datasets.\")"
   ]
  },
  {
   "cell_type": "code",
   "execution_count": 6,
   "id": "623df652-e0e7-4f28-8243-9abfd83b0831",
   "metadata": {},
   "outputs": [
    {
     "name": "stdout",
     "output_type": "stream",
     "text": [
      "Q11. What is the formula for calculating the sample mean? Provide an example calculation for a dataset.\n",
      "\n",
      "Ans\n"
     ]
    }
   ],
   "source": [
    "print(\"Q11. What is the formula for calculating the sample mean? Provide an example calculation for a dataset.\\n\\nAns\")"
   ]
  },
  {
   "cell_type": "code",
   "execution_count": 7,
   "id": "93e8c686-6301-44f0-b16c-7f1d80aaa4c4",
   "metadata": {},
   "outputs": [
    {
     "data": {
      "text/plain": [
       "4.2"
      ]
     },
     "execution_count": 7,
     "metadata": {},
     "output_type": "execute_result"
    }
   ],
   "source": [
    "data = [1,2,4,6,8]\n",
    "#sample mean\n",
    "sum(data)/len(data)"
   ]
  },
  {
   "cell_type": "code",
   "execution_count": 8,
   "id": "46e0881d-d8ba-4679-bfdf-a59e77789ade",
   "metadata": {},
   "outputs": [
    {
     "data": {
      "text/plain": [
       "4.2"
      ]
     },
     "execution_count": 8,
     "metadata": {},
     "output_type": "execute_result"
    }
   ],
   "source": [
    "#or using numpy\n",
    "np.mean(data)"
   ]
  },
  {
   "cell_type": "code",
   "execution_count": 9,
   "id": "69b3ede0-fce4-4c9f-987d-2681fe912155",
   "metadata": {},
   "outputs": [
    {
     "name": "stdout",
     "output_type": "stream",
     "text": [
      "Q12. For a normal distribution data what is the relationship between its measure of central tendency?\n",
      "\n",
      "Ans.For a normal distribution:\n",
      "- The mean, median, and mode are all equal.\n",
      "- They are located at the center of the distribution, making them symmetrical around this central point.\n",
      "- This symmetry implies that the distribution has no skewness.\n",
      "In summary, for a normal distribution, the mean, median, and mode are all located at the center of the distribution and are equal, reflecting the symmetrical nature of the distribution.\n"
     ]
    }
   ],
   "source": [
    "print(\"Q12. For a normal distribution data what is the relationship between its measure of central tendency?\\n\\nAns.For a normal distribution:\\n- The mean, median, and mode are all equal.\\n- They are located at the center of the distribution, making them symmetrical around this central point.\\n- This symmetry implies that the distribution has no skewness.\\nIn summary, for a normal distribution, the mean, median, and mode are all located at the center of the distribution and are equal, reflecting the symmetrical nature of the distribution.\")"
   ]
  },
  {
   "cell_type": "code",
   "execution_count": 10,
   "id": "50fe9fb6-73f5-4a8c-8b50-c0dee4ea7230",
   "metadata": {},
   "outputs": [
    {
     "name": "stdout",
     "output_type": "stream",
     "text": [
      "Q13. How is covariance different from correlation?\n",
      "\n",
      "Ans.Covariance measures the extent to which two variables change together, while correlation measures the strength and direction of their linear relationship. Covariance is not standardized and its magnitude is hard to interpret, whereas correlation ranges from -1 to 1, making it easier to understand. Both are used in statistical analysis to assess relationships between variables, but correlation provides a more standardized measure suitable for comparison across different datasets.\n"
     ]
    }
   ],
   "source": [
    "print(\"Q13. How is covariance different from correlation?\\n\\nAns.Covariance measures the extent to which two variables change together, while correlation measures the strength and direction of their linear relationship. Covariance is not standardized and its magnitude is hard to interpret, whereas correlation ranges from -1 to 1, making it easier to understand. Both are used in statistical analysis to assess relationships between variables, but correlation provides a more standardized measure suitable for comparison across different datasets.\")"
   ]
  },
  {
   "cell_type": "code",
   "execution_count": 15,
   "id": "05ab4f54-0297-48b2-b781-aa3d38b94d1f",
   "metadata": {},
   "outputs": [
    {
     "name": "stdout",
     "output_type": "stream",
     "text": [
      "Q14. How do outliers affect measures of central tendency and dispersion? Provide an example.\n",
      "\n",
      "Ans.Outliers can significantly impact measures of central tendency and dispersion:1. Central Tendency: - Outliers can skew the mean towards their direction, pulling it away from the bulk of the data.- The median is less affected by outliers since it is less influenced by extreme values.- The mode may not be affected at all by outliers, depending on their frequency and distribution.2. Dispersion:- Outliers can inflate measures of dispersion like the range, variance, and standard deviation.- The range, for instance, can be greatly affected by outliers, as they can pull the maximum or minimum values far from the rest of the data.- Variance and standard deviation are both sensitive to outliers because they are based on deviations from the mean.Example given below with a list containing outliers\n"
     ]
    }
   ],
   "source": [
    "print(\"Q14. How do outliers affect measures of central tendency and dispersion? Provide an example.\\n\\nAns.Outliers can significantly impact measures of central tendency and dispersion:\"\n",
    "\n",
    "\"1. Central Tendency:\"\n",
    "  \" - Outliers can skew the mean towards their direction, pulling it away from the bulk of the data.\"\n",
    "   \"- The median is less affected by outliers since it is less influenced by extreme values.\"\n",
    "   \"- The mode may not be affected at all by outliers, depending on their frequency and distribution.\"\n",
    "\n",
    "\"2. Dispersion:\"\n",
    "   \"- Outliers can inflate measures of dispersion like the range, variance, and standard deviation.\"\n",
    "   \"- The range, for instance, can be greatly affected by outliers, as they can pull the maximum or minimum values far from the rest of the data.\"\n",
    "   \"- Variance and standard deviation are both sensitive to outliers because they are based on deviations from the mean.\"\n",
    "     \"Example given below with a list containing outliers\")\n"
   ]
  },
  {
   "cell_type": "code",
   "execution_count": null,
   "id": "f10cdc02-9e0c-45a8-9d20-f52b8d5a67b6",
   "metadata": {},
   "outputs": [],
   "source": [
    "data=[30,0, 35,0, 40, 0, 45,0, 50,0, 55,0, 60,0, 65,0, 70,0, 200,0]"
   ]
  },
  {
   "cell_type": "code",
   "execution_count": null,
   "id": "d3772c1f-872c-4468-b671-fa5da6e12fda",
   "metadata": {},
   "outputs": [],
   "source": [
    "np.mean(data)"
   ]
  },
  {
   "cell_type": "code",
   "execution_count": 18,
   "id": "e6a24da2-865c-45c9-8b8c-3050f14e41da",
   "metadata": {},
   "outputs": [
    {
     "data": {
      "text/plain": [
       "15.0"
      ]
     },
     "execution_count": 18,
     "metadata": {},
     "output_type": "execute_result"
    }
   ],
   "source": [
    "np.median(data)"
   ]
  },
  {
   "cell_type": "code",
   "execution_count": 19,
   "id": "af46638b-30ca-469d-8ee3-92c0af9a0c9b",
   "metadata": {},
   "outputs": [
    {
     "data": {
      "text/plain": [
       "200"
      ]
     },
     "execution_count": 19,
     "metadata": {},
     "output_type": "execute_result"
    }
   ],
   "source": [
    "np.ptp(data)"
   ]
  },
  {
   "cell_type": "code",
   "execution_count": null,
   "id": "c8f785df-bf14-46bb-9b0c-b44d6b2e0f77",
   "metadata": {},
   "outputs": [],
   "source": [
    "np.var(data)"
   ]
  }
 ],
 "metadata": {
  "kernelspec": {
   "display_name": "Python 3 (ipykernel)",
   "language": "python",
   "name": "python3"
  },
  "language_info": {
   "codemirror_mode": {
    "name": "ipython",
    "version": 3
   },
   "file_extension": ".py",
   "mimetype": "text/x-python",
   "name": "python",
   "nbconvert_exporter": "python",
   "pygments_lexer": "ipython3",
   "version": "3.10.8"
  }
 },
 "nbformat": 4,
 "nbformat_minor": 5
}

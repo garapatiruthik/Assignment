{
 "cells": [
  {
   "cell_type": "code",
   "execution_count": 1,
   "id": "103408b2-6114-4466-815e-28ae6a80d387",
   "metadata": {},
   "outputs": [
    {
     "name": "stdout",
     "output_type": "stream",
     "text": [
      "Q1. What is multiprocessing in python? Why is it useful?\n",
      "\n",
      "Ans.key points about multiprocessing in Python:\n",
      "\n",
      "1. Parallelism: Multiprocessing allows Python programs to run multiple processes concurrently, enabling parallel execution of tasks across multiple CPU cores.\n",
      "2. Resource Isolation: Each process in multiprocessing has its own memory space, ensuring that processes do not interfere with each other's data and resources. This enhances reliability and robustness.\n",
      "3. Scalability: Multiprocessing enables scalable solutions by distributing workloads across multiple processes, utilizing available hardware resources efficiently, and allowing applications to handle larger volumes of work.\n"
     ]
    }
   ],
   "source": [
    "print(\"Q1. What is multiprocessing in python? Why is it useful?\\n\\nAns.key points about multiprocessing in Python:\\n\\n1. Parallelism: Multiprocessing allows Python programs to run multiple processes concurrently, enabling parallel execution of tasks across multiple CPU cores.\\n2. Resource Isolation: Each process in multiprocessing has its own memory space, ensuring that processes do not interfere with each other's data and resources. This enhances reliability and robustness.\\n3. Scalability: Multiprocessing enables scalable solutions by distributing workloads across multiple processes, utilizing available hardware resources efficiently, and allowing applications to handle larger volumes of work.\")"
   ]
  },
  {
   "cell_type": "code",
   "execution_count": 2,
   "id": "c3d0fc12-5bac-403e-8397-006cd4168666",
   "metadata": {},
   "outputs": [
    {
     "name": "stdout",
     "output_type": "stream",
     "text": [
      "Q2.Differences between multiprocessing and multithreading in Python?\n",
      "Ans.Differences between multiprocessing and multithreading in Python:\n",
      "1. Execution Model:\n",
      "   - Multiprocessing involves running multiple processes simultaneously, each with its own memory space and resources.\n",
      "   - Multithreading involves running multiple threads within the same process, sharing the same memory space but executing concurrently.\n",
      "\n",
      "2. Parallelism vs Concurrency:\n",
      "   - Multiprocessing enables true parallelism by utilizing multiple CPU cores, allowing tasks to run simultaneously.\n",
      "   - Multithreading achieves concurrency by interleaving the execution of multiple threads within the same process, but only one thread executes at a time due to Python's Global Interpreter Lock (GIL).\n",
      "\n",
      "3. Resource Isolation:\n",
      "   - Multiprocessing provides strong isolation between processes, ensuring that each process has its own memory space and resources.\n",
      "   - Multithreading shares the same memory space within a process, which can lead to potential data corruption and race conditions if not properly synchronized.\n",
      "\n",
      "4. Communication and Synchronization:\n",
      "   - Multiprocessing uses inter-process communication (IPC) mechanisms such as pipes, queues, and shared memory for communication between processes.\n",
      "   - Multithreading uses thread synchronization mechanisms such as locks, semaphores, and condition variables for coordinating access to shared resources.\n"
     ]
    }
   ],
   "source": [
    "print(\"Q2.Differences between multiprocessing and multithreading in Python?\")\n",
    "print(\"Ans.Differences between multiprocessing and multithreading in Python:\\n\"\n",
    "      \"1. Execution Model:\\n\"\n",
    "      \"   - Multiprocessing involves running multiple processes simultaneously, each with its own memory space and resources.\\n\"\n",
    "      \"   - Multithreading involves running multiple threads within the same process, sharing the same memory space but executing concurrently.\\n\\n\"\n",
    "      \n",
    "      \"2. Parallelism vs Concurrency:\\n\"\n",
    "      \"   - Multiprocessing enables true parallelism by utilizing multiple CPU cores, allowing tasks to run simultaneously.\\n\"\n",
    "      \"   - Multithreading achieves concurrency by interleaving the execution of multiple threads within the same process, but only one thread executes at a time due to Python's Global Interpreter Lock (GIL).\\n\\n\"\n",
    "      \n",
    "      \"3. Resource Isolation:\\n\"\n",
    "      \"   - Multiprocessing provides strong isolation between processes, ensuring that each process has its own memory space and resources.\\n\"\n",
    "      \"   - Multithreading shares the same memory space within a process, which can lead to potential data corruption and race conditions if not properly synchronized.\\n\\n\"\n",
    "      \n",
    "      \"4. Communication and Synchronization:\\n\"\n",
    "      \"   - Multiprocessing uses inter-process communication (IPC) mechanisms such as pipes, queues, and shared memory for communication between processes.\\n\"\n",
    "      \"   - Multithreading uses thread synchronization mechanisms such as locks, semaphores, and condition variables for coordinating access to shared resources.\")\n"
   ]
  },
  {
   "cell_type": "code",
   "execution_count": 3,
   "id": "9a8b52b9-0524-4263-aa71-b032b73eb964",
   "metadata": {},
   "outputs": [
    {
     "name": "stdout",
     "output_type": "stream",
     "text": [
      "Q3. Write a python code to create a process using the multiprocessing module.\n",
      "\n",
      "Ans.\n"
     ]
    }
   ],
   "source": [
    "print(\"Q3. Write a python code to create a process using the multiprocessing module.\"\n",
    "     \"\\n\\nAns.\"\n",
    "     \n",
    "     )"
   ]
  },
  {
   "cell_type": "code",
   "execution_count": null,
   "id": "dc2c0983-e0a1-4512-8e3d-1cd3f88718d5",
   "metadata": {},
   "outputs": [],
   "source": [
    "import multiprocessing"
   ]
  },
  {
   "cell_type": "code",
   "execution_count": 1,
   "id": "dd81177d-d0c2-4096-b7f0-2d967de2f90e",
   "metadata": {},
   "outputs": [
    {
     "ename": "NameError",
     "evalue": "name 'multiprocessing' is not defined",
     "output_type": "error",
     "traceback": [
      "\u001b[0;31m---------------------------------------------------------------------------\u001b[0m",
      "\u001b[0;31mNameError\u001b[0m                                 Traceback (most recent call last)",
      "Cell \u001b[0;32mIn[1], line 5\u001b[0m\n\u001b[1;32m      2\u001b[0m     \u001b[38;5;28mprint\u001b[39m(\u001b[38;5;124m\"\u001b[39m\u001b[38;5;124mfunction process is executing\u001b[39m\u001b[38;5;124m\"\u001b[39m)\n\u001b[1;32m      4\u001b[0m \u001b[38;5;28;01mif\u001b[39;00m \u001b[38;5;18m__name__\u001b[39m \u001b[38;5;241m==\u001b[39m \u001b[38;5;124m\"\u001b[39m\u001b[38;5;124m__main__\u001b[39m\u001b[38;5;124m\"\u001b[39m:\n\u001b[0;32m----> 5\u001b[0m         process \u001b[38;5;241m=\u001b[39m \u001b[43mmultiprocessing\u001b[49m\u001b[38;5;241m.\u001b[39mProcess(target \u001b[38;5;241m=\u001b[39m functioning)\n\u001b[1;32m      6\u001b[0m         process\u001b[38;5;241m.\u001b[39mstart()\n\u001b[1;32m      7\u001b[0m         process\u001b[38;5;241m.\u001b[39mjoin()\n",
      "\u001b[0;31mNameError\u001b[0m: name 'multiprocessing' is not defined"
     ]
    }
   ],
   "source": [
    "def functioning():\n",
    "    print(\"function process is executing\")\n",
    "\n",
    "if __name__ == \"__main__\":\n",
    "        process = multiprocessing.Process(target = functioning)\n",
    "        process.start()\n",
    "        process.join()\n",
    "        print(\"main finished\")\n",
    "        \n"
   ]
  },
  {
   "cell_type": "code",
   "execution_count": 2,
   "id": "8e45bc51-e1b2-4ee9-afef-dfb747fe76df",
   "metadata": {},
   "outputs": [
    {
     "name": "stdout",
     "output_type": "stream",
     "text": [
      "Q4. What is a multiprocessing pool in python? Why is it used?\n",
      "\n",
      "Ans.\n",
      "Multiprocessing Pool in Python:\n",
      "- Definition: A multiprocessing pool in Python is a construct provided by the `multiprocessing` module that manages a group of worker processes.\n",
      "- Functionality: It allows parallel execution of a function with different input values by distributing tasks among multiple processes.\n",
      "- Usage: The pool handles the creation, management, and termination of worker processes, simplifying parallelization without manual process management.\n",
      "- Purpose: It maximizes CPU utilization by utilizing multiple CPU cores, improving performance for CPU-bound tasks.\n",
      "\n",
      "It is Used because of the following:\n",
      "- Parallel Execution: It enables concurrent execution of a function with various input values, distributing tasks across multiple processes.\n",
      "- Utilizes Multiple Cores: It maximizes CPU utilization by utilizing multiple CPU cores, improving performance for CPU-bound tasks.\n",
      "- Efficient Resource Management: It handles the creation, management, and termination of worker processes, simplifying parallelization without manual process management.\n"
     ]
    }
   ],
   "source": [
    "print(\"Q4. What is a multiprocessing pool in python? Why is it used?\\n\\nAns.\")\n",
    "print(\"Multiprocessing Pool in Python:\\n\"\n",
    "      \"- Definition: A multiprocessing pool in Python is a construct provided by the `multiprocessing` module that manages a group of worker processes.\\n\"\n",
    "      \"- Functionality: It allows parallel execution of a function with different input values by distributing tasks among multiple processes.\\n\"\n",
    "      \"- Usage: The pool handles the creation, management, and termination of worker processes, simplifying parallelization without manual process management.\\n\"\n",
    "      \"- Purpose: It maximizes CPU utilization by utilizing multiple CPU cores, improving performance for CPU-bound tasks.\\n\\n\"\n",
    "      \n",
    "      \"It is Used because of the following:\\n\"\n",
    "      \"- Parallel Execution: It enables concurrent execution of a function with various input values, distributing tasks across multiple processes.\\n\"\n",
    "      \"- Utilizes Multiple Cores: It maximizes CPU utilization by utilizing multiple CPU cores, improving performance for CPU-bound tasks.\\n\"\n",
    "      \"- Efficient Resource Management: It handles the creation, management, and termination of worker processes, simplifying parallelization without manual process management.\")\n"
   ]
  },
  {
   "cell_type": "code",
   "execution_count": 3,
   "id": "1bc4ab4d-2b86-4d7c-a8d6-1620873b907c",
   "metadata": {},
   "outputs": [
    {
     "ename": "NameError",
     "evalue": "name 'multiprocessing' is not defined",
     "output_type": "error",
     "traceback": [
      "\u001b[0;31m---------------------------------------------------------------------------\u001b[0m",
      "\u001b[0;31mNameError\u001b[0m                                 Traceback (most recent call last)",
      "Cell \u001b[0;32mIn[3], line 5\u001b[0m\n\u001b[1;32m      2\u001b[0m     \u001b[38;5;28;01mreturn\u001b[39;00m n\u001b[38;5;241m/\u001b[39m\u001b[38;5;241m2\u001b[39m\n\u001b[1;32m      4\u001b[0m \u001b[38;5;28;01mif\u001b[39;00m \u001b[38;5;18m__name__\u001b[39m \u001b[38;5;241m==\u001b[39m \u001b[38;5;124m'\u001b[39m\u001b[38;5;124m__main__\u001b[39m\u001b[38;5;124m'\u001b[39m:\n\u001b[0;32m----> 5\u001b[0m     \u001b[38;5;28;01mwith\u001b[39;00m \u001b[43mmultiprocessing\u001b[49m\u001b[38;5;241m.\u001b[39mPool(processes \u001b[38;5;241m=\u001b[39m \u001b[38;5;241m3\u001b[39m) \u001b[38;5;28;01mas\u001b[39;00m pool:\n\u001b[1;32m      6\u001b[0m         result \u001b[38;5;241m=\u001b[39m pool\u001b[38;5;241m.\u001b[39mmap(half,[\u001b[38;5;241m2\u001b[39m,\u001b[38;5;241m4\u001b[39m,\u001b[38;5;241m5\u001b[39m,\u001b[38;5;241m7\u001b[39m,\u001b[38;5;241m8\u001b[39m,\u001b[38;5;241m9\u001b[39m,\u001b[38;5;241m10\u001b[39m])\n\u001b[1;32m      7\u001b[0m         \u001b[38;5;28mprint\u001b[39m(result)\n",
      "\u001b[0;31mNameError\u001b[0m: name 'multiprocessing' is not defined"
     ]
    }
   ],
   "source": [
    "def half(n):\n",
    "    return n/2\n",
    "\n",
    "if __name__ == '__main__':\n",
    "    with multiprocessing.Pool(processes = 3) as pool:\n",
    "        result = pool.map(half,[2,4,5,7,8,9,10])\n",
    "        print(result)"
   ]
  },
  {
   "cell_type": "code",
   "execution_count": null,
   "id": "828eae28-aa23-48eb-a85e-8c72479a5390",
   "metadata": {},
   "outputs": [],
   "source": [
    "print(\"Q6. Write a python program to create 4 processes, each process should print a different number using the multiprocessing module in python.\\n\\nAns.\")"
   ]
  },
  {
   "cell_type": "code",
   "execution_count": null,
   "id": "821576d1-6411-4ca5-ac72-e9d6f5af2080",
   "metadata": {},
   "outputs": [],
   "source": [
    "import multiprocessing\n",
    "\n",
    "def print_number(number):\n",
    "    print(\"Process\", number, \"printing:\", number)\n",
    "\n",
    "if __name__ == \"__main__\":\n",
    "    processes = []\n",
    "\n",
    "    for i in range(4):\n",
    "        p = multiprocessing.Process(target=print_number, args=(i+1,))\n",
    "        processes.append(p)\n",
    "        p.start()\n",
    "\n",
    "    for p in processes:\n",
    "        p.join()\n"
   ]
  }
 ],
 "metadata": {
  "kernelspec": {
   "display_name": "Python 3 (ipykernel)",
   "language": "python",
   "name": "python3"
  },
  "language_info": {
   "codemirror_mode": {
    "name": "ipython",
    "version": 3
   },
   "file_extension": ".py",
   "mimetype": "text/x-python",
   "name": "python",
   "nbconvert_exporter": "python",
   "pygments_lexer": "ipython3",
   "version": "3.10.8"
  }
 },
 "nbformat": 4,
 "nbformat_minor": 5
}

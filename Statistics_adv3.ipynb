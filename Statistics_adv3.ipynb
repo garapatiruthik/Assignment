{
 "cells": [
  {
   "cell_type": "code",
   "execution_count": 5,
   "id": "4f91fa44-e3c3-493f-b709-f9da0cc257f9",
   "metadata": {},
   "outputs": [
    {
     "name": "stdout",
     "output_type": "stream",
     "text": [
      "Q1: What is Estimation Statistics? Explain point estimate and interval estimate.\n",
      "\n",
      "Ans.Estimation statistics involves using sample data to estimate population parameters. There are two main types of estimates:\n",
      "\n",
      "1. Point Estimate: A single value derived from the sample that serves as a best guess for a population parameter. For example, the sample mean (x-bar) is a point estimate of the population mean (mew).\n",
      "\n",
      "2. Interval Estimate: A range of values, derived from the sample, that is likely to contain the population parameter. It is usually expressed as a confidence interval, which provides an upper and lower bound around the point estimate. For example, a 95% confidence interval for a mean might range from 10 to 20, suggesting that there is a 95% chance the true population mean falls within this interval.\n"
     ]
    }
   ],
   "source": [
    "print(\"Q1: What is Estimation Statistics? Explain point estimate and interval estimate.\\n\\nAns.Estimation statistics involves using sample data to estimate population parameters. There are two main types of estimates:\\n\\n1. Point Estimate: A single value derived from the sample that serves as a best guess for a population parameter. For example, the sample mean (x-bar) is a point estimate of the population mean (mew).\\n\\n2. Interval Estimate: A range of values, derived from the sample, that is likely to contain the population parameter. It is usually expressed as a confidence interval, which provides an upper and lower bound around the point estimate. For example, a 95% confidence interval for a mean might range from 10 to 20, suggesting that there is a 95% chance the true population mean falls within this interval.\")"
   ]
  },
  {
   "cell_type": "code",
   "execution_count": 6,
   "id": "368c9231-ac18-41a6-bb35-1834182ba09e",
   "metadata": {},
   "outputs": [
    {
     "name": "stdout",
     "output_type": "stream",
     "text": [
      "Q2. Write a Python function to estimate the population mean using a sample mean and standard deviation.\n",
      "\n",
      "Ans.\n"
     ]
    }
   ],
   "source": [
    "print(\"Q2. Write a Python function to estimate the population mean using a sample mean and standard deviation.\\n\\nAns.\")"
   ]
  },
  {
   "cell_type": "code",
   "execution_count": 7,
   "id": "d419e41a-dda7-4eed-9462-02779d64646b",
   "metadata": {},
   "outputs": [
    {
     "name": "stdout",
     "output_type": "stream",
     "text": [
      "Estimated Population Mean: 50\n",
      "Confidence Interval: (46.265938632419, 53.734061367581)\n"
     ]
    }
   ],
   "source": [
    "import scipy.stats as stats\n",
    "import math\n",
    "\n",
    "def simple_estimate_population_mean(sample_mean, sample_std_dev, sample_size, confidence_level=0.95):\n",
    " \n",
    "    #Calculate the standard error of the mean\n",
    "    standard_error = sample_std_dev / math.sqrt(sample_size)\n",
    "    \n",
    "    #Find the critical value from the t-distribution\n",
    "    t_critical = stats.t.ppf(1 - (1 - confidence_level) / 2, df=sample_size - 1)\n",
    "    \n",
    "    #margin of error\n",
    "    margin_of_error = t_critical * standard_error\n",
    "    \n",
    "    #confidence interval bounds\n",
    "    lower_bound = sample_mean - margin_of_error\n",
    "    upper_bound = sample_mean + margin_of_error\n",
    "    \n",
    "    return sample_mean, lower_bound, upper_bound\n",
    "\n",
    "# Example\n",
    "sample_mean = 50\n",
    "sample_std_dev = 10\n",
    "sample_size = 30\n",
    "\n",
    "mean_estimate, lower_bound, upper_bound = simple_estimate_population_mean(sample_mean, sample_std_dev, sample_size)\n",
    "print(f\"Estimated Population Mean: {mean_estimate}\")\n",
    "print(f\"Confidence Interval: ({lower_bound}, {upper_bound})\")\n"
   ]
  },
  {
   "cell_type": "code",
   "execution_count": 8,
   "id": "3ecc21cc-ec2c-4d34-a098-ce587011da42",
   "metadata": {},
   "outputs": [
    {
     "name": "stdout",
     "output_type": "stream",
     "text": [
      "Q3: What is Hypothesis testing? Why is it used? State the importance of Hypothesis testing.\n",
      "\n",
      "Ans.Hypothesis testing is a statistical method used to make inferences or draw conclusions about a population based on sample data. It involves formulating two competing hypotheses: the null hypothesis (\\(H_0\\)) and the alternative hypothesis (\\(H_1\\)), then using statistical tests to determine which hypothesis is supported by the data.\n",
      "\n",
      "Importance of hypothesis testing\n",
      "\n",
      "1.Obejective analysis\n",
      "2.Reduced bias\n",
      "3.confidence in results\n",
      "\n",
      "Uses of hypothesis\n",
      "\n",
      "1.medical trails\n",
      "scientific research\n",
      "3.decision making\n"
     ]
    }
   ],
   "source": [
    "print(\"Q3: What is Hypothesis testing? Why is it used? State the importance of Hypothesis testing.\\n\\nAns.Hypothesis testing is a statistical method used to make inferences or draw conclusions about a population based on sample data. It involves formulating two competing hypotheses: the null hypothesis (\\(H_0\\)) and the alternative hypothesis (\\(H_1\\)), then using statistical tests to determine which hypothesis is supported by the data.\\n\\nImportance of hypothesis testing\\n\\n1.Obejective analysis\\n2.Reduced bias\\n3.confidence in results\\n\\nUses of hypothesis\\n\\n1.medical trails\\nscientific research\\n3.decision making\")"
   ]
  },
  {
   "cell_type": "code",
   "execution_count": 2,
   "id": "bfd4518d-305e-441b-9a13-adb71ab7c92f",
   "metadata": {},
   "outputs": [
    {
     "name": "stdout",
     "output_type": "stream",
     "text": [
      "Q4. Create a hypothesis that states whether the average weight of male college students is greater than the average weight of female college students.\n",
      "\n",
      "Ans. Hypothesis\n",
      "\n",
      "- Null Hypothesis (H0): The average weight of male college students is equal to or less than the average weight of female college students. u_male <= u_female\n",
      "\n",
      "- Alternative Hypothesis (H1): The average weight of male college students is greater than the average weight of female college students. u_male > u_female\n"
     ]
    }
   ],
   "source": [
    "print(\"Q4. Create a hypothesis that states whether the average weight of male college students is greater than the average weight of female college students.\\n\\nAns. Hypothesis\\n\\n- Null Hypothesis (H0): The average weight of male college students is equal to or less than the average weight of female college students. u_male <= u_female\\n\\n- Alternative Hypothesis (H1): The average weight of male college students is greater than the average weight of female college students. u_male > u_female\")"
   ]
  },
  {
   "cell_type": "code",
   "execution_count": 3,
   "id": "d1df9ed2-11b4-4744-95dc-5e2b97a85f4e",
   "metadata": {},
   "outputs": [
    {
     "name": "stdout",
     "output_type": "stream",
     "text": [
      "Q5. Write a Python script to conduct a hypothesis test on the difference between two population means, given a sample from each population.\n",
      "\n",
      "Ans.\n"
     ]
    }
   ],
   "source": [
    "print(\"Q5. Write a Python script to conduct a hypothesis test on the difference between two population means, given a sample from each population.\\n\\nAns.\")"
   ]
  },
  {
   "cell_type": "code",
   "execution_count": 4,
   "id": "c32363d1-d67f-4683-9f0d-da22c5c7878c",
   "metadata": {},
   "outputs": [
    {
     "name": "stdout",
     "output_type": "stream",
     "text": [
      "T-statistic: 1.0\n",
      "P-value: 0.34659350708733416\n",
      "Fail to reject the null hypothesis. There is no significant difference between the two population means.\n"
     ]
    }
   ],
   "source": [
    "import scipy.stats as stats\n",
    "\n",
    "def hypothesis_test(sample1, sample2, alpha=0.05):\n",
    "   \n",
    "    #the t-test for the means of two independent samples\n",
    "    t_statistic, p_value = stats.ttest_ind(sample1, sample2)\n",
    "    \n",
    "    # Determine if we reject the null hypothesis\n",
    "    if p_value < alpha:\n",
    "        conclusion = \"Reject the null hypothesis. There is a significant difference between the two population means.\"\n",
    "    else:\n",
    "        conclusion = \"Fail to reject the null hypothesis. There is no significant difference between the two population means.\"\n",
    "    \n",
    "    return t_statistic, p_value, conclusion\n",
    "\n",
    "sample1 = [70, 75, 80, 85, 90]  # Sample data male students \n",
    "sample2 = [65, 70, 75, 80, 85]  # Sample data female students\n",
    "\n",
    "t_stat, p_val, result = hypothesis_test(sample1, sample2)\n",
    "print(f\"T-statistic: {t_stat}\")\n",
    "print(f\"P-value: {p_val}\")\n",
    "print(result)\n"
   ]
  },
  {
   "cell_type": "code",
   "execution_count": 1,
   "id": "7bb59bd6-48c4-45f3-8790-5cf20c0e669b",
   "metadata": {},
   "outputs": [
    {
     "name": "stdout",
     "output_type": "stream",
     "text": [
      "Q6: What is a null and alternative hypothesis? Give some examples.\n",
      "\n",
      "Ans.A null hypothesis (H₀) states there is no effect or no difference, while an alternative hypothesis (H₁) suggests there is an effect or a difference.\n",
      "\n",
      "1. Medical Research:\n",
      "   - H₀: A new drug has no effect on blood pressure.\n",
      "   - H₁: A new drug lowers blood pressure.\n",
      "\n",
      "2. Education:\n",
      "   - H₀: No difference in test scores between study methods.\n",
      "   - H₁: New study method improves test scores.\n",
      "\n",
      "3. Business:\n",
      "   - H₀: Marketing campaign does not increase sales.\n",
      "   - H₁: Marketing campaign increases sales.\n"
     ]
    }
   ],
   "source": [
    "print(\"Q6: What is a null and alternative hypothesis? Give some examples.\\n\\nAns.A null hypothesis (H₀) states there is no effect or no difference, while an alternative hypothesis (H₁) suggests there is an effect or a difference.\\n\\n1. Medical Research:\\n   - H₀: A new drug has no effect on blood pressure.\\n   - H₁: A new drug lowers blood pressure.\\n\\n2. Education:\\n   - H₀: No difference in test scores between study methods.\\n   - H₁: New study method improves test scores.\\n\\n3. Business:\\n   - H₀: Marketing campaign does not increase sales.\\n   - H₁: Marketing campaign increases sales.\")"
   ]
  },
  {
   "cell_type": "code",
   "execution_count": 3,
   "id": "975e6980-d976-4b78-8d86-d2556908f559",
   "metadata": {},
   "outputs": [
    {
     "name": "stdout",
     "output_type": "stream",
     "text": [
      "Q7: Write down the steps involved in hypothesis testing.\n",
      "\n",
      "Ans.Steps in Hypothesis Testing:\n",
      "\n",
      "1. State Hypotheses: Formulate H₀ and H₁.\n",
      "2. Choose Significance Level (α): Commonly 0.05 or 0.01.\n",
      "3. Select Test Statistic: Based on data and test type.\n",
      "4. Calculate Test Statistic: Compute from sample data.\n",
      "5. Determine Critical Value: From significance level and distribution.\n",
      "6. Compare and Decide: Reject H₀ if test statistic is in the critical region or p-value < α.\n"
     ]
    }
   ],
   "source": [
    "print(\"Q7: Write down the steps involved in hypothesis testing.\\n\\nAns.Steps in Hypothesis Testing:\\n\\n1. State Hypotheses: Formulate H₀ and H₁.\\n2. Choose Significance Level (α): Commonly 0.05 or 0.01.\\n3. Select Test Statistic: Based on data and test type.\\n4. Calculate Test Statistic: Compute from sample data.\\n5. Determine Critical Value: From significance level and distribution.\\n6. Compare and Decide: Reject H₀ if test statistic is in the critical region or p-value < α.\")"
   ]
  },
  {
   "cell_type": "code",
   "execution_count": 4,
   "id": "04ba94a2-dee6-421e-850e-82488083157e",
   "metadata": {},
   "outputs": [
    {
     "name": "stdout",
     "output_type": "stream",
     "text": [
      "Q8. Define p-value and explain its significance in hypothesis testing.\n",
      "\n",
      "Ans.A p-value is the probability of obtaining test results at least as extreme as the observed data, assuming the null hypothesis (H₀) is true. \n",
      "\n",
      "- Low p-value (< α): Indicates strong evidence against H₀, leading to its rejection.\n",
      "- High p-value (≥ α): Indicates weak evidence against H₀, leading to its acceptance.\n",
      "The p-value helps determine the statistical significance of the test results.\n"
     ]
    }
   ],
   "source": [
    "print(\"Q8. Define p-value and explain its significance in hypothesis testing.\\n\\nAns.A p-value is the probability of obtaining test results at least as extreme as the observed data, assuming the null hypothesis (H₀) is true. \\n\\n- Low p-value (< α): Indicates strong evidence against H₀, leading to its rejection.\\n- High p-value (≥ α): Indicates weak evidence against H₀, leading to its acceptance.\\nThe p-value helps determine the statistical significance of the test results.\")"
   ]
  },
  {
   "cell_type": "code",
   "execution_count": 1,
   "id": "d1d1b847-fb4b-4e47-bea7-2d0b97447e3c",
   "metadata": {},
   "outputs": [
    {
     "name": "stdout",
     "output_type": "stream",
     "text": [
      "Q9. Generate a Student's t-distribution plot using Python's matplotlib library, with the degrees of freedom parameter set to 10.\n",
      "\n",
      "Ans.\n"
     ]
    }
   ],
   "source": [
    "print(\"Q9. Generate a Student's t-distribution plot using Python's matplotlib library, with the degrees of freedom parameter set to 10.\\n\\nAns.\")"
   ]
  },
  {
   "cell_type": "code",
   "execution_count": 4,
   "id": "80aaa340-77f8-4244-a22b-ea11f1845f06",
   "metadata": {},
   "outputs": [
    {
     "data": {
      "image/png": "[encoded data removed]",
      "text/plain": [
       "<Figure size 640x480 with 1 Axes>"
      ]
     },
     "metadata": {},
     "output_type": "display_data"
    }
   ],
   "source": [
    "import matplotlib.pyplot as plt\n",
    "import numpy as np\n",
    "from scipy.stats import t\n",
    "\n",
    "# Parameters\n",
    "df = 10  # Degrees of freedom\n",
    "x = np.linspace(-5, 5, 500)\n",
    "y = t.pdf(x, df)\n",
    "\n",
    "plt.plot(x, y, label=f\"Student's t-distribution (df={df})\")\n",
    "plt.title(\"Student's t-distribution\")\n",
    "plt.xlabel(\"x\")\n",
    "plt.ylabel(\"Probability Density\")\n",
    "plt.legend()\n",
    "plt.grid(True)\n",
    "plt.show()"
   ]
  },
  {
   "cell_type": "code",
   "execution_count": 5,
   "id": "0e593c0d-67cb-4128-a21c-d016a72231c9",
   "metadata": {},
   "outputs": [
    {
     "name": "stdout",
     "output_type": "stream",
     "text": [
      "Q10. Write a Python program to calculate the two-sample t-test for independent samples, given two random samples of equal size and a null hypothesis that the population means are equal.\n",
      "\n",
      "Ans.\n"
     ]
    }
   ],
   "source": [
    "print(\"Q10. Write a Python program to calculate the two-sample t-test for independent samples, given two random samples of equal size and a null hypothesis that the population means are equal.\\n\\nAns.\")"
   ]
  },
  {
   "cell_type": "code",
   "execution_count": 6,
   "id": "df928f0e-0c17-4d88-acf3-f2460626d5a9",
   "metadata": {},
   "outputs": [
    {
     "name": "stdout",
     "output_type": "stream",
     "text": [
      "T-statistic: 0.8897019207505096\n",
      "P-value: 0.3773014533943507\n"
     ]
    }
   ],
   "source": [
    "import numpy as np\n",
    "from scipy.stats import ttest_ind\n",
    "\n",
    "# Generate two random samples of equal size\n",
    "np.random.seed(0)  # For reproducibility\n",
    "sample1 = np.random.normal(loc=50, scale=10, size=30)  # Mean=50, Std=10, Sample Size=30\n",
    "sample2 = np.random.normal(loc=55, scale=10, size=30)  \n",
    "t_statistic, p_value = ttest_ind(sample1, sample2)\n",
    "\n",
    "print(f\"T-statistic: {t_statistic}\")\n",
    "print(f\"P-value: {p_value}\")\n"
   ]
  },
  {
   "cell_type": "code",
   "execution_count": 1,
   "id": "aef1d99e-1537-47ee-af28-c53db81675c6",
   "metadata": {},
   "outputs": [
    {
     "name": "stdout",
     "output_type": "stream",
     "text": [
      "Q11: What is Student’s t distribution? When to use the t-Distribution.\n",
      "\n",
      "Ans.Student's t-distribution is a probability distribution used in statistics to estimate population parameters when the sample size is small and/or the population variance is unknown. It is similar to the normal distribution but has heavier tails, meaning it is more prone to producing values that fall far from its mean.- Small Sample Sizes: Typically when the sample size n < 30 .\n",
      "- Unknown Population Variance: When the population standard deviation is unknown and needs to be estimated from the sample.\n",
      "- Estimating Mean: When performing hypothesis tests or constructing confidence intervals for the mean of a normally distributed population.\n",
      "- Paired Sample Tests: When comparing the means of two related groups.\n",
      "The t-distribution is particularly useful in real-world applications where data sets are often small and the true population parameters are not known.\n"
     ]
    }
   ],
   "source": [
    "print(\"Q11: What is Student’s t distribution? When to use the t-Distribution.\\n\\nAns.Student's t-distribution is a probability distribution used in statistics to estimate population parameters when the sample size is small and/or the population variance is unknown. It is similar to the normal distribution but has heavier tails, meaning it is more prone to producing values that fall far from its mean.- Small Sample Sizes: Typically when the sample size n < 30 .\\n- Unknown Population Variance: When the population standard deviation is unknown and needs to be estimated from the sample.\\n- Estimating Mean: When performing hypothesis tests or constructing confidence intervals for the mean of a normally distributed population.\\n- Paired Sample Tests: When comparing the means of two related groups.\\nThe t-distribution is particularly useful in real-world applications where data sets are often small and the true population parameters are not known.\")"
   ]
  },
  {
   "cell_type": "code",
   "execution_count": 1,
   "id": "969a02ae-2b5c-48a9-9b9a-2b5b01119cdf",
   "metadata": {},
   "outputs": [
    {
     "name": "stdout",
     "output_type": "stream",
     "text": [
      "Q12: What is t-statistic? State the formula for t-statistic.\n",
      "\n",
      "Ans.The t-statistic is a value derived from a sample data set used in hypothesis testing to determine if there is a significant difference between the sample mean and the population mean, or between the means of two samples. It is especially useful when the population standard deviation is unknown and the sample size is small.Understood, here are the formulas without any bold text:\n",
      "\n",
      "t = (X̄ - μ) / (s / √n)\n",
      "\n",
      "Where:\n",
      "- X̄ is the sample mean\n",
      "- μ is the population mean (under the null hypothesis)\n",
      "- s is the sample standard deviation\n",
      "- n is the sample\n",
      "\n",
      "size\n",
      "t = (X̄1 - X̄2) / √((s1² / n1) + (s2² / n2))\n",
      "\n",
      "Where:\n",
      "- X̄1 and X̄2 are the sample means of the two groups\n",
      "- s1 and s2 are the sample standard deviations of the two groups\n",
      "- n1 and n2 are the sample sizes of the two groups\n"
     ]
    }
   ],
   "source": [
    "print(\"Q12: What is t-statistic? State the formula for t-statistic.\\n\\nAns.The t-statistic is a value derived from a sample data set used in hypothesis testing to determine if there is a significant difference between the sample mean and the population mean, or between the means of two samples. It is especially useful when the population standard deviation is unknown and the sample size is small.Understood, here are the formulas without any bold text:\\n\\nt = (X̄ - μ) / (s / √n)\\n\\nWhere:\\n- X̄ is the sample mean\\n- μ is the population mean (under the null hypothesis)\\n- s is the sample standard deviation\\n- n is the sample\\n\\nsize\\nt = (X̄1 - X̄2) / √((s1² / n1) + (s2² / n2))\\n\\nWhere:\\n- X̄1 and X̄2 are the sample means of the two groups\\n- s1 and s2 are the sample standard deviations of the two groups\\n- n1 and n2 are the sample sizes of the two groups\")"
   ]
  },
  {
   "cell_type": "code",
   "execution_count": 2,
   "id": "7eb01a1a-b121-40f6-8777-02d7e01788e5",
   "metadata": {},
   "outputs": [
    {
     "name": "stdout",
     "output_type": "stream",
     "text": [
      "Q13. A coffee shop owner wants to estimate the average daily revenue for their shop. They take a random sample of 50 days and find the sample mean revenue to be $500 with a standard deviation of $50. Estimate the population mean revenue with a 95% confidence interval.\n",
      "\n",
      "Ans.\n"
     ]
    }
   ],
   "source": [
    "print(\"Q13. A coffee shop owner wants to estimate the average daily revenue for their shop. They take a random sample of 50 days and find the sample mean revenue to be $500 with a standard deviation of $50. Estimate the population mean revenue with a 95% confidence interval.\\n\\nAns.\")"
   ]
  },
  {
   "cell_type": "code",
   "execution_count": 3,
   "id": "a51d4e1c-ff59-4907-afc6-8a3b50b55ff5",
   "metadata": {},
   "outputs": [
    {
     "name": "stdout",
     "output_type": "stream",
     "text": [
      "95% Confidence Interval: (485.79, 514.21)\n"
     ]
    }
   ],
   "source": [
    "import scipy.stats as stats\n",
    "import math\n",
    "\n",
    "# Given data\n",
    "sample_mean = 500\n",
    "sample_std_dev = 50\n",
    "sample_size = 50\n",
    "confidence_level = 0.95\n",
    "\n",
    "# Degrees of freedom\n",
    "df = sample_size - 1\n",
    "\n",
    "# t-value for 95% confidence level and 49 degrees of freedom\n",
    "t_value = stats.t.ppf((1 + confidence_level) / 2, df)\n",
    "\n",
    "# Margin of Error (combined calculation)\n",
    "margin_of_error = t_value * (sample_std_dev / math.sqrt(sample_size))\n",
    "\n",
    "# Confidence Interval\n",
    "lower_limit = sample_mean - margin_of_error\n",
    "upper_limit = sample_mean + margin_of_error\n",
    "\n",
    "print(\"95% Confidence Interval: ({:.2f}, {:.2f})\".format(lower_limit, upper_limit))"
   ]
  },
  {
   "cell_type": "code",
   "execution_count": 4,
   "id": "1497fa64-9fb7-4a7c-9998-48ae40da2adf",
   "metadata": {},
   "outputs": [
    {
     "name": "stdout",
     "output_type": "stream",
     "text": [
      "Q14. A researcher hypothesizes that a new drug will decrease blood pressure by 10 mmHg. They conduct a clinical trial with 100 patients and find that the sample mean decrease in blood pressure is 8 mmHg with a standard deviation of 3 mmHg. Test the hypothesis with a significance level of 0.05.\n",
      "\n",
      "Ans.\n"
     ]
    }
   ],
   "source": [
    "print(\"Q14. A researcher hypothesizes that a new drug will decrease blood pressure by 10 mmHg. They conduct a clinical trial with 100 patients and find that the sample mean decrease in blood pressure is 8 mmHg with a standard deviation of 3 mmHg. Test the hypothesis with a significance level of 0.05.\\n\\nAns.\")"
   ]
  },
  {
   "cell_type": "code",
   "execution_count": 5,
   "id": "85cd7d5a-8a86-44ec-8361-1bb7f1d03c6e",
   "metadata": {},
   "outputs": [
    {
     "name": "stdout",
     "output_type": "stream",
     "text": [
      "t-statistic: -6.666666666666667\n",
      "Critical t-value: 1.9842169515086827\n",
      "p-value: 1.5012289189542116e-09\n",
      "Reject the null hypothesis.\n"
     ]
    }
   ],
   "source": [
    "import scipy.stats as stats\n",
    "import math\n",
    "\n",
    "# Given data\n",
    "sample_mean = 8\n",
    "population_mean = 10\n",
    "sample_std_dev = 3\n",
    "sample_size = 100\n",
    "significance_level = 0.05\n",
    "\n",
    "# Calculate the t-statistic\n",
    "t_statistic = (sample_mean - population_mean) / (sample_std_dev / math.sqrt(sample_size))\n",
    "\n",
    "# Degrees of freedom\n",
    "df = sample_size - 1\n",
    "\n",
    "# Critical t-value for a two-tailed test at the 0.05 significance level\n",
    "critical_t_value = stats.t.ppf(1 - significance_level / 2, df)\n",
    "\n",
    "# Determine the p-value\n",
    "p_value = 2 * (1 - stats.t.cdf(abs(t_statistic), df))\n",
    "\n",
    "# Output results\n",
    "print(\"t-statistic:\", t_statistic)\n",
    "print(\"Critical t-value:\", critical_t_value)\n",
    "print(\"p-value:\", p_value)\n",
    "\n",
    "# Decision\n",
    "if abs(t_statistic) > critical_t_value:\n",
    "    print(\"Reject the null hypothesis.\")\n",
    "else:\n",
    "    print(\"Fail to reject the null hypothesis.\")"
   ]
  },
  {
   "cell_type": "code",
   "execution_count": 2,
   "id": "70f8b584-ce4c-4b11-8e0e-17665d5efa80",
   "metadata": {},
   "outputs": [
    {
     "name": "stdout",
     "output_type": "stream",
     "text": [
      "Q15. An electronics company produces a certain type of product with a mean weight of 5 pounds and a standard deviation of 0.5 pounds. A random sample of 25 products is taken, and the sample mean weight is found to be 4.8 pounds. Test the hypothesis that the true mean weight of the products is less than 5 pounds with a significance level of 0.01.\n",
      "\n",
      "Ans.\n"
     ]
    }
   ],
   "source": [
    "print(\"Q15. An electronics company produces a certain type of product with a mean weight of 5 pounds and a standard deviation of 0.5 pounds. A random sample of 25 products is taken, and the sample mean weight is found to be 4.8 pounds. Test the hypothesis that the true mean weight of the products is less than 5 pounds with a significance level of 0.01.\\n\\nAns.\")"
   ]
  },
  {
   "cell_type": "code",
   "execution_count": 4,
   "id": "5548f44b-626c-4607-be33-f6cbdf4b4410",
   "metadata": {},
   "outputs": [
    {
     "name": "stdout",
     "output_type": "stream",
     "text": [
      "t-statistic: -2.0000000000000018\n",
      "Critical t-value: -2.4921594731575762\n",
      "p-value: 0.02846992496829572\n",
      "Fail to reject the null hypothesis.\n"
     ]
    }
   ],
   "source": [
    "#mean weight of 5 pounds\n",
    "#standard deviation of 0.5 pounds\n",
    "#sample of 25 products \n",
    "#sample mean weight is found to be 4.8 pounds\n",
    "#significance level of 0.01.\n",
    "import scipy.stats as stats\n",
    "import math\n",
    "population_mean = 5\n",
    "sample_mean = 4.8\n",
    "sample_std_dev = 0.5\n",
    "sample_size = 25\n",
    "significance_level = 0.01\n",
    "\n",
    "# Calculate the t-statistic\n",
    "t_statistic = (sample_mean - population_mean) / (sample_std_dev / math.sqrt(sample_size))\n",
    "\n",
    "# Degrees of freedom\n",
    "df = sample_size - 1\n",
    "\n",
    "# Critical t-value for a one-tailed test at the 0.01 significance level\n",
    "critical_t_value = stats.t.ppf(significance_level, df)\n",
    "\n",
    "# Determine the p-value\n",
    "p_value = stats.t.cdf(t_statistic, df)\n",
    "\n",
    "# Output results\n",
    "print(\"t-statistic:\", t_statistic)\n",
    "print(\"Critical t-value:\", critical_t_value)\n",
    "print(\"p-value:\", p_value)\n",
    "\n",
    "# Decision\n",
    "if t_statistic < critical_t_value:\n",
    "    print(\"Reject the null hypothesis.\")\n",
    "else:\n",
    "    print(\"Fail to reject the null hypothesis.\")\n"
   ]
  },
  {
   "cell_type": "code",
   "execution_count": 5,
   "id": "d04ed89b-6c66-4ffb-866c-53fb4d647963",
   "metadata": {},
   "outputs": [
    {
     "name": "stdout",
     "output_type": "stream",
     "text": [
      "Q16. Two groups of students are given different study materials to prepare for a test. The first group (n1 = 30) has a mean score of 80 with a standard deviation of 10, and the second group (n2 = 40) has a mean score of 75 with a standard deviation of 8. Test the hypothesis that the population means for the two groups are equal with a significance level of 0.01.\n",
      "\n",
      "Ans.\n"
     ]
    }
   ],
   "source": [
    "print(\"Q16. Two groups of students are given different study materials to prepare for a test. The first group (n1 = 30) has a mean score of 80 with a standard deviation of 10, and the second group (n2 = 40) has a mean score of 75 with a standard deviation of 8. Test the hypothesis that the population means for the two groups are equal with a significance level of 0.01.\\n\\nAns.\")"
   ]
  },
  {
   "cell_type": "code",
   "execution_count": 6,
   "id": "b079ae18-daa8-4d95-8732-3cbf868a2903",
   "metadata": {},
   "outputs": [
    {
     "name": "stdout",
     "output_type": "stream",
     "text": [
      "t-statistic: 2.2511258444537408\n",
      "Degrees of freedom: 54.230639907533885\n",
      "Critical t-value: 2.6695708569864056\n",
      "p-value: 0.02845213338800101\n",
      "Fail to reject the null hypothesis.\n"
     ]
    }
   ],
   "source": [
    "import scipy.stats as stats\n",
    "import math\n",
    "\n",
    "n1 = 30\n",
    "mean1 = 80\n",
    "std_dev1 = 10\n",
    "n2 = 40\n",
    "mean2 = 75\n",
    "std_dev2 = 8\n",
    "significance_level = 0.01\n",
    "\n",
    "# Calculate t-statistic\n",
    "pooled_se = math.sqrt((std_dev1**2 / n1) + (std_dev2**2 / n2))\n",
    "t_statistic = (mean1 - mean2) / pooled_se\n",
    "\n",
    "# Calculate degrees of freedom\n",
    "df = ((std_dev1**2 / n1) + (std_dev2**2 / n2))**2 / \\\n",
    "     (((std_dev1**2 / n1)**2 / (n1 - 1)) + ((std_dev2**2 / n2)**2 / (n2 - 1)))\n",
    "\n",
    "# Critical t-value for a two-tailed test at the 0.01 significance level\n",
    "critical_t_value = stats.t.ppf(1 - significance_level / 2, df)\n",
    "\n",
    "# p-value\n",
    "p_value = 2 * (1 - stats.t.cdf(abs(t_statistic), df))\n",
    "\n",
    "# results\n",
    "print(\"t-statistic:\", t_statistic)\n",
    "print(\"Degrees of freedom:\", df)\n",
    "print(\"Critical t-value:\", critical_t_value)\n",
    "print(\"p-value:\", p_value)\n",
    "\n",
    "# Decision\n",
    "if abs(t_statistic) > critical_t_value:\n",
    "    print(\"Reject the null hypothesis.\")\n",
    "else:\n",
    "    print(\"Fail to reject the null hypothesis.\")\n"
   ]
  },
  {
   "cell_type": "code",
   "execution_count": 7,
   "id": "f3e19fb6-ec6f-4141-aef0-206311c4bfb5",
   "metadata": {},
   "outputs": [
    {
     "name": "stdout",
     "output_type": "stream",
     "text": [
      "Q17. A marketing company wants to estimate the average number of ads watched by viewers during a TV program. They take a random sample of 50 viewers and find that the sample mean is 4 with a standard deviation of 1.5. Estimate the population mean with a 99% confidence interval.\n",
      "\n",
      "Ans.\n"
     ]
    }
   ],
   "source": [
    "print(\"Q17. A marketing company wants to estimate the average number of ads watched by viewers during a TV program. They take a random sample of 50 viewers and find that the sample mean is 4 with a standard deviation of 1.5. Estimate the population mean with a 99% confidence interval.\\n\\nAns.\")"
   ]
  },
  {
   "cell_type": "code",
   "execution_count": 8,
   "id": "ce90abd9-7bda-4405-bbab-6cfa8d047ea5",
   "metadata": {},
   "outputs": [
    {
     "name": "stdout",
     "output_type": "stream",
     "text": [
      "99% Confidence Interval for the Population Mean: (3.4535840896844654, 4.546415910315535)\n"
     ]
    }
   ],
   "source": [
    "import scipy.stats as stats\n",
    "\n",
    "# Given data\n",
    "sample_mean = 4\n",
    "sample_std = 1.5\n",
    "sample_size = 50\n",
    "confidence_level = 0.99\n",
    "\n",
    "# Calculate the critical value (Z)\n",
    "critical_value = stats.norm.ppf((1 + confidence_level) / 2)\n",
    "\n",
    "# Calculate the confidence interval\n",
    "margin_of_error = critical_value * (sample_std / (sample_size ** 0.5))\n",
    "lower_bound = sample_mean - margin_of_error\n",
    "upper_bound = sample_mean + margin_of_error\n",
    "\n",
    "# Confidence Interval\n",
    "confidence_interval = (lower_bound, upper_bound)\n",
    "print(\"99% Confidence Interval for the Population Mean:\", confidence_interval)\n"
   ]
  },
  {
   "cell_type": "code",
   "execution_count": null,
   "id": "c2887b44-3dfa-4221-8e0f-376fcb60e49e",
   "metadata": {},
   "outputs": [],
   "source": []
  }
 ],
 "metadata": {
  "kernelspec": {
   "display_name": "Python 3 (ipykernel)",
   "language": "python",
   "name": "python3"
  },
  "language_info": {
   "codemirror_mode": {
    "name": "ipython",
    "version": 3
   },
   "file_extension": ".py",
   "mimetype": "text/x-python",
   "name": "python",
   "nbconvert_exporter": "python",
   "pygments_lexer": "ipython3",
   "version": "3.10.8"
  }
 },
 "nbformat": 4,
 "nbformat_minor": 5
}
